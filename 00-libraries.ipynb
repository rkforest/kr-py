{
 "cells": [
  {
   "cell_type": "markdown",
   "id": "0bd71ea4",
   "metadata": {
    "tags": []
   },
   "source": [
    "<a id='lib'></a>\n",
    "# Libraries"
   ]
  },
  {
   "cell_type": "markdown",
   "id": "fabb0245-134a-4d56-bac4-e14dc6c4e42f",
   "metadata": {},
   "source": [
    "[Import](#lib-imp)  \n",
    "[Python Standard Library](#lib-py)  \n",
    "[Third Party Libraries](#lib-tp)  \n",
    "[User Defined Libraries](#lib-ud)  "
   ]
  },
  {
   "cell_type": "markdown",
   "id": "d511b2ac-1d52-4b62-8c4c-18adfcecd2e4",
   "metadata": {
    "toc-hr-collapsed": true
   },
   "source": [
    "<a id='lib-imp'></a>\n",
    "## Import"
   ]
  },
  {
   "cell_type": "markdown",
   "id": "1485edc5-413c-4b12-83e8-4d57ab57a2f1",
   "metadata": {},
   "source": [
    "- import module  \n",
    "- import module as alias\n",
    "- from module import name"
   ]
  },
  {
   "cell_type": "markdown",
   "id": "7b24633f-bedd-43bc-86e6-d7cde65b79f8",
   "metadata": {
    "tags": []
   },
   "source": [
    "<a id='lib-py'></a>\n",
    "## Python Standard Library"
   ]
  },
  {
   "cell_type": "markdown",
   "id": "6b172eeb-b90e-42d1-9e20-e4435824e76a",
   "metadata": {},
   "source": [
    "[Return to Start of Notebook](#lib)  "
   ]
  },
  {
   "cell_type": "markdown",
   "id": "9c248b4b-429d-4929-a1d2-baf3f842d31d",
   "metadata": {
    "tags": []
   },
   "source": [
    "Python has a standard libary with over 100 modules\n",
    "- os:  handle files and directories  \n",
    "- glob:  create lists of files and directories for batch processing  \n",
    "- calendar:  create month names and abbreviations  \n",
    "- warnings:  suppress warning messages \n",
    "- random: generate random numbers"
   ]
  },
  {
   "cell_type": "markdown",
   "id": "490e78ab-2f0f-4472-8e43-bccb3ccdeec0",
   "metadata": {},
   "source": [
    "https://docs.python.org/3/library/"
   ]
  },
  {
   "cell_type": "markdown",
   "id": "a294d6d2-6e77-492e-b051-acaa97e043b0",
   "metadata": {
    "toc-hr-collapsed": true
   },
   "source": [
    "### os"
   ]
  },
  {
   "cell_type": "code",
   "execution_count": 1,
   "id": "c51bdc2c-31bf-4d1f-959c-e01081d3e14c",
   "metadata": {},
   "outputs": [
    {
     "data": {
      "text/plain": [
       "module"
      ]
     },
     "execution_count": 1,
     "metadata": {},
     "output_type": "execute_result"
    }
   ],
   "source": [
    "import os\n",
    "type(os)"
   ]
  },
  {
   "cell_type": "code",
   "execution_count": 2,
   "id": "51f891dd-347f-462d-9465-570483b4a3b0",
   "metadata": {},
   "outputs": [
    {
     "name": "stdout",
     "output_type": "stream",
     "text": [
      "<class 'module'>\n",
      "<class 'function'>\n",
      "<class 'function'>\n",
      "<class 'builtin_function_or_method'>\n",
      "<class 'builtin_function_or_method'>\n"
     ]
    }
   ],
   "source": [
    "print(type(os.path))\n",
    "print(type(os.path.join))\n",
    "print(type(os.path.expanduser))\n",
    "print(type(os.chdir))\n",
    "print(type(os.getcwd))"
   ]
  },
  {
   "cell_type": "code",
   "execution_count": 13,
   "id": "eb10bcea-b4a5-485b-a63b-517d33e904f8",
   "metadata": {},
   "outputs": [],
   "source": [
    "home_dir = home_dir = os.path.expanduser(\"~\")\n",
    "\n",
    "libr_dir = os.path.join(home_dir, 'kr', 'libr','kr-py')\n",
    "data_dir = os.path.join(home_dir, 'kr', 'data')\n",
    "save_dir = os.path.join(home_dir, 'kr', 'save')"
   ]
  },
  {
   "cell_type": "code",
   "execution_count": 14,
   "id": "7e686878-b755-4e70-863b-07f1b06cad7d",
   "metadata": {},
   "outputs": [],
   "source": [
    "def create_directory(directory_name):\n",
    "    if not os.path.exists(directory_name):\n",
    "        os.mkdir(directory_name)"
   ]
  },
  {
   "cell_type": "code",
   "execution_count": 15,
   "id": "40278b48-debf-44ec-a3a4-b0da7185a8b3",
   "metadata": {},
   "outputs": [],
   "source": [
    "create_directory(libr_dir)\n",
    "create_directory(data_dir)\n",
    "create_directory(save_dir)"
   ]
  },
  {
   "cell_type": "code",
   "execution_count": 16,
   "id": "f144784c-1819-4a52-b941-54e3b204dc1f",
   "metadata": {},
   "outputs": [
    {
     "data": {
      "text/plain": [
       "'/Users/rkforest/kr/libr/kr-py'"
      ]
     },
     "execution_count": 16,
     "metadata": {},
     "output_type": "execute_result"
    }
   ],
   "source": [
    "os.chdir(libr_dir)\n",
    "os.getcwd()"
   ]
  },
  {
   "cell_type": "code",
   "execution_count": 17,
   "id": "d4ba8221-92e0-4dc4-aedc-085ada1667c6",
   "metadata": {},
   "outputs": [
    {
     "name": "stdout",
     "output_type": "stream",
     "text": [
      "['', 'Users', 'rkforest', 'kr', 'libr', 'kr-py']\n"
     ]
    }
   ],
   "source": [
    "cwd_path = os.path.normpath(os.getcwd())\n",
    "cwd_split = cwd_path.split(os.sep)\n",
    "print(cwd_split)"
   ]
  },
  {
   "cell_type": "markdown",
   "id": "3d8cfeb4-f071-4c02-9c81-eadc0fc969dd",
   "metadata": {
    "toc-hr-collapsed": true
   },
   "source": [
    "### glob"
   ]
  },
  {
   "cell_type": "code",
   "execution_count": 18,
   "id": "8b10082b-d7fa-4fee-a600-d4a777886e1a",
   "metadata": {},
   "outputs": [],
   "source": [
    "from glob import glob"
   ]
  },
  {
   "cell_type": "code",
   "execution_count": 19,
   "id": "dce29030-92f0-4fc1-a5bc-e15960865f46",
   "metadata": {},
   "outputs": [
    {
     "data": {
      "text/plain": [
       "['/Users/rkforest/kr/libr/kr-py/00-libraries.ipynb',\n",
       " '/Users/rkforest/kr/libr/kr-py/01-fundamentals.ipynb',\n",
       " '/Users/rkforest/kr/libr/kr-py/02-data-structures.ipynb',\n",
       " '/Users/rkforest/kr/libr/kr-py/03-control-flow.ipynb',\n",
       " '/Users/rkforest/kr/libr/kr-py/04-functions.ipynb']"
      ]
     },
     "execution_count": 19,
     "metadata": {},
     "output_type": "execute_result"
    }
   ],
   "source": [
    "paths =  sorted(glob(os.path.join(libr_dir, '*.ipynb')))\n",
    "paths"
   ]
  },
  {
   "cell_type": "code",
   "execution_count": 20,
   "id": "2d9d8815-5437-4bce-b194-45c1cd491105",
   "metadata": {},
   "outputs": [
    {
     "name": "stdout",
     "output_type": "stream",
     "text": [
      "00-libraries.ipynb\n",
      "01-fundamentals.ipynb\n",
      "02-data-structures.ipynb\n",
      "03-control-flow.ipynb\n",
      "04-functions.ipynb\n"
     ]
    }
   ],
   "source": [
    "for path in paths:\n",
    "    notebook_name = os.path.basename(path)\n",
    "    print(notebook_name)"
   ]
  },
  {
   "cell_type": "code",
   "execution_count": 22,
   "id": "d1af6882-c67e-47d0-9f0f-343989bea224",
   "metadata": {},
   "outputs": [
    {
     "data": {
      "text/plain": [
       "['/Users/rkforest/kr/libr/kr-py/temp_converter.py',\n",
       " '/Users/rkforest/kr/libr/kr-py/test_tc.py']"
      ]
     },
     "execution_count": 22,
     "metadata": {},
     "output_type": "execute_result"
    }
   ],
   "source": [
    "paths =  sorted(glob(os.path.join(libr_dir, '*.py')))\n",
    "paths"
   ]
  },
  {
   "cell_type": "code",
   "execution_count": 23,
   "id": "b9137114-fbb0-4b30-b73a-73032204ee2f",
   "metadata": {},
   "outputs": [
    {
     "name": "stdout",
     "output_type": "stream",
     "text": [
      "temp_converter.py\n",
      "test_tc.py\n"
     ]
    }
   ],
   "source": [
    "for path in paths:\n",
    "    module_name = os.path.basename(path)\n",
    "    print(module_name)"
   ]
  },
  {
   "cell_type": "markdown",
   "id": "2ceea764-e2c7-4f1f-86db-14e855ba3e2c",
   "metadata": {
    "toc-hr-collapsed": true
   },
   "source": [
    "### random"
   ]
  },
  {
   "cell_type": "code",
   "execution_count": 24,
   "id": "cde4e26d-c303-45ef-88ef-7e53cf5d4bd6",
   "metadata": {},
   "outputs": [],
   "source": [
    "import random"
   ]
  },
  {
   "cell_type": "markdown",
   "id": "fc02a1ce-e504-4a13-b307-0fb20c7bb859",
   "metadata": {},
   "source": [
    "#### .random()"
   ]
  },
  {
   "cell_type": "code",
   "execution_count": 25,
   "id": "8a04554f-9d17-4da9-964a-ff415376e308",
   "metadata": {},
   "outputs": [
    {
     "name": "stdout",
     "output_type": "stream",
     "text": [
      "0.6847616482229054\n"
     ]
    }
   ],
   "source": [
    "print(random.random()) # returns value between 0 and 1"
   ]
  },
  {
   "cell_type": "markdown",
   "id": "ca6dae2c-17f1-44a4-8e87-28c476225e7f",
   "metadata": {},
   "source": [
    "#### .randint()"
   ]
  },
  {
   "cell_type": "code",
   "execution_count": 26,
   "id": "9f911e5d-7440-4a24-8e20-59abfd598d72",
   "metadata": {},
   "outputs": [
    {
     "name": "stdout",
     "output_type": "stream",
     "text": [
      "1\n"
     ]
    }
   ],
   "source": [
    "print(random.randint(1,10))"
   ]
  },
  {
   "cell_type": "markdown",
   "id": "b0556578-db6f-469b-840a-eecda01ec90d",
   "metadata": {},
   "source": [
    "#### .uniform()"
   ]
  },
  {
   "cell_type": "code",
   "execution_count": 27,
   "id": "025c14b2-5084-4456-8570-8b20951786c3",
   "metadata": {},
   "outputs": [
    {
     "name": "stdout",
     "output_type": "stream",
     "text": [
      "5.2171601046918825\n"
     ]
    }
   ],
   "source": [
    "print(random.uniform(1,10)) # returns value between two numbers"
   ]
  },
  {
   "cell_type": "markdown",
   "id": "e0a026d1-3545-401c-beaf-931f10a0a7f9",
   "metadata": {},
   "source": [
    "#### .choice"
   ]
  },
  {
   "cell_type": "code",
   "execution_count": 28,
   "id": "4a701b14-8230-41d6-bc8e-5cc49488fd2e",
   "metadata": {},
   "outputs": [],
   "source": [
    "chars = ['a','b','c','d','e','f']"
   ]
  },
  {
   "cell_type": "code",
   "execution_count": 29,
   "id": "30b04c45-a72a-402f-bdde-16d889e6c79e",
   "metadata": {},
   "outputs": [
    {
     "name": "stdout",
     "output_type": "stream",
     "text": [
      "<class 'method'>\n"
     ]
    }
   ],
   "source": [
    "print(type(random.choice))"
   ]
  },
  {
   "cell_type": "code",
   "execution_count": 30,
   "id": "e162a6f9-df5f-42cd-86f4-dd6ef02a2c0f",
   "metadata": {},
   "outputs": [
    {
     "name": "stdout",
     "output_type": "stream",
     "text": [
      "d\n"
     ]
    }
   ],
   "source": [
    "print(random.choice(chars))"
   ]
  },
  {
   "cell_type": "markdown",
   "id": "63e2a65d-0d95-4baa-9b67-56855e26996c",
   "metadata": {},
   "source": [
    "#### .choices()"
   ]
  },
  {
   "cell_type": "code",
   "execution_count": 31,
   "id": "c8eebbe0-862d-423b-a862-74c839945093",
   "metadata": {},
   "outputs": [
    {
     "name": "stdout",
     "output_type": "stream",
     "text": [
      "['f', 'b', 'f', 'c']\n"
     ]
    }
   ],
   "source": [
    "print(random.choices(chars, k=4)) # replacement"
   ]
  },
  {
   "cell_type": "markdown",
   "id": "4100bd92-770e-48ab-9460-9a957fe043b3",
   "metadata": {},
   "source": [
    "#### .sample()"
   ]
  },
  {
   "cell_type": "code",
   "execution_count": 32,
   "id": "69c5da9c-8156-4ba2-a943-ea9600970e02",
   "metadata": {},
   "outputs": [
    {
     "name": "stdout",
     "output_type": "stream",
     "text": [
      "['d', 'c', 'f', 'e']\n"
     ]
    }
   ],
   "source": [
    "print(random.sample(chars, k=4)) # no replacement"
   ]
  },
  {
   "cell_type": "markdown",
   "id": "9d072eae-aa5b-401b-80be-fa9435178f8c",
   "metadata": {},
   "source": [
    "#### shuffle()"
   ]
  },
  {
   "cell_type": "code",
   "execution_count": 33,
   "id": "dd0161c6-0dc8-4f65-a8d0-50660f2f07bb",
   "metadata": {},
   "outputs": [
    {
     "data": {
      "text/plain": [
       "['a', 'e', 'c', 'f', 'd', 'b']"
      ]
     },
     "execution_count": 33,
     "metadata": {},
     "output_type": "execute_result"
    }
   ],
   "source": [
    "random.shuffle(chars)\n",
    "chars"
   ]
  },
  {
   "cell_type": "markdown",
   "id": "e00748aa-e1ce-463e-9615-dc13a836d370",
   "metadata": {},
   "source": [
    "### datetime"
   ]
  },
  {
   "cell_type": "code",
   "execution_count": 34,
   "id": "e37924c0-558f-4a23-a86b-bfcf229044ef",
   "metadata": {},
   "outputs": [],
   "source": [
    "import datetime"
   ]
  },
  {
   "cell_type": "markdown",
   "id": "207a3aac-af58-4e0b-8d1a-4ced494bc194",
   "metadata": {},
   "source": [
    "#### .today()"
   ]
  },
  {
   "cell_type": "code",
   "execution_count": 35,
   "id": "4ec21cd6-3178-4302-bda3-ce6ffe29064c",
   "metadata": {},
   "outputs": [],
   "source": [
    "today = datetime.datetime.now()"
   ]
  },
  {
   "cell_type": "markdown",
   "id": "28cb2435-fa95-47ac-ab60-252134540be8",
   "metadata": {},
   "source": [
    "#### .strftime()"
   ]
  },
  {
   "cell_type": "code",
   "execution_count": 36,
   "id": "7fa070c3-08ce-43c2-a2db-754a1835d9be",
   "metadata": {},
   "outputs": [
    {
     "name": "stdout",
     "output_type": "stream",
     "text": [
      "2023\n",
      "01\n",
      "January\n",
      "Jan\n",
      "27\n"
     ]
    }
   ],
   "source": [
    "print(today.strftime(\"%Y\"))\n",
    "print(today.strftime(\"%m\"))\n",
    "print(today.strftime(\"%B\"))\n",
    "print(today.strftime(\"%b\"))\n",
    "print(today.strftime(\"%d\"))"
   ]
  },
  {
   "cell_type": "markdown",
   "id": "7f9f7e14-5427-4f0d-8af3-bd7d3a962b6d",
   "metadata": {
    "tags": []
   },
   "source": [
    "#### constructors  \n",
    "- date  \n",
    "- time  \n",
    "- datetime  \n",
    "- timedelta  "
   ]
  },
  {
   "cell_type": "markdown",
   "id": "a763a8c6-d756-4bde-ad45-2e5786b936fc",
   "metadata": {
    "tags": [],
    "toc-hr-collapsed": true
   },
   "source": [
    "##### .date()"
   ]
  },
  {
   "cell_type": "code",
   "execution_count": 37,
   "id": "3a3fbf8a-c499-4c96-9fa3-09a0be206735",
   "metadata": {},
   "outputs": [
    {
     "name": "stdout",
     "output_type": "stream",
     "text": [
      "2022-05-31\n"
     ]
    }
   ],
   "source": [
    "d = datetime.date(2022, 5, 31)\n",
    "print(d)"
   ]
  },
  {
   "cell_type": "code",
   "execution_count": 38,
   "id": "fa8fcf0b-b00a-46b2-a472-f3bc2033f051",
   "metadata": {},
   "outputs": [
    {
     "name": "stdout",
     "output_type": "stream",
     "text": [
      "2022\n",
      "5\n",
      "31\n",
      "1\n",
      "2022-05-31\n"
     ]
    }
   ],
   "source": [
    "print(d.year)\n",
    "print(d.month)\n",
    "print(d.day)\n",
    "print(d.weekday())\n",
    "print(d.isoformat())"
   ]
  },
  {
   "cell_type": "markdown",
   "id": "2b8ade79-39a3-4019-9129-4ffda7b9c1f8",
   "metadata": {
    "toc-hr-collapsed": true
   },
   "source": [
    "##### .time()"
   ]
  },
  {
   "cell_type": "code",
   "execution_count": 39,
   "id": "a406a01b-b019-4410-976b-8978a7127a83",
   "metadata": {},
   "outputs": [],
   "source": [
    "t = datetime.time(12,40,55)"
   ]
  },
  {
   "cell_type": "code",
   "execution_count": 40,
   "id": "89f90279-07c9-4c52-913c-579052d6d809",
   "metadata": {},
   "outputs": [
    {
     "name": "stdout",
     "output_type": "stream",
     "text": [
      "12\n",
      "40\n",
      "55\n"
     ]
    }
   ],
   "source": [
    "print(t.hour)\n",
    "print(t.minute)\n",
    "print(t.second)"
   ]
  },
  {
   "cell_type": "markdown",
   "id": "1028a184-632f-4c53-b0a1-bae0702eccc7",
   "metadata": {
    "toc-hr-collapsed": true
   },
   "source": [
    "##### .datetime()"
   ]
  },
  {
   "cell_type": "code",
   "execution_count": 41,
   "id": "14880c2e-9346-4d28-b265-c7c5f8ed1560",
   "metadata": {},
   "outputs": [
    {
     "data": {
      "text/plain": [
       "datetime.datetime(2022, 5, 31, 12, 40, 55)"
      ]
     },
     "execution_count": 41,
     "metadata": {},
     "output_type": "execute_result"
    }
   ],
   "source": [
    "dt = datetime.datetime(2022, 5, 31, 12, 40, 55)\n",
    "dt"
   ]
  },
  {
   "cell_type": "code",
   "execution_count": 42,
   "id": "5d929966-fb28-4e80-8537-d52bb0754b13",
   "metadata": {},
   "outputs": [
    {
     "name": "stdout",
     "output_type": "stream",
     "text": [
      "2022\n",
      "5\n",
      "31\n",
      "12\n",
      "40\n",
      "55\n",
      "2022-05-31T12:40:55\n"
     ]
    }
   ],
   "source": [
    "print(dt.year)\n",
    "print(dt.month)\n",
    "print(dt.day)\n",
    "print(dt.hour)\n",
    "print(dt.minute)\n",
    "print(dt.second)\n",
    "print(dt.isoformat())"
   ]
  },
  {
   "cell_type": "markdown",
   "id": "a7c54d41-2335-42dc-a3dc-ba372d42417b",
   "metadata": {
    "toc-hr-collapsed": true
   },
   "source": [
    "##### .timedelta()"
   ]
  },
  {
   "cell_type": "code",
   "execution_count": 43,
   "id": "73381203-159d-42b5-981b-7ceac4aa4148",
   "metadata": {},
   "outputs": [],
   "source": [
    "td = datetime.timedelta(days = 7, hours = 17, seconds = 55)"
   ]
  },
  {
   "cell_type": "code",
   "execution_count": 44,
   "id": "390f2b91-43f8-4dfe-8474-d94a14246add",
   "metadata": {},
   "outputs": [
    {
     "data": {
      "text/plain": [
       "datetime.timedelta"
      ]
     },
     "execution_count": 44,
     "metadata": {},
     "output_type": "execute_result"
    }
   ],
   "source": [
    "type(td)"
   ]
  },
  {
   "cell_type": "code",
   "execution_count": 45,
   "id": "a01f4608-07ba-4e08-845c-ae8e823e7333",
   "metadata": {},
   "outputs": [
    {
     "data": {
      "text/plain": [
       "666055.0"
      ]
     },
     "execution_count": 45,
     "metadata": {},
     "output_type": "execute_result"
    }
   ],
   "source": [
    "td.total_seconds()"
   ]
  },
  {
   "cell_type": "code",
   "execution_count": 46,
   "id": "e4ff0256-3f49-4196-8e05-097c2dbda0c8",
   "metadata": {},
   "outputs": [
    {
     "data": {
      "text/plain": [
       "datetime.datetime(2022, 6, 8, 5, 41, 50)"
      ]
     },
     "execution_count": 46,
     "metadata": {},
     "output_type": "execute_result"
    }
   ],
   "source": [
    "dt + td"
   ]
  },
  {
   "cell_type": "code",
   "execution_count": 47,
   "id": "e3f868a6-20f7-4d2b-821d-fa383a17d675",
   "metadata": {},
   "outputs": [
    {
     "data": {
      "text/plain": [
       "datetime.datetime(2022, 5, 23, 19, 40)"
      ]
     },
     "execution_count": 47,
     "metadata": {},
     "output_type": "execute_result"
    }
   ],
   "source": [
    "dt - td"
   ]
  },
  {
   "cell_type": "markdown",
   "id": "df8dc150-91c3-4017-a374-8d01e20effe6",
   "metadata": {
    "toc-hr-collapsed": true
   },
   "source": [
    "### calendar"
   ]
  },
  {
   "cell_type": "code",
   "execution_count": 48,
   "id": "825fc2d8-d754-45b6-8db7-e0f10e2b6f22",
   "metadata": {},
   "outputs": [],
   "source": [
    "import calendar"
   ]
  },
  {
   "cell_type": "code",
   "execution_count": 51,
   "id": "029ea6ed-c673-4055-aff9-4bd2354564f8",
   "metadata": {},
   "outputs": [
    {
     "name": "stdout",
     "output_type": "stream",
     "text": [
      "['January', 'February', 'March', 'April', 'May', 'June', 'July', 'August', 'September', 'October', 'November', 'December']\n"
     ]
    }
   ],
   "source": [
    "month_names = [month for month in calendar.month_name if month != '']\n",
    "print(month_names)"
   ]
  },
  {
   "cell_type": "code",
   "execution_count": 50,
   "id": "e587de11-04cc-4443-b0b9-3c9a88afb6fd",
   "metadata": {},
   "outputs": [
    {
     "name": "stdout",
     "output_type": "stream",
     "text": [
      "['Jan', 'Feb', 'Mar', 'Apr', 'May', 'Jun', 'Jul', 'Aug', 'Sep', 'Oct', 'Nov', 'Dec']\n"
     ]
    }
   ],
   "source": [
    "month_abbr = [month for month in calendar.month_abbr if month != '']\n",
    "print(month_abbr)"
   ]
  },
  {
   "cell_type": "code",
   "execution_count": 52,
   "id": "9490498c-99c0-4f2a-9567-f3e8ed110963",
   "metadata": {},
   "outputs": [
    {
     "name": "stdout",
     "output_type": "stream",
     "text": [
      "('Jan', 'Feb', 'Mar', 'Apr', 'May', 'Jun', 'Jul', 'Aug', 'Sep', 'Oct', 'Nov', 'Dec')\n"
     ]
    }
   ],
   "source": [
    "month_abbr = tuple([month for month in calendar.month_abbr if month != ''])\n",
    "print(month_abbr)"
   ]
  },
  {
   "cell_type": "markdown",
   "id": "ba25a0b1-c670-4409-a8af-1478c489e0fa",
   "metadata": {
    "tags": [],
    "toc-hr-collapsed": true
   },
   "source": [
    "### time"
   ]
  },
  {
   "cell_type": "markdown",
   "id": "5ec906f0-5ed8-4a7c-b655-57cdec3e3663",
   "metadata": {},
   "source": [
    "- time: number of seconds since Jan 1, 1970  \n",
    "- sleep: number of seconds to pause execution"
   ]
  },
  {
   "cell_type": "code",
   "execution_count": 53,
   "id": "b1af831c-5b3d-4ffe-9ed4-6e49de604d84",
   "metadata": {},
   "outputs": [],
   "source": [
    "import time"
   ]
  },
  {
   "cell_type": "code",
   "execution_count": 54,
   "id": "ed1baea8-8ae1-4652-80dc-fa6f18a96d40",
   "metadata": {},
   "outputs": [
    {
     "data": {
      "text/plain": [
       "1674875995.569361"
      ]
     },
     "execution_count": 54,
     "metadata": {},
     "output_type": "execute_result"
    }
   ],
   "source": [
    "time.time()"
   ]
  },
  {
   "cell_type": "code",
   "execution_count": 55,
   "id": "00f26854-216d-4492-bd6e-263c37da8062",
   "metadata": {},
   "outputs": [
    {
     "name": "stdout",
     "output_type": "stream",
     "text": [
      "hello\n",
      "world\n"
     ]
    }
   ],
   "source": [
    "print('hello')\n",
    "time.sleep(3)\n",
    "print('world')"
   ]
  },
  {
   "cell_type": "markdown",
   "id": "f838f76e-9c51-4142-bcba-9bded6e788ff",
   "metadata": {
    "tags": [],
    "toc-hr-collapsed": true
   },
   "source": [
    "### collections"
   ]
  },
  {
   "cell_type": "code",
   "execution_count": 56,
   "id": "7fb4c2c9-0bea-4970-80d5-1868a8c06406",
   "metadata": {},
   "outputs": [],
   "source": [
    "from collections import defaultdict"
   ]
  },
  {
   "cell_type": "code",
   "execution_count": 57,
   "id": "8303e54b-49c7-4c5e-8f04-91672cf772d4",
   "metadata": {},
   "outputs": [],
   "source": [
    "from collections import Counter"
   ]
  },
  {
   "cell_type": "code",
   "execution_count": 58,
   "id": "03f5617a-ef3c-4b7b-915a-0fd0af0fae32",
   "metadata": {},
   "outputs": [],
   "source": [
    "string = 'abcdeabcdabcaba'"
   ]
  },
  {
   "cell_type": "code",
   "execution_count": 59,
   "id": "9beea4b3-64be-47a3-9820-ca1450eccfeb",
   "metadata": {},
   "outputs": [
    {
     "data": {
      "text/plain": [
       "{'a': 5, 'b': 4, 'c': 3, 'd': 2, 'e': 1}"
      ]
     },
     "execution_count": 59,
     "metadata": {},
     "output_type": "execute_result"
    }
   ],
   "source": [
    "d = {}\n",
    "for char in string:\n",
    "    if char not in d:\n",
    "        d[char] = 1\n",
    "    else:\n",
    "        d[char] += 1\n",
    "d   "
   ]
  },
  {
   "cell_type": "code",
   "execution_count": 60,
   "id": "e05e2cf0-7214-4c7c-b058-fcea16dc7f55",
   "metadata": {},
   "outputs": [
    {
     "data": {
      "text/plain": [
       "defaultdict(int, {'a': 5, 'b': 4, 'c': 3, 'd': 2, 'e': 1})"
      ]
     },
     "execution_count": 60,
     "metadata": {},
     "output_type": "execute_result"
    }
   ],
   "source": [
    "dd = defaultdict(int)\n",
    "for char in string:\n",
    "    dd[char] += 1\n",
    "dd"
   ]
  },
  {
   "cell_type": "code",
   "execution_count": 61,
   "id": "19f16f8a-c53e-474a-af34-0fa0d91abe00",
   "metadata": {},
   "outputs": [],
   "source": [
    "ct = Counter(string)"
   ]
  },
  {
   "cell_type": "code",
   "execution_count": 62,
   "id": "7abfe9cd-8928-4604-a291-ab3791077247",
   "metadata": {},
   "outputs": [
    {
     "data": {
      "text/plain": [
       "[('a', 5), ('b', 4), ('c', 3)]"
      ]
     },
     "execution_count": 62,
     "metadata": {},
     "output_type": "execute_result"
    }
   ],
   "source": [
    "ct.most_common(3)"
   ]
  },
  {
   "cell_type": "markdown",
   "id": "884ddadc-4e3c-4078-b37a-925a410be910",
   "metadata": {
    "tags": [],
    "toc-hr-collapsed": true
   },
   "source": [
    "### deepcopy"
   ]
  },
  {
   "cell_type": "code",
   "execution_count": 63,
   "id": "98f7f2bf-0a1e-46ed-878e-43ad79026178",
   "metadata": {},
   "outputs": [
    {
     "name": "stdout",
     "output_type": "stream",
     "text": [
      "True\n"
     ]
    }
   ],
   "source": [
    "a = [1, 2, [3, 4, 5]]\n",
    "b = a\n",
    "print(a is b)"
   ]
  },
  {
   "cell_type": "code",
   "execution_count": 64,
   "id": "ec52f779-1771-435a-8129-d91a0a8b2ef3",
   "metadata": {},
   "outputs": [
    {
     "name": "stdout",
     "output_type": "stream",
     "text": [
      "False\n",
      "[1, 2, [99, 4, 5]]\n"
     ]
    }
   ],
   "source": [
    "a = [1, 2, [3, 4, 5]]\n",
    "b = a.copy()\n",
    "print(a is b)\n",
    "b[2][0] = 99\n",
    "print(a)"
   ]
  },
  {
   "cell_type": "code",
   "execution_count": 65,
   "id": "618784c9-19e5-4e25-81a1-25be2b3262af",
   "metadata": {},
   "outputs": [
    {
     "name": "stdout",
     "output_type": "stream",
     "text": [
      "False\n",
      "[1, 2, [3, 4, 5]]\n"
     ]
    }
   ],
   "source": [
    "from copy import deepcopy\n",
    "a = [1, 2, [3, 4, 5]]\n",
    "b = deepcopy(a)\n",
    "print(a is b)\n",
    "b[2][0] = 99\n",
    "print(a)"
   ]
  },
  {
   "cell_type": "markdown",
   "id": "7cf5f42c-28d5-4317-8906-d6a5aecf220e",
   "metadata": {
    "toc-hr-collapsed": true
   },
   "source": [
    "### site"
   ]
  },
  {
   "cell_type": "code",
   "execution_count": 66,
   "id": "44db3ebe-2afb-4114-bf7a-e2a8860b607f",
   "metadata": {},
   "outputs": [
    {
     "data": {
      "text/plain": [
       "['/Users/rkforest/miniconda3/envs/kr/lib/python3.10/site-packages']"
      ]
     },
     "execution_count": 66,
     "metadata": {},
     "output_type": "execute_result"
    }
   ],
   "source": [
    "import site\n",
    "site.getsitepackages()"
   ]
  },
  {
   "cell_type": "markdown",
   "id": "5638b756-54a2-42d4-b755-3a9b2f7e02c5",
   "metadata": {
    "toc-hr-collapsed": true
   },
   "source": [
    "### sys"
   ]
  },
  {
   "cell_type": "code",
   "execution_count": 67,
   "id": "d58211fc-61d4-4db6-8aab-5e01b48a9db7",
   "metadata": {},
   "outputs": [],
   "source": [
    "import sys"
   ]
  },
  {
   "cell_type": "code",
   "execution_count": 68,
   "id": "676c7057-1959-49e4-8eb3-c241d79db528",
   "metadata": {},
   "outputs": [
    {
     "data": {
      "text/plain": [
       "'3.10.6 | packaged by conda-forge | (main, Aug 22 2022, 20:38:29) [Clang 13.0.1 ]'"
      ]
     },
     "execution_count": 68,
     "metadata": {},
     "output_type": "execute_result"
    }
   ],
   "source": [
    "sys.version"
   ]
  },
  {
   "cell_type": "code",
   "execution_count": 69,
   "id": "cb7e2a35-d9c8-4013-9f38-530dd0e22c51",
   "metadata": {},
   "outputs": [
    {
     "data": {
      "text/plain": [
       "'/Users/rkforest/miniconda3/envs/kr/bin/python'"
      ]
     },
     "execution_count": 69,
     "metadata": {},
     "output_type": "execute_result"
    }
   ],
   "source": [
    "sys.executable"
   ]
  },
  {
   "cell_type": "code",
   "execution_count": 70,
   "id": "ef04da00-7310-4523-8174-384453031bcf",
   "metadata": {},
   "outputs": [
    {
     "data": {
      "text/plain": [
       "['/Users/rkforest/kr/libr/kr-py',\n",
       " '/Users/rkforest/miniconda3/envs/kr/lib/python310.zip',\n",
       " '/Users/rkforest/miniconda3/envs/kr/lib/python3.10',\n",
       " '/Users/rkforest/miniconda3/envs/kr/lib/python3.10/lib-dynload',\n",
       " '',\n",
       " '/Users/rkforest/miniconda3/envs/kr/lib/python3.10/site-packages']"
      ]
     },
     "execution_count": 70,
     "metadata": {},
     "output_type": "execute_result"
    }
   ],
   "source": [
    "sys.path # current working directory is first location on list"
   ]
  },
  {
   "cell_type": "markdown",
   "id": "846027a8-3fc3-4766-bfdb-43c83a8ae2a3",
   "metadata": {
    "tags": [],
    "toc-hr-collapsed": true
   },
   "source": [
    "### warnings"
   ]
  },
  {
   "cell_type": "code",
   "execution_count": 71,
   "id": "e592abf6-7bd4-4ed5-9e66-860d39654661",
   "metadata": {},
   "outputs": [],
   "source": [
    "import warnings"
   ]
  },
  {
   "cell_type": "code",
   "execution_count": 72,
   "id": "74427bc8-7a75-4a4d-9e8f-5f26024d076d",
   "metadata": {},
   "outputs": [],
   "source": [
    "# ignore warnings and shorter traceback error messages\n",
    "warnings.filterwarnings('ignore')"
   ]
  },
  {
   "cell_type": "markdown",
   "id": "42e3bd33-be96-468e-948f-ba74c1f4ab4a",
   "metadata": {
    "toc-hr-collapsed": true
   },
   "source": [
    "### traceback"
   ]
  },
  {
   "cell_type": "raw",
   "id": "a58caef2-bf48-4d1f-8033-090539864c21",
   "metadata": {},
   "source": [
    "a = 'a'\n",
    "b = 1\n",
    "c = 'a' + b"
   ]
  },
  {
   "cell_type": "code",
   "execution_count": 73,
   "id": "f0013ca1-3fee-4371-a758-4dfc4230847e",
   "metadata": {},
   "outputs": [],
   "source": [
    "from functools import partial\n",
    "get_ipython().showtraceback = partial(get_ipython().showtraceback,exception_only=True)"
   ]
  },
  {
   "cell_type": "raw",
   "id": "c3d6012b-c408-47cb-bf33-8a5d9f6f0943",
   "metadata": {},
   "source": [
    "a = 'a'\n",
    "b = 1\n",
    "c = 'a' + b"
   ]
  },
  {
   "cell_type": "markdown",
   "id": "7fe65443-eee0-4f1c-8f17-c4e050f316b6",
   "metadata": {
    "toc-hr-collapsed": true
   },
   "source": [
    "### InteractiveShell"
   ]
  },
  {
   "cell_type": "code",
   "execution_count": 74,
   "id": "3b3db65d-4182-43bc-b3b8-a69500e71249",
   "metadata": {},
   "outputs": [],
   "source": [
    "# shows result of cell without needing print\n",
    "from IPython.core.interactiveshell import InteractiveShell\n",
    "InteractiveShell.ast_node_interactivity = \"last_expr_or_assign\""
   ]
  },
  {
   "cell_type": "markdown",
   "id": "26479b3f-bc0d-4c50-adc4-3700343ef071",
   "metadata": {
    "tags": [],
    "toc-hr-collapsed": true
   },
   "source": [
    "<a id='lib-tp'></a>\n",
    "## Third Party Libraries"
   ]
  },
  {
   "cell_type": "markdown",
   "id": "3ee77681-143b-4004-b0f7-3dd56034562d",
   "metadata": {},
   "source": [
    "[Return to Start of Notebook](#lib)  "
   ]
  },
  {
   "cell_type": "markdown",
   "id": "1aefaeb2-73bb-4b8c-888c-197d869ac36a",
   "metadata": {},
   "source": [
    "- https://pypi.org/\n",
    "- requires package manager  \n",
    "  - conda  \n",
    "  - pip\n",
    "- dexplo.org"
   ]
  },
  {
   "cell_type": "code",
   "execution_count": 75,
   "id": "5e26a6ad-5612-440a-b13d-d1db7b53ba66",
   "metadata": {},
   "outputs": [
    {
     "ename": "ModuleNotFoundError",
     "evalue": "No module named 'seaborn'",
     "output_type": "error",
     "traceback": [
      "An exception has occurred, use %tb to see the full traceback.\n",
      "\u001b[0;31mModuleNotFoundError\u001b[0m\u001b[0;31m:\u001b[0m No module named 'seaborn'\n"
     ]
    }
   ],
   "source": [
    "import matplotlib.pyplot as plt\n",
    "import matplotlib.dates as mdates\n",
    "from matplotlib.dates import DateFormatter\n",
    "import seaborn as sns\n",
    "\n",
    "import numpy as np\n",
    "import pandas as pd\n",
    "import earthpy as et \n",
    "\n",
    "import geopandas as gpd\n",
    "import xarray as xr\n",
    "import rioxarray as rxr\n",
    "import earthpy.plot as ep"
   ]
  },
  {
   "cell_type": "markdown",
   "id": "24b63953-38b5-4499-b707-78edb5a366d5",
   "metadata": {
    "tags": []
   },
   "source": [
    "<a id='lib-tp'></a>\n",
    "## User Defined Libraries"
   ]
  },
  {
   "cell_type": "markdown",
   "id": "5c024366-f8e3-461e-9821-9a69700ecc5b",
   "metadata": {},
   "source": [
    "[Return to Start of Notebook](#lib)  "
   ]
  },
  {
   "cell_type": "markdown",
   "id": "947642ac-f2af-4831-afee-e198d300399a",
   "metadata": {},
   "source": [
    "- written in a text file  \n",
    "- usually ends in .py"
   ]
  },
  {
   "cell_type": "code",
   "execution_count": 77,
   "id": "2950d278-269e-4936-907c-c4cd72f48347",
   "metadata": {},
   "outputs": [],
   "source": [
    "os.chdir(libr_dir)"
   ]
  },
  {
   "cell_type": "code",
   "execution_count": 78,
   "id": "0d9b079c-efe1-467b-afeb-b9cff687dd00",
   "metadata": {},
   "outputs": [],
   "source": [
    "import temp_converter as tc"
   ]
  },
  {
   "cell_type": "code",
   "execution_count": 79,
   "id": "48d8fd79-8cd1-45fd-9ad0-3faea19ea076",
   "metadata": {},
   "outputs": [
    {
     "data": {
      "text/plain": [
       "'Rick Forest'"
      ]
     },
     "execution_count": 79,
     "metadata": {},
     "output_type": "execute_result"
    }
   ],
   "source": [
    "tc.author"
   ]
  },
  {
   "cell_type": "code",
   "execution_count": 80,
   "id": "0ea1a910-5243-4faa-9d7c-e198d34fbc99",
   "metadata": {},
   "outputs": [
    {
     "data": {
      "text/plain": [
       "212.0"
      ]
     },
     "execution_count": 80,
     "metadata": {},
     "output_type": "execute_result"
    }
   ],
   "source": [
    "result = tc.celsius_to_fahr(100)"
   ]
  },
  {
   "cell_type": "code",
   "execution_count": 81,
   "id": "a8d75874-b584-4d9e-a082-8ae9ee341831",
   "metadata": {},
   "outputs": [
    {
     "name": "stdout",
     "output_type": "stream",
     "text": [
      "from: 100 c to: f 212.0\n"
     ]
    },
    {
     "data": {
      "text/plain": [
       "212.0"
      ]
     },
     "execution_count": 81,
     "metadata": {},
     "output_type": "execute_result"
    }
   ],
   "source": [
    "result = tc.temp_converter(100)"
   ]
  },
  {
   "cell_type": "code",
   "execution_count": 82,
   "id": "cde0eca8-0a87-4ed0-97ed-6a3a2ee30d15",
   "metadata": {},
   "outputs": [
    {
     "name": "stdout",
     "output_type": "stream",
     "text": [
      "from: 100 c to: f 212.0\n"
     ]
    },
    {
     "data": {
      "text/plain": [
       "212.0"
      ]
     },
     "execution_count": 82,
     "metadata": {},
     "output_type": "execute_result"
    }
   ],
   "source": [
    "result = tc.temp_converter(100, 'c', 'f')"
   ]
  },
  {
   "cell_type": "code",
   "execution_count": 83,
   "id": "21fabaf2-7ccb-43ba-9123-87d0e162234c",
   "metadata": {},
   "outputs": [
    {
     "name": "stdout",
     "output_type": "stream",
     "text": [
      "convert_to must be c, f, or k\n"
     ]
    }
   ],
   "source": [
    "result = tc.temp_converter(0,'c','x')"
   ]
  },
  {
   "cell_type": "code",
   "execution_count": 84,
   "id": "2ced03f5-b78f-479a-ad78-36ccde9ac617",
   "metadata": {},
   "outputs": [
    {
     "name": "stdout",
     "output_type": "stream",
     "text": [
      "from: 0 c to: k 273.15\n"
     ]
    },
    {
     "data": {
      "text/plain": [
       "273.15"
      ]
     },
     "execution_count": 84,
     "metadata": {},
     "output_type": "execute_result"
    }
   ],
   "source": [
    "result = tc.temp_converter(0,'c','k')"
   ]
  },
  {
   "cell_type": "code",
   "execution_count": 85,
   "id": "71b8893f-b089-4822-aed0-d60297502b9e",
   "metadata": {},
   "outputs": [
    {
     "name": "stdout",
     "output_type": "stream",
     "text": [
      "from: 0 c to: f 32.0\n"
     ]
    }
   ],
   "source": [
    "test1= [0, 'c', 'f']\n",
    "\n",
    "result = tc.temp_converter(test1[0], test1[1], test1[2])\n",
    "expected = 32\n",
    "\n",
    "assert(result == expected)"
   ]
  },
  {
   "cell_type": "markdown",
   "id": "e3a1bf18-3fb5-45e5-b4b9-f557ebbefe8a",
   "metadata": {},
   "source": [
    "### unit testing"
   ]
  },
  {
   "cell_type": "code",
   "execution_count": 86,
   "id": "760d8206-1353-4533-8b47-031e70bc20dd",
   "metadata": {},
   "outputs": [],
   "source": [
    "import unittest"
   ]
  },
  {
   "cell_type": "code",
   "execution_count": null,
   "id": "dcb4df49-2932-4291-b3d3-14277a8e9922",
   "metadata": {},
   "outputs": [],
   "source": []
  },
  {
   "cell_type": "code",
   "execution_count": null,
   "id": "5669f285-6ffd-48b5-8c3b-8fb436747bde",
   "metadata": {},
   "outputs": [],
   "source": []
  }
 ],
 "metadata": {
  "interpreter": {
   "hash": "dadb38d82647d96d5382ce5812a5d64c7d4d3210fd59b769fd19e4966085dba7"
  },
  "kernelspec": {
   "display_name": "Python 3 (ipykernel)",
   "language": "python",
   "name": "python3"
  },
  "language_info": {
   "codemirror_mode": {
    "name": "ipython",
    "version": 3
   },
   "file_extension": ".py",
   "mimetype": "text/x-python",
   "name": "python",
   "nbconvert_exporter": "python",
   "pygments_lexer": "ipython3",
   "version": "3.10.6"
  },
  "toc-autonumbering": false,
  "toc-showcode": true,
  "toc-showmarkdowntxt": false,
  "toc-showtags": false
 },
 "nbformat": 4,
 "nbformat_minor": 5
}
