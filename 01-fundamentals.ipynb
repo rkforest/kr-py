{
 "cells": [
  {
   "cell_type": "markdown",
   "id": "1898bbca",
   "metadata": {
    "tags": []
   },
   "source": [
    "<a id='pf'></a>\n",
    "# Python Fundamentals"
   ]
  },
  {
   "cell_type": "markdown",
   "id": "9bd9df99-e863-43d0-93cb-70466ceb1905",
   "metadata": {},
   "source": [
    "[Operators](#pf-operators)  \n",
    "[Variables](#pf-variables)  \n",
    "[Objects](#pf-objects)  \n",
    "[Types](#pf-types)  \n",
    "[Constructors](#pf-constructors)  \n",
    "[Strings](#pf-strings)  \n",
    "[f-strings](#pf-fstrings)"
   ]
  },
  {
   "cell_type": "markdown",
   "id": "f3f010bc-5ca9-45ba-bf56-07f112a2d220",
   "metadata": {
    "tags": [],
    "toc-hr-collapsed": true
   },
   "source": [
    "<a id='pf-operators'></a>\n",
    "## Operators"
   ]
  },
  {
   "cell_type": "markdown",
   "id": "ef13db2e-3b80-4508-aad1-8bc1eb1373c9",
   "metadata": {},
   "source": [
    "[Return to Start of Notebook](#pf)  "
   ]
  },
  {
   "cell_type": "markdown",
   "id": "a4d9fc0d-e881-4cb9-b4e7-c9f2a948756f",
   "metadata": {},
   "source": [
    "### Operator Precedence  \n",
    " - () \tParentheses\n",
    " - ** \tExponentiation\n",
    " - +x, -x \tUnary Plus/Minus (shown with the argument)\n",
    " - *, /, //, %, @ \tMultiplication, Division, Floor Division, Modulus, At\n",
    " - +, - \tAddition, Subtraction\n",
    " - <, <=, >, >=, !=, == \tComparison operators\n",
    " - not \tBoolean NOT\n",
    " - and \tBoolean AND\n",
    " - or \tBoolean OR"
   ]
  },
  {
   "cell_type": "markdown",
   "id": "7f1fca2b-49a0-4ada-a896-bc310aadbf2f",
   "metadata": {
    "toc-hr-collapsed": true
   },
   "source": [
    "### Arithmetic Operators  \n",
    "binary operators\n",
    "- addition +    \n",
    "- subtraction -  \n",
    "- multiplication *   \n",
    "- division /  \n",
    "- exponentiation **  \n",
    "- floor (integer) division //  \n",
    "- modulus (remainder) %"
   ]
  },
  {
   "cell_type": "code",
   "execution_count": 2,
   "id": "b64e58b0-c636-4046-9cfe-a72bc80b5ec6",
   "metadata": {},
   "outputs": [
    {
     "name": "stdout",
     "output_type": "stream",
     "text": [
      "8\n",
      "2\n",
      "15\n",
      "1.6666666666666667\n",
      "125\n",
      "1\n",
      "2\n",
      "11\n",
      "16\n"
     ]
    }
   ],
   "source": [
    "print(5 + 3)\n",
    "print(5 - 3)\n",
    "print(5 * 3)\n",
    "print(5 / 3)\n",
    "print(5 ** 3)\n",
    "print(5 // 3)\n",
    "print(5 % 3)\n",
    "print(5 + 3 * 2)\n",
    "print((5 + 3) * 2)"
   ]
  },
  {
   "cell_type": "markdown",
   "id": "a6e4e8f9-d43f-4cf3-bca9-b5a6f0a9ee82",
   "metadata": {
    "tags": [],
    "toc-hr-collapsed": true
   },
   "source": [
    "### Comparison Operators  \n",
    "binary operators, evaluate as True or False  \n",
    "- Greater than  >  \n",
    "- Less than  <  \n",
    "- Greater than or equal to >=  \n",
    "- Less than or equal to <=  \n",
    "- Equals ==  \n",
    "- Not equals !=  "
   ]
  },
  {
   "cell_type": "code",
   "execution_count": 2,
   "id": "08ea7fa5-67bf-4430-8510-671d465a14af",
   "metadata": {},
   "outputs": [
    {
     "name": "stdout",
     "output_type": "stream",
     "text": [
      "True\n",
      "False\n",
      "True\n",
      "False\n",
      "False\n",
      "True\n"
     ]
    }
   ],
   "source": [
    "print(5 > 3)\n",
    "print(5 < 3)\n",
    "print(5 >= 3)\n",
    "print(5 <= 3)\n",
    "print(5 == 3)\n",
    "print(5 != 3)"
   ]
  },
  {
   "cell_type": "markdown",
   "id": "0b44176b-a7c3-4d1b-8ed0-ccaf04d47776",
   "metadata": {},
   "source": [
    "#### chained comparison operators  \n",
    "entire comparison chain evaluated as a whole"
   ]
  },
  {
   "cell_type": "code",
   "execution_count": 3,
   "id": "9f4b0470-a0bd-477d-8804-468d9aad8c37",
   "metadata": {},
   "outputs": [
    {
     "name": "stdout",
     "output_type": "stream",
     "text": [
      "True\n",
      "False\n"
     ]
    }
   ],
   "source": [
    "print(10 > 5 > 2) # equivalent to: 10 > 5 and 5 > 2\n",
    "print(10 > 5 < 2)"
   ]
  },
  {
   "cell_type": "markdown",
   "id": "8cc0d473-94a0-4ff1-8993-e3f18bf9d5a4",
   "metadata": {
    "toc-hr-collapsed": true
   },
   "source": [
    "### Unary Operators  \n",
    "- unary plus +x  \n",
    "- unary minus -x"
   ]
  },
  {
   "cell_type": "code",
   "execution_count": 4,
   "id": "c34419cb-b53f-4773-b3e3-822666f4de43",
   "metadata": {},
   "outputs": [
    {
     "name": "stdout",
     "output_type": "stream",
     "text": [
      "10\n",
      "-10\n",
      "-25\n",
      "25\n"
     ]
    }
   ],
   "source": [
    "print(+10)\n",
    "print(-10)\n",
    "print(-5 ** 2) # ** has higher precedence\n",
    "print((-5) ** 2) # ** has higher precedence"
   ]
  },
  {
   "cell_type": "markdown",
   "id": "a485a582-c5ce-4c08-89bb-cb976f7a103a",
   "metadata": {
    "toc-hr-collapsed": true
   },
   "source": [
    "### Boolean Operators  \n",
    "- and  \n",
    "- or  \n",
    "- not  "
   ]
  },
  {
   "cell_type": "code",
   "execution_count": 5,
   "id": "8408b86d-a9ff-4baa-841b-7dfef178dbd8",
   "metadata": {},
   "outputs": [
    {
     "name": "stdout",
     "output_type": "stream",
     "text": [
      "True\n",
      "False\n",
      "True\n",
      "True\n",
      "False\n"
     ]
    }
   ],
   "source": [
    "print(5 > 3 and 10 > 7)\n",
    "print(5 < 3 and 10 > 7)\n",
    "print(5 < 3 or 10 > 7)\n",
    "print(not 5 < 3)\n",
    "print(not (5 < 3 or 10 > 7))"
   ]
  },
  {
   "cell_type": "markdown",
   "id": "6dd2d542-09dd-4028-aa33-de83abc56bfe",
   "metadata": {
    "toc-hr-collapsed": true
   },
   "source": [
    "### Membership Operators  \n",
    "- in  \n",
    "- not in"
   ]
  },
  {
   "cell_type": "code",
   "execution_count": 2,
   "id": "e009a486-221b-4c03-a443-65f12e7e756f",
   "metadata": {},
   "outputs": [
    {
     "data": {
      "text/plain": [
       "True"
      ]
     },
     "execution_count": 2,
     "metadata": {},
     "output_type": "execute_result"
    }
   ],
   "source": [
    "'a' in 'abc'"
   ]
  },
  {
   "cell_type": "code",
   "execution_count": 3,
   "id": "f10e6687-65fb-4c68-97c7-c0e7472e7c04",
   "metadata": {},
   "outputs": [
    {
     "data": {
      "text/plain": [
       "True"
      ]
     },
     "execution_count": 3,
     "metadata": {},
     "output_type": "execute_result"
    }
   ],
   "source": [
    "'d' not in 'abc'"
   ]
  },
  {
   "cell_type": "markdown",
   "id": "52a3a6cb-b9c9-4945-85d2-93d1d33539d9",
   "metadata": {
    "tags": [],
    "toc-hr-collapsed": true
   },
   "source": [
    "<a id='pf-variables'></a>\n",
    "## Variables  "
   ]
  },
  {
   "cell_type": "markdown",
   "id": "3a3a2ddf-5a78-4472-814f-4f203e9eb303",
   "metadata": {},
   "source": [
    "[Return to Start of Notebook](#pf)  "
   ]
  },
  {
   "cell_type": "markdown",
   "id": "32f68e0b-c8f7-41d5-9555-151a097c026f",
   "metadata": {},
   "source": [
    "### Variable Names  \n",
    "Python has rules for what it allows as a valid variable name.\n",
    "  - All lowercase and uppercase alphabetic characters and digits (a-z, A-Z, and 0-9) are acceptable  \n",
    "  -  The underscore is acceptable  \n",
    "  -  Names cannot begin with a digit  \n",
    "  -  Many thousands of Unicode characters are also available  "
   ]
  },
  {
   "cell_type": "markdown",
   "id": "d0edad54-7257-4875-bd2c-29de7dca125b",
   "metadata": {
    "tags": [],
    "toc-hr-collapsed": true
   },
   "source": [
    "### Assignment Statement  \n",
    "single equals sign"
   ]
  },
  {
   "cell_type": "code",
   "execution_count": 6,
   "id": "9f2cab57-eb57-4e0b-9ec8-158f507e202b",
   "metadata": {},
   "outputs": [
    {
     "name": "stdout",
     "output_type": "stream",
     "text": [
      "7\n",
      "10\n"
     ]
    }
   ],
   "source": [
    "num = 7\n",
    "print(num)\n",
    "num = num + 3\n",
    "print(num)"
   ]
  },
  {
   "cell_type": "markdown",
   "id": "32512cda-4f3d-4d90-be28-0d0c318bfc6d",
   "metadata": {
    "toc-hr-collapsed": true
   },
   "source": [
    "### Augmented Assignment  \n",
    "- +=, -=, *=, /=, //=, %=, **="
   ]
  },
  {
   "cell_type": "code",
   "execution_count": 7,
   "id": "61c1f01d-9a2e-46fe-a2a2-d6d1c616c6ba",
   "metadata": {},
   "outputs": [
    {
     "name": "stdout",
     "output_type": "stream",
     "text": [
      "15\n",
      "30\n",
      "10.0\n",
      "8.0\n"
     ]
    }
   ],
   "source": [
    "num += 5\n",
    "print(num)\n",
    "num *= 2\n",
    "print(num)\n",
    "num /= 3\n",
    "print(num)\n",
    "num -= 2\n",
    "print(num)"
   ]
  },
  {
   "cell_type": "markdown",
   "id": "6fc3ad0f-8a69-47ce-aa55-d6c940e841e0",
   "metadata": {
    "toc-hr-collapsed": true
   },
   "source": [
    "### View \n",
    "- type variable name  \n",
    "- type multiple variables, separated by commas"
   ]
  },
  {
   "cell_type": "code",
   "execution_count": 8,
   "id": "33f22e94-7d27-479e-8aa8-bc002ecc5ef4",
   "metadata": {},
   "outputs": [
    {
     "data": {
      "text/plain": [
       "10"
      ]
     },
     "execution_count": 8,
     "metadata": {},
     "output_type": "execute_result"
    }
   ],
   "source": [
    "a = 10  \n",
    "a"
   ]
  },
  {
   "cell_type": "code",
   "execution_count": 9,
   "id": "7534754d-bece-429c-a22a-051629bf96f0",
   "metadata": {},
   "outputs": [
    {
     "data": {
      "text/plain": [
       "(1, 2, 3)"
      ]
     },
     "execution_count": 9,
     "metadata": {},
     "output_type": "execute_result"
    }
   ],
   "source": [
    "a = 1\n",
    "b = 2\n",
    "c = 3\n",
    "\n",
    "a, b, c"
   ]
  },
  {
   "cell_type": "markdown",
   "id": "36960952-f3ed-42a6-ad2d-3989c3e39f4a",
   "metadata": {
    "tags": [],
    "toc-hr-collapsed": true
   },
   "source": [
    "<a id='pf-objects'></a>\n",
    "## Objects\n"
   ]
  },
  {
   "cell_type": "markdown",
   "id": "5079c50c-8c2a-4732-991b-95f6c7a7790b",
   "metadata": {},
   "source": [
    "[Return to Start of Notebook](#pf)  "
   ]
  },
  {
   "cell_type": "markdown",
   "id": "6c71cfd9-a5e5-466e-beca-c432855b31c1",
   "metadata": {},
   "source": [
    "All objects have attributes and methods:  \n",
    "- accessed via dot notation  \n",
    "- object.attribute  \n",
    "- object.method(argument)  \n",
    "- can access methods with tab completion  \n",
    "- all objects have types"
   ]
  },
  {
   "cell_type": "markdown",
   "id": "2a3db052-9f1f-4889-9594-8de204a16c15",
   "metadata": {
    "toc-hr-collapsed": true
   },
   "source": [
    "### id()"
   ]
  },
  {
   "cell_type": "markdown",
   "id": "2c985ac5-6a08-4247-bb5e-adc858847ce7",
   "metadata": {},
   "source": [
    "Object name can be reassigned to a new object"
   ]
  },
  {
   "cell_type": "code",
   "execution_count": 10,
   "id": "05fe378b-14a2-4a76-bbfc-cc9b84e561ae",
   "metadata": {},
   "outputs": [
    {
     "name": "stdout",
     "output_type": "stream",
     "text": [
      "4425259328\n",
      "140170698897392\n"
     ]
    }
   ],
   "source": [
    "a = 5\n",
    "print(id(a))\n",
    "a = 'xyz'\n",
    "print(id(a))"
   ]
  },
  {
   "cell_type": "markdown",
   "id": "fb74cd31-d309-407b-a169-a3990a92fb9c",
   "metadata": {
    "tags": [],
    "toc-hr-collapsed": true
   },
   "source": [
    "### is\n",
    "One object can have multiple names"
   ]
  },
  {
   "cell_type": "code",
   "execution_count": 11,
   "id": "20868720-fb62-48af-8cad-2a730a9d8493",
   "metadata": {},
   "outputs": [
    {
     "name": "stdout",
     "output_type": "stream",
     "text": [
      "==: True\n",
      "is: True\n"
     ]
    }
   ],
   "source": [
    "a = 5\n",
    "b = 5\n",
    "print(f'==: {id(a) == id(b)}')\n",
    "print(f'is: {a is b}')"
   ]
  },
  {
   "cell_type": "markdown",
   "id": "210cd2ac-1437-48a7-9dd3-35d92aa11302",
   "metadata": {
    "toc-hr-collapsed": true
   },
   "source": [
    "Assigning one object name to another does NOT create a new object"
   ]
  },
  {
   "cell_type": "code",
   "execution_count": 12,
   "id": "687f0885-18d0-4b6c-9f89-5c6fedd4aabb",
   "metadata": {},
   "outputs": [
    {
     "name": "stdout",
     "output_type": "stream",
     "text": [
      "==: True\n",
      "is: True\n"
     ]
    }
   ],
   "source": [
    "a = 5\n",
    "b = a\n",
    "print(f'==: {id(a) == id(b)}')\n",
    "print(f'is: {a is b}')"
   ]
  },
  {
   "cell_type": "code",
   "execution_count": 1,
   "id": "e93ce6cf-43be-4301-8d83-5d5098456d80",
   "metadata": {},
   "outputs": [
    {
     "data": {
      "text/plain": [
       "True"
      ]
     },
     "execution_count": 1,
     "metadata": {},
     "output_type": "execute_result"
    }
   ],
   "source": [
    "a = 5\n",
    "b = 5.0\n",
    "a is not b"
   ]
  },
  {
   "cell_type": "markdown",
   "id": "01bab6ee-e9ba-4439-aa60-da6d679456e5",
   "metadata": {
    "tags": [],
    "toc-hr-collapsed": true
   },
   "source": [
    "<a id='pf-types'></a>\n",
    "## Types"
   ]
  },
  {
   "cell_type": "markdown",
   "id": "ba6dd904-9139-4878-9fdf-01dc38576a84",
   "metadata": {},
   "source": [
    "[Return to Start of Notebook](#pf)  "
   ]
  },
  {
   "cell_type": "markdown",
   "id": "2f2deb87-ccb1-4276-bd3c-e84828f8e64d",
   "metadata": {},
   "source": [
    "Built-In Types  \n",
    "  - integer  \n",
    "  - float \n",
    "  - bool  \n",
    "  - str  \n",
    "  - NoneType\n",
    "  - list  \n",
    "  - range  \n",
    "  - tuple  \n",
    "  - set  \n",
    "  - dict"
   ]
  },
  {
   "cell_type": "markdown",
   "id": "e2d31cea-d314-43e9-a91d-ffa5368df518",
   "metadata": {
    "toc-hr-collapsed": true
   },
   "source": [
    "### Integer"
   ]
  },
  {
   "cell_type": "code",
   "execution_count": 13,
   "id": "6a0d4704-97b2-47e5-b195-e7744c975fb6",
   "metadata": {},
   "outputs": [
    {
     "name": "stdout",
     "output_type": "stream",
     "text": [
      "<class 'int'>\n",
      "<class 'int'>\n",
      "<class 'int'>\n"
     ]
    }
   ],
   "source": [
    "print(type(5))\n",
    "a = 5\n",
    "print(type(a))\n",
    "a = 1_000_000_000_000\n",
    "print(type(a))"
   ]
  },
  {
   "cell_type": "markdown",
   "id": "69ccf88b-d2f4-4364-9c62-ff64435f5f23",
   "metadata": {
    "tags": [],
    "toc-hr-collapsed": true
   },
   "source": [
    "### Float\n",
    "use e or E for scientific notation"
   ]
  },
  {
   "cell_type": "code",
   "execution_count": 14,
   "id": "5981749b-0d25-48ff-a1d7-4df822135eb9",
   "metadata": {},
   "outputs": [
    {
     "name": "stdout",
     "output_type": "stream",
     "text": [
      "<class 'float'>\n",
      "<class 'float'>\n",
      "<class 'float'>\n",
      "<class 'float'>\n"
     ]
    }
   ],
   "source": [
    "print(type(10.12345))\n",
    "print(type(.12345))\n",
    "print(type(99.))\n",
    "print(type(10e6))"
   ]
  },
  {
   "cell_type": "markdown",
   "id": "566ae50f-a989-4cb2-a3b2-a7f7c22a1b9f",
   "metadata": {
    "tags": [],
    "toc-hr-collapsed": true
   },
   "source": [
    "### Boolean\n",
    "True evaluates to 1, False to 0 in numeric expressions"
   ]
  },
  {
   "cell_type": "code",
   "execution_count": 15,
   "id": "98c971c9-346c-4b6d-bc22-0eb41dbab54e",
   "metadata": {},
   "outputs": [
    {
     "name": "stdout",
     "output_type": "stream",
     "text": [
      "<class 'bool'>\n",
      "<class 'bool'>\n",
      "True\n",
      "True\n"
     ]
    }
   ],
   "source": [
    "print(type(True))\n",
    "print(type(4 > 3))\n",
    "print(True == 1)\n",
    "print(False == 0)"
   ]
  },
  {
   "cell_type": "markdown",
   "id": "1f4a89e0-f879-4542-a505-60683bca8071",
   "metadata": {
    "toc-hr-collapsed": true
   },
   "source": [
    "### None"
   ]
  },
  {
   "cell_type": "code",
   "execution_count": 16,
   "id": "e3a4cbd6-49fe-4895-b017-e289781fd51e",
   "metadata": {},
   "outputs": [
    {
     "data": {
      "text/plain": [
       "NoneType"
      ]
     },
     "execution_count": 16,
     "metadata": {},
     "output_type": "execute_result"
    }
   ],
   "source": [
    "a = None\n",
    "type(a)"
   ]
  },
  {
   "cell_type": "markdown",
   "id": "bbb7a574-06df-4595-82ba-7f15e46aa8eb",
   "metadata": {
    "toc-hr-collapsed": true
   },
   "source": [
    "### String"
   ]
  },
  {
   "cell_type": "code",
   "execution_count": 6,
   "id": "d1e1a9e5-c366-4ce6-93b9-e569753daa29",
   "metadata": {},
   "outputs": [
    {
     "name": "stdout",
     "output_type": "stream",
     "text": [
      "<class 'str'>\n",
      "<class 'str'>\n",
      "<class 'str'>\n",
      "a\"b\"c\n",
      "a'b'c\n",
      "a'b'\"c\"d\n"
     ]
    }
   ],
   "source": [
    "x = \"\"\n",
    "print(type(x))\n",
    "x = 'abc'\n",
    "print(type(x))\n",
    "x = \"abc\"\n",
    "print(type(x))\n",
    "x = 'a\"b\"c'\n",
    "print(x)\n",
    "x = \"a'b'c\"\n",
    "print(x)\n",
    "x = '''a'b'\"c\"d'''\n",
    "print(x)"
   ]
  },
  {
   "cell_type": "code",
   "execution_count": 7,
   "id": "28e9a0e2-74f2-4255-9825-bba2cd13320a",
   "metadata": {},
   "outputs": [
    {
     "name": "stdout",
     "output_type": "stream",
     "text": [
      "line 1\n",
      "line 2\n",
      "line 3\n"
     ]
    }
   ],
   "source": [
    "x = \"\"\"line 1\n",
    "line 2\n",
    "line 3\"\"\"\n",
    "print(x)"
   ]
  },
  {
   "cell_type": "markdown",
   "id": "c02aca4d-216d-48af-889f-dd192367b05f",
   "metadata": {
    "tags": [],
    "toc-hr-collapsed": true
   },
   "source": [
    "<a id='pf-constructors'></a>\n",
    "## Constructors\n",
    "Create new objects"
   ]
  },
  {
   "cell_type": "markdown",
   "id": "fde7b05c-34fd-4ab7-8777-969d2cf5f0c4",
   "metadata": {},
   "source": [
    "[Return to Start of Notebook](#pf)  "
   ]
  },
  {
   "cell_type": "markdown",
   "id": "01d522e0-12ec-40dd-89b1-829f146ea9c1",
   "metadata": {
    "toc-hr-collapsed": true
   },
   "source": [
    "### int()"
   ]
  },
  {
   "cell_type": "code",
   "execution_count": 18,
   "id": "aef5ff0d-bc74-42a1-bc5a-9ef71b0c9495",
   "metadata": {},
   "outputs": [
    {
     "name": "stdout",
     "output_type": "stream",
     "text": [
      "0\n",
      "1\n",
      "3\n",
      "4\n"
     ]
    }
   ],
   "source": [
    "print(int(False))\n",
    "print(int(True))\n",
    "print(int(3.9))\n",
    "print(int('4'))"
   ]
  },
  {
   "cell_type": "markdown",
   "id": "b8d0b3d5-a1ee-42db-8a59-6ea5c5eecf40",
   "metadata": {
    "toc-hr-collapsed": true
   },
   "source": [
    "### float()"
   ]
  },
  {
   "cell_type": "code",
   "execution_count": 19,
   "id": "6913815e-ea7e-445a-993b-f469c2d6d594",
   "metadata": {},
   "outputs": [
    {
     "name": "stdout",
     "output_type": "stream",
     "text": [
      "0.0\n",
      "1.0\n",
      "3.0\n",
      "4.0\n"
     ]
    }
   ],
   "source": [
    "print(float(False))\n",
    "print(float(True))\n",
    "print(float(3))\n",
    "print(float('4.0'))"
   ]
  },
  {
   "cell_type": "markdown",
   "id": "6743f129-7b78-412b-aa6f-d76e647f55bc",
   "metadata": {
    "toc-hr-collapsed": true
   },
   "source": [
    "### bool()"
   ]
  },
  {
   "cell_type": "code",
   "execution_count": 20,
   "id": "26b7dfbb-00ad-4fae-840f-761774ce0607",
   "metadata": {},
   "outputs": [
    {
     "name": "stdout",
     "output_type": "stream",
     "text": [
      "False\n",
      "False\n",
      "False\n",
      "False\n",
      "False\n"
     ]
    }
   ],
   "source": [
    "print(bool(0))\n",
    "print(bool(0.0))\n",
    "print(bool(None))\n",
    "print(bool(''))\n",
    "print(bool([]))"
   ]
  },
  {
   "cell_type": "code",
   "execution_count": 21,
   "id": "19947c27-6532-41dd-9b69-a77729f20483",
   "metadata": {},
   "outputs": [
    {
     "name": "stdout",
     "output_type": "stream",
     "text": [
      "True\n",
      "True\n",
      "True\n",
      "True\n"
     ]
    }
   ],
   "source": [
    "print(bool(1))\n",
    "print(bool(1.0))\n",
    "print(bool('xyz'))\n",
    "print(bool([1,2,3]))"
   ]
  },
  {
   "cell_type": "markdown",
   "id": "8725fa53-2149-4619-954f-3923e952ef45",
   "metadata": {
    "toc-hr-collapsed": true
   },
   "source": [
    "### str()"
   ]
  },
  {
   "cell_type": "code",
   "execution_count": 22,
   "id": "0a23deda-abe2-46d8-adc1-75bfa82d443c",
   "metadata": {},
   "outputs": [
    {
     "name": "stdout",
     "output_type": "stream",
     "text": [
      "False\n",
      "True\n",
      "3.9\n",
      "4\n"
     ]
    }
   ],
   "source": [
    "print(str(False))\n",
    "print(str(True))\n",
    "print(str(3.9))\n",
    "print(str(4))"
   ]
  },
  {
   "cell_type": "markdown",
   "id": "059e767f-2639-4411-a923-29df8dcd5ed0",
   "metadata": {
    "tags": []
   },
   "source": [
    "<a id='pf-strings'></a>\n",
    "## Strings"
   ]
  },
  {
   "cell_type": "markdown",
   "id": "6acc4882-7f44-47ef-888a-1febf8ce62ef",
   "metadata": {},
   "source": [
    "[Return to Start of Notebook](#pf)  "
   ]
  },
  {
   "cell_type": "markdown",
   "id": "5e2ce79a-6fe4-444f-9321-d27b9f9828ae",
   "metadata": {},
   "source": [
    "Strings are sequences of characters, including, digits, letters, punctations, whitespaces, and directives such as newline.  \n",
    "Strings are created using single (') or double (\") quotes.  \n",
    "Internally each character is represented as an integer using Unicode.  \n",
    "String are immutable.  \n",
    "An empty string is also a valid string."
   ]
  },
  {
   "cell_type": "markdown",
   "id": "cbef914a-0a99-44c4-86ad-a263ec46d055",
   "metadata": {
    "toc-hr-collapsed": true
   },
   "source": [
    "### ord()"
   ]
  },
  {
   "cell_type": "code",
   "execution_count": 8,
   "id": "68f1d582-eed4-414b-bafe-0571be8fdf09",
   "metadata": {},
   "outputs": [
    {
     "name": "stdout",
     "output_type": "stream",
     "text": [
      "65\n",
      "97\n"
     ]
    }
   ],
   "source": [
    "print(ord('A'))\n",
    "print(ord('a'))"
   ]
  },
  {
   "cell_type": "markdown",
   "id": "ff398287-ecc9-46dd-83e7-fef8d620907d",
   "metadata": {
    "tags": [],
    "toc-hr-collapsed": true
   },
   "source": [
    "### escape characters  \n",
    "- \\n - line terminator  \n",
    "- \\t - horizontal tab  \n",
    "- \\\\ - literal backslash  \n",
    "- \\' - literal single quote  \n",
    "- \\\" - literal double quote  "
   ]
  },
  {
   "cell_type": "code",
   "execution_count": 5,
   "id": "badde8ff-caf9-46ab-9724-bb496f93520a",
   "metadata": {},
   "outputs": [
    {
     "name": "stdout",
     "output_type": "stream",
     "text": [
      "a\n",
      "b\n",
      "a\tb\n",
      "a\\b\n",
      "a'b\n",
      "a\"b\n"
     ]
    }
   ],
   "source": [
    "x = \"a\\nb\"\n",
    "print(x)\n",
    "x = \"a\\tb\"\n",
    "print(x)\n",
    "x = \"a\\\\b\"\n",
    "print(x)\n",
    "x = 'a\\'b'\n",
    "print(x)\n",
    "x = \"a\\\"b\"\n",
    "print(x)"
   ]
  },
  {
   "cell_type": "markdown",
   "id": "96c3154d-a9fa-46a4-a32a-5f900ab1214d",
   "metadata": {
    "toc-hr-collapsed": true
   },
   "source": [
    "### string comparison"
   ]
  },
  {
   "cell_type": "code",
   "execution_count": 24,
   "id": "8e6ccba2-e258-4d57-aa1e-3d8992d68366",
   "metadata": {},
   "outputs": [
    {
     "name": "stdout",
     "output_type": "stream",
     "text": [
      "97\n",
      "122\n",
      "65\n",
      "90\n",
      "True\n",
      "False\n"
     ]
    }
   ],
   "source": [
    "print(ord('a'))\n",
    "print(ord('z'))\n",
    "print(ord('A'))\n",
    "print(ord('Z'))\n",
    "print('a' < 'z')\n",
    "print('a' < 'Z')"
   ]
  },
  {
   "cell_type": "markdown",
   "id": "c804259b-da16-4b9a-9a95-356312189cdf",
   "metadata": {
    "toc-hr-collapsed": true
   },
   "source": [
    "### len()"
   ]
  },
  {
   "cell_type": "code",
   "execution_count": 25,
   "id": "55e31ab5-9168-4e40-90a5-9ca3bc11fef5",
   "metadata": {},
   "outputs": [
    {
     "data": {
      "text/plain": [
       "5"
      ]
     },
     "execution_count": 25,
     "metadata": {},
     "output_type": "execute_result"
    }
   ],
   "source": [
    "a = 'abcaa'\n",
    "len(a)"
   ]
  },
  {
   "cell_type": "markdown",
   "id": "3923e773-fc2e-454d-92c2-47c0f28d2d85",
   "metadata": {
    "toc-hr-collapsed": true
   },
   "source": [
    "### concatenate"
   ]
  },
  {
   "cell_type": "code",
   "execution_count": 3,
   "id": "a7496739-968e-494b-bba1-8762b63821b0",
   "metadata": {},
   "outputs": [
    {
     "data": {
      "text/plain": [
       "'band_1.tif'"
      ]
     },
     "execution_count": 3,
     "metadata": {},
     "output_type": "execute_result"
    }
   ],
   "source": [
    "n = 1\n",
    "x = \"band_\" + str(n) + \".tif\""
   ]
  },
  {
   "cell_type": "code",
   "execution_count": 9,
   "id": "d3b64547-2517-41d9-9ed6-244d01349218",
   "metadata": {},
   "outputs": [
    {
     "name": "stdout",
     "output_type": "stream",
     "text": [
      "abcxyz\n"
     ]
    }
   ],
   "source": [
    "a = 'abc'\n",
    "b = 'xyz'\n",
    "print(a + b)"
   ]
  },
  {
   "cell_type": "markdown",
   "id": "275306bc-3ad9-45ed-b859-ca3f72593f88",
   "metadata": {
    "toc-hr-collapsed": true
   },
   "source": [
    "### replicate"
   ]
  },
  {
   "cell_type": "code",
   "execution_count": 10,
   "id": "f08ce079-a996-485b-b211-c4cb2a4c110f",
   "metadata": {},
   "outputs": [
    {
     "name": "stdout",
     "output_type": "stream",
     "text": [
      "abcabcabc\n"
     ]
    }
   ],
   "source": [
    "print(a * 3)"
   ]
  },
  {
   "cell_type": "markdown",
   "id": "9b922e8b-8966-4695-9db9-a968b4c2bfe4",
   "metadata": {
    "tags": [],
    "toc-hr-collapsed": true
   },
   "source": [
    "### methods  \n",
    "must save as new string\n",
    "- .upper(), .lower(), .capitalize(), .swapcase()  \n",
    "- .strip(), .rstrip(), .lstrip()\n",
    "- .count(arg)  \n",
    "- .split(arg)  \n",
    "- .replace(old,new,count)  "
   ]
  },
  {
   "cell_type": "markdown",
   "id": "e17a67d2-1725-49f7-9d02-eeba8a46b58d",
   "metadata": {
    "tags": [],
    "toc-hr-collapsed": true
   },
   "source": [
    "#### case"
   ]
  },
  {
   "cell_type": "code",
   "execution_count": 27,
   "id": "6301ddf0-2ba9-40ac-8edd-583c14ce4aea",
   "metadata": {},
   "outputs": [
    {
     "data": {
      "text/plain": [
       "('abcaa', 'ABCAA', 'abcaa', 'Abcaa', 'aBCAA')"
      ]
     },
     "execution_count": 27,
     "metadata": {},
     "output_type": "execute_result"
    }
   ],
   "source": [
    "a = 'abcaa'\n",
    "b = a.upper()\n",
    "c = b.lower()\n",
    "d = c.capitalize()\n",
    "e = d.swapcase()\n",
    "a, b, c, d, e"
   ]
  },
  {
   "cell_type": "markdown",
   "id": "b8bfdc39-48ad-4c27-8a82-7f324d3f0c54",
   "metadata": {
    "toc-hr-collapsed": true
   },
   "source": [
    "#### count"
   ]
  },
  {
   "cell_type": "code",
   "execution_count": 28,
   "id": "1f09ab5c-be6c-49cc-887c-0ab6d505019f",
   "metadata": {},
   "outputs": [
    {
     "data": {
      "text/plain": [
       "3"
      ]
     },
     "execution_count": 28,
     "metadata": {},
     "output_type": "execute_result"
    }
   ],
   "source": [
    "a.count('a')"
   ]
  },
  {
   "cell_type": "markdown",
   "id": "174c5ff8-5d93-400f-b4bc-d9ceadd864e9",
   "metadata": {
    "toc-hr-collapsed": true
   },
   "source": [
    "#### split"
   ]
  },
  {
   "cell_type": "code",
   "execution_count": 29,
   "id": "6617bc52-73d3-423a-8e70-dd8947523df0",
   "metadata": {},
   "outputs": [
    {
     "name": "stdout",
     "output_type": "stream",
     "text": [
      "abc def ghi\n",
      "['abc', 'def', 'ghi']\n"
     ]
    }
   ],
   "source": [
    "a = \"abc def ghi\"\n",
    "b = a.split()\n",
    "print(a)\n",
    "print(b)"
   ]
  },
  {
   "cell_type": "code",
   "execution_count": 11,
   "id": "7dd78760-a42c-4e9f-847a-e06cf7158101",
   "metadata": {},
   "outputs": [
    {
     "name": "stdout",
     "output_type": "stream",
     "text": [
      "abc-def-ghi\n",
      "['abc', 'def', 'ghi']\n"
     ]
    }
   ],
   "source": [
    "a = \"abc-def-ghi\"\n",
    "b = a.split('-')\n",
    "print(a)\n",
    "print(b)"
   ]
  },
  {
   "cell_type": "markdown",
   "id": "ce8bb5b4-8d9d-4d0e-985b-e27632ec5668",
   "metadata": {
    "tags": [],
    "toc-hr-collapsed": true
   },
   "source": [
    "#### strip"
   ]
  },
  {
   "cell_type": "code",
   "execution_count": 12,
   "id": "7ff29507-a379-4a42-8f4b-542e86557eef",
   "metadata": {},
   "outputs": [
    {
     "data": {
      "text/plain": [
       "'aabbccbb'"
      ]
     },
     "execution_count": 12,
     "metadata": {},
     "output_type": "execute_result"
    }
   ],
   "source": [
    "a = 'aabbccbbaa'\n",
    "a.rstrip('a')"
   ]
  },
  {
   "cell_type": "code",
   "execution_count": 13,
   "id": "2e5af7b8-0dce-40e1-9e25-6e6136624b55",
   "metadata": {},
   "outputs": [
    {
     "data": {
      "text/plain": [
       "'bbccbbaa'"
      ]
     },
     "execution_count": 13,
     "metadata": {},
     "output_type": "execute_result"
    }
   ],
   "source": [
    "a.lstrip('a')"
   ]
  },
  {
   "cell_type": "code",
   "execution_count": 14,
   "id": "8c0fb6a2-6534-4b41-b263-729d5d926f25",
   "metadata": {},
   "outputs": [
    {
     "data": {
      "text/plain": [
       "'bbccbb'"
      ]
     },
     "execution_count": 14,
     "metadata": {},
     "output_type": "execute_result"
    }
   ],
   "source": [
    "a.strip('a')"
   ]
  },
  {
   "cell_type": "markdown",
   "id": "cae6883a-6e5b-46e5-8998-1b100b1e13f4",
   "metadata": {
    "toc-hr-collapsed": true
   },
   "source": [
    "#### replace"
   ]
  },
  {
   "cell_type": "code",
   "execution_count": 30,
   "id": "b0078656-2018-4689-b157-f74fb786dba4",
   "metadata": {},
   "outputs": [
    {
     "data": {
      "text/plain": [
       "('abcaa', 'xbcxx')"
      ]
     },
     "execution_count": 30,
     "metadata": {},
     "output_type": "execute_result"
    }
   ],
   "source": [
    "a = 'abcaa'\n",
    "b = a.replace('a','x')\n",
    "a, b"
   ]
  },
  {
   "cell_type": "markdown",
   "id": "64869738-f3bf-4ba0-9d08-7d6cd6d2d340",
   "metadata": {
    "toc-hr-collapsed": true
   },
   "source": [
    "#### chaining"
   ]
  },
  {
   "cell_type": "code",
   "execution_count": 31,
   "id": "abc7a379-affe-49ee-8598-8a0dc557b39b",
   "metadata": {},
   "outputs": [
    {
     "data": {
      "text/plain": [
       "'aBCAA'"
      ]
     },
     "execution_count": 31,
     "metadata": {},
     "output_type": "execute_result"
    }
   ],
   "source": [
    "a = 'abcaa'\n",
    "b = a.upper().lower().capitalize().swapcase()\n",
    "b"
   ]
  },
  {
   "cell_type": "code",
   "execution_count": 32,
   "id": "dde5017e-b854-4650-ad2e-2114c1f01f99",
   "metadata": {},
   "outputs": [
    {
     "data": {
      "text/plain": [
       "'aBCAA'"
      ]
     },
     "execution_count": 32,
     "metadata": {},
     "output_type": "execute_result"
    }
   ],
   "source": [
    "b = (a.upper()\n",
    "      .lower()\n",
    "      .capitalize()\n",
    "      .swapcase())\n",
    "b"
   ]
  },
  {
   "cell_type": "code",
   "execution_count": 33,
   "id": "1d5aa9e5-8b60-493f-8a5d-55557824829d",
   "metadata": {},
   "outputs": [
    {
     "data": {
      "text/plain": [
       "'aBCAA'"
      ]
     },
     "execution_count": 33,
     "metadata": {},
     "output_type": "execute_result"
    }
   ],
   "source": [
    "b = a.upper() \\\n",
    "      .lower() \\\n",
    "      .capitalize() \\\n",
    "      .swapcase()\n",
    "b"
   ]
  },
  {
   "cell_type": "markdown",
   "id": "53c25ed5-a404-42e3-9218-efd38756c124",
   "metadata": {
    "tags": [],
    "toc-hr-collapsed": true
   },
   "source": [
    "### substrings"
   ]
  },
  {
   "cell_type": "code",
   "execution_count": 15,
   "id": "90ae596c-9465-4243-8e7a-9f1bb2fbb0ef",
   "metadata": {},
   "outputs": [
    {
     "name": "stdout",
     "output_type": "stream",
     "text": [
      "a\n",
      "e\n"
     ]
    }
   ],
   "source": [
    "s = 'abcde'\n",
    "print(s[0]) # first element\n",
    "print(s[-1]) # last element"
   ]
  },
  {
   "cell_type": "markdown",
   "id": "9bf444f0-6bc4-4966-90de-759841b75982",
   "metadata": {
    "tags": [],
    "toc-hr-collapsed": true
   },
   "source": [
    "#### slice notation\n",
    "start, stop before, step"
   ]
  },
  {
   "cell_type": "code",
   "execution_count": 35,
   "id": "78011db6-9c25-47df-b8ba-9b8ea349e1cc",
   "metadata": {},
   "outputs": [
    {
     "name": "stdout",
     "output_type": "stream",
     "text": [
      "bcd\n",
      "ab\n",
      "cde\n",
      "cde\n",
      "ace\n"
     ]
    },
    {
     "data": {
      "text/plain": [
       "'edcba'"
      ]
     },
     "execution_count": 35,
     "metadata": {},
     "output_type": "execute_result"
    }
   ],
   "source": [
    "print(s[1:4])\n",
    "print(s[:2])\n",
    "print(s[2:])\n",
    "print(s[-3:])\n",
    "print(s[::2])\n",
    "s[::-1] # reverse"
   ]
  },
  {
   "cell_type": "markdown",
   "id": "a4355f8e-254e-48c6-aefb-e838f6a39772",
   "metadata": {
    "toc-hr-collapsed": true
   },
   "source": [
    "### search"
   ]
  },
  {
   "cell_type": "markdown",
   "id": "9e02f704-12d4-46cc-849a-4c239d8a3f9c",
   "metadata": {
    "toc-hr-collapsed": true
   },
   "source": [
    "#### in"
   ]
  },
  {
   "cell_type": "code",
   "execution_count": 17,
   "id": "c96b37c3-a6bb-4d24-b0dc-1ba3132d183b",
   "metadata": {},
   "outputs": [
    {
     "name": "stdout",
     "output_type": "stream",
     "text": [
      "True\n",
      "False\n"
     ]
    }
   ],
   "source": [
    "s = 'abcba'\n",
    "print('a' in s)\n",
    "print('x' in s)"
   ]
  },
  {
   "cell_type": "markdown",
   "id": "91c57bc1-1a86-4528-b502-d0434f60678a",
   "metadata": {
    "toc-hr-collapsed": true
   },
   "source": [
    "#### find"
   ]
  },
  {
   "cell_type": "code",
   "execution_count": 19,
   "id": "0f10cf53-b99b-423c-92a8-c011db47373e",
   "metadata": {},
   "outputs": [
    {
     "name": "stdout",
     "output_type": "stream",
     "text": [
      "1\n",
      "3\n",
      "-1\n"
     ]
    }
   ],
   "source": [
    "s = 'abcba'\n",
    "print(s.find('b'))\n",
    "print(s.rfind('b')) # last occurrence\n",
    "print(s.find('x')) # not found"
   ]
  },
  {
   "cell_type": "markdown",
   "id": "12dc15b4-bb3c-4942-bdd6-3376d7da8b0e",
   "metadata": {},
   "source": [
    "### .join  \n",
    "string from list"
   ]
  },
  {
   "cell_type": "code",
   "execution_count": 21,
   "id": "4aabe5ae-35f6-42d2-bd71-bcf090b8ebde",
   "metadata": {},
   "outputs": [
    {
     "data": {
      "text/plain": [
       "'Sun Mon Tue Wed Thu Fri Sat'"
      ]
     },
     "execution_count": 21,
     "metadata": {},
     "output_type": "execute_result"
    }
   ],
   "source": [
    "days = [\"Sun\", \"Mon\", \"Tue\", \"Wed\", \"Thu\", \"Fri\", \"Sat\"]\n",
    "sep = ' '\n",
    "sentence = sep.join(days)\n",
    "sentence"
   ]
  },
  {
   "cell_type": "markdown",
   "id": "653ce9e4-81ed-446d-8080-379a1f317f85",
   "metadata": {},
   "source": [
    "<a id='pf-fstrings'></a>\n",
    "## f-strings"
   ]
  },
  {
   "cell_type": "markdown",
   "id": "9b67dc02-0edf-4f6d-98b0-d98cbb0fd331",
   "metadata": {},
   "source": [
    "[Return to Start of Notebook](#pf)  "
   ]
  },
  {
   "cell_type": "markdown",
   "id": "640678df-a984-4832-80ea-b050ab177179",
   "metadata": {
    "toc-hr-collapsed": true
   },
   "source": [
    "### format f' {}'"
   ]
  },
  {
   "cell_type": "code",
   "execution_count": 5,
   "id": "85d680d4-ce3b-4f05-8bcf-851216c5470b",
   "metadata": {},
   "outputs": [
    {
     "data": {
      "text/plain": [
       "'band_1.tif'"
      ]
     },
     "execution_count": 5,
     "metadata": {},
     "output_type": "execute_result"
    }
   ],
   "source": [
    "n = 1\n",
    "f'band_{n}.tif'"
   ]
  },
  {
   "cell_type": "code",
   "execution_count": 38,
   "id": "7c4d7e00-3f26-490d-b57c-7d6f31b31291",
   "metadata": {},
   "outputs": [
    {
     "data": {
      "text/plain": [
       "'The first variable is abc, the second is xyz'"
      ]
     },
     "execution_count": 38,
     "metadata": {},
     "output_type": "execute_result"
    }
   ],
   "source": [
    "x = 'abc'\n",
    "y = 'xyz'\n",
    "f'The first variable is {x}, the second is {y}'"
   ]
  },
  {
   "cell_type": "markdown",
   "id": "207ab159-e921-46a7-8ce1-0705c922b369",
   "metadata": {
    "toc-hr-collapsed": true
   },
   "source": [
    "#### .format()  \n",
    "no longer recommended"
   ]
  },
  {
   "cell_type": "code",
   "execution_count": 6,
   "id": "f777919f-75c6-4b43-bcec-d618e5e661fe",
   "metadata": {},
   "outputs": [
    {
     "data": {
      "text/plain": [
       "'band_1.tif'"
      ]
     },
     "execution_count": 6,
     "metadata": {},
     "output_type": "execute_result"
    }
   ],
   "source": [
    "n = 1\n",
    "\"band_{}.tif\".format(n)"
   ]
  },
  {
   "cell_type": "code",
   "execution_count": 7,
   "id": "903e0305-398e-4c30-91a1-b35e5773c4a0",
   "metadata": {},
   "outputs": [
    {
     "data": {
      "text/plain": [
       "'band_1.tif'"
      ]
     },
     "execution_count": 7,
     "metadata": {},
     "output_type": "execute_result"
    }
   ],
   "source": [
    "n = 1\n",
    "\"band_{v1}.tif\".format(v1=n)"
   ]
  },
  {
   "cell_type": "markdown",
   "id": "b2e75b91-fa4d-47eb-bd1d-028814a2bc70",
   "metadata": {
    "toc-hr-collapsed": true
   },
   "source": [
    "### format syntax  \n",
    "must be in this order  \n",
    "- Fill - any single character  \n",
    "- Align - <, >, or ^  \n",
    "- Width - any integer  \n",
    "- Grouping - , or _  \n",
    "- Precision - decimal followed by an integer  \n",
    "- Type - one of more than a dozen characters. f, e, and % are common  "
   ]
  },
  {
   "cell_type": "code",
   "execution_count": 40,
   "id": "c296d351-b7b8-421d-9b68-6a4ae1a3ab8e",
   "metadata": {},
   "outputs": [
    {
     "name": "stdout",
     "output_type": "stream",
     "text": [
      "--------5,123,000.89\n",
      "--------5,123,000.89\n"
     ]
    }
   ],
   "source": [
    "num = 5123000.8892\n",
    "\n",
    "fill='-'\n",
    "align = '>'\n",
    "width = 20\n",
    "grouping = ','\n",
    "precision = '.2' \n",
    "ftype = 'f'\n",
    "\n",
    "print( f'{num:{fill}{align}{width}{grouping}{precision}{ftype}}' )\n",
    "print( f'{num:->20,.2f}' )"
   ]
  },
  {
   "cell_type": "markdown",
   "id": "b9487787-8978-4ae2-9525-1469bd80d699",
   "metadata": {
    "tags": [],
    "toc-hr-collapsed": true
   },
   "source": [
    "##### alignment"
   ]
  },
  {
   "cell_type": "code",
   "execution_count": 41,
   "id": "f94ca342-232d-4b0d-b6dc-75be3efdffe9",
   "metadata": {},
   "outputs": [
    {
     "name": "stdout",
     "output_type": "stream",
     "text": [
      "--------5,123,000.89\n",
      "5,123,000.89--------\n",
      "----5,123,000.89----\n"
     ]
    }
   ],
   "source": [
    "print( f'{num:->20,.2f}' )\n",
    "print( f'{num:-<20,.2f}' )\n",
    "print( f'{num:-^20,.2f}' )"
   ]
  },
  {
   "cell_type": "code",
   "execution_count": 42,
   "id": "bd56a594-740a-47ab-bf23-e9757e2cd51f",
   "metadata": {},
   "outputs": [
    {
     "name": "stdout",
     "output_type": "stream",
     "text": [
      "Name: ABC        Salary:      99.99\n",
      "Name: defgh      Salary:        100\n"
     ]
    }
   ],
   "source": [
    "x1 = 'abc'\n",
    "x2 = 'defgh'\n",
    "y1 = 99.99\n",
    "y2 = 100\n",
    "a = f'Name: {x1.upper():<10} Salary: {y1:>10}'\n",
    "b = f'Name: {x2:<10} Salary: {y2:>10}'\n",
    "print(a)\n",
    "print(b)"
   ]
  },
  {
   "cell_type": "markdown",
   "id": "38762904-6853-47b5-90c8-6d7100860684",
   "metadata": {
    "toc-hr-collapsed": true
   },
   "source": [
    "##### numbers"
   ]
  },
  {
   "cell_type": "code",
   "execution_count": 43,
   "id": "39a6688f-be2d-4cc8-a4fc-3fa067eb994f",
   "metadata": {},
   "outputs": [
    {
     "name": "stdout",
     "output_type": "stream",
     "text": [
      "separated with \",\"        1,234,567.555\n",
      "separated with \"_\"        1_234_567.555\n",
      "round 0            1,234,568\n",
      "round 1          1,234,567.6\n",
      "round 2         1,234,567.55\n",
      "scientific         1.234568e+06\n",
      "percent               50.00%\n"
     ]
    }
   ],
   "source": [
    "num = 1234567.555\n",
    "print(f'separated with \",\" {num:>20,}')\n",
    "print(f'separated with \"_\" {num:>20_}')\n",
    "print(f'round 0 {num:>20,.0f}')\n",
    "print(f'round 1 {num:>20,.1f}')\n",
    "print(f'round 2 {num:>20,.2f}')\n",
    "print(f'scientific {num:>20,e}')\n",
    "num = .5\n",
    "print(f'percent {num:>20,.2%}')"
   ]
  },
  {
   "cell_type": "markdown",
   "id": "676e499c-b397-4f22-95fd-3ed675bfe9f5",
   "metadata": {
    "toc-hr-collapsed": true
   },
   "source": [
    "##### report"
   ]
  },
  {
   "cell_type": "code",
   "execution_count": 44,
   "id": "fbf212f9-53bf-42c1-b2cd-076163b7b0be",
   "metadata": {},
   "outputs": [
    {
     "name": "stdout",
     "output_type": "stream",
     "text": [
      "        Column 1         |        Column 2         \n",
      "---------------------------------------------------\n",
      "abc                      |                    99.99\n",
      "defgh                    |                   100.00\n"
     ]
    }
   ],
   "source": [
    "print(f'{\"Column 1\":^25}|{\"Column 2\":^25}')\n",
    "print('-' * 51)\n",
    "print(f'{x1:<25}|{y1:>25,.2f}')\n",
    "print(f'{x2:<25}|{y2:>25,.2f}')"
   ]
  }
 ],
 "metadata": {
  "interpreter": {
   "hash": "dadb38d82647d96d5382ce5812a5d64c7d4d3210fd59b769fd19e4966085dba7"
  },
  "kernelspec": {
   "display_name": "Python 3 (ipykernel)",
   "language": "python",
   "name": "python3"
  },
  "language_info": {
   "codemirror_mode": {
    "name": "ipython",
    "version": 3
   },
   "file_extension": ".py",
   "mimetype": "text/x-python",
   "name": "python",
   "nbconvert_exporter": "python",
   "pygments_lexer": "ipython3",
   "version": "3.10.6"
  },
  "toc": {
   "base_numbering": 1,
   "nav_menu": {},
   "number_sections": true,
   "sideBar": true,
   "skip_h1_title": false,
   "title_cell": "Table of Contents",
   "title_sidebar": "Contents",
   "toc_cell": false,
   "toc_position": {},
   "toc_section_display": true,
   "toc_window_display": false
  },
  "toc-autonumbering": false,
  "toc-showcode": true,
  "toc-showmarkdowntxt": false,
  "toc-showtags": false,
  "varInspector": {
   "cols": {
    "lenName": 16,
    "lenType": 16,
    "lenVar": 40
   },
   "kernels_config": {
    "python": {
     "delete_cmd_postfix": "",
     "delete_cmd_prefix": "del ",
     "library": "var_list.py",
     "varRefreshCmd": "print(var_dic_list())"
    },
    "r": {
     "delete_cmd_postfix": ") ",
     "delete_cmd_prefix": "rm(",
     "library": "var_list.r",
     "varRefreshCmd": "cat(var_dic_list()) "
    }
   },
   "types_to_exclude": [
    "module",
    "function",
    "builtin_function_or_method",
    "instance",
    "_Feature"
   ],
   "window_display": false
  }
 },
 "nbformat": 4,
 "nbformat_minor": 5
}
