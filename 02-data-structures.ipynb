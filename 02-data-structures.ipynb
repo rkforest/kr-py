{
 "cells": [
  {
   "cell_type": "markdown",
   "id": "1898bbca",
   "metadata": {
    "tags": []
   },
   "source": [
    "<a id='ds'></a>\n",
    "# Data Structures  \n",
    "Data structures are collections of data, each with own rules"
   ]
  },
  {
   "cell_type": "markdown",
   "id": "9bd9df99-e863-43d0-93cb-70466ceb1905",
   "metadata": {},
   "source": [
    "[List](#ds-list)  \n",
    "[Range](#ds-range)  \n",
    "[Tuple](#ds-tuple)  \n",
    "[Set](#ds-set)  \n",
    "[Dictionary](#ds-dictionary) "
   ]
  },
  {
   "cell_type": "markdown",
   "id": "a3815563-f855-4d64-8de2-780b1c696911",
   "metadata": {
    "tags": [],
    "toc-hr-collapsed": true
   },
   "source": [
    "## Initialize"
   ]
  },
  {
   "cell_type": "markdown",
   "id": "c0b5c44f-e352-4ecd-93e8-ffa7c1cd391e",
   "metadata": {
    "tags": [],
    "toc-hr-collapsed": true
   },
   "source": [
    "### data"
   ]
  },
  {
   "cell_type": "code",
   "execution_count": 54,
   "id": "0f054663-10c5-411a-884e-83f7b5c78cf2",
   "metadata": {},
   "outputs": [
    {
     "name": "stdout",
     "output_type": "stream",
     "text": [
      "['Jan', 'Feb', 'Mar', 'Apr', 'May', 'Jun', 'Jul', 'Aug', 'Sep', 'Oct', 'Nov', 'Dec']\n"
     ]
    }
   ],
   "source": [
    "import calendar\n",
    "months = [month for month in calendar.month_abbr if month]\n",
    "print(months)"
   ]
  },
  {
   "cell_type": "markdown",
   "id": "52a3a6cb-b9c9-4945-85d2-93d1d33539d9",
   "metadata": {
    "tags": [],
    "toc-hr-collapsed": true
   },
   "source": [
    "<a id='ds-list'></a>\n",
    "## List"
   ]
  },
  {
   "cell_type": "markdown",
   "id": "3a3a2ddf-5a78-4472-814f-4f203e9eb303",
   "metadata": {},
   "source": [
    "[Return to Start of Notebook](#ds)  "
   ]
  },
  {
   "cell_type": "markdown",
   "id": "e04b07c3-827f-493e-989d-7ae9cc78d32b",
   "metadata": {
    "tags": [],
    "toc-hr-collapsed": true
   },
   "source": [
    "### create"
   ]
  },
  {
   "cell_type": "markdown",
   "id": "c6f855f5-1056-4d80-a6e4-e731cb9f7716",
   "metadata": {
    "toc-hr-collapsed": true
   },
   "source": [
    "- brackets have two meanings in python\n",
    "  - used to select substring (appended to variable name)\n",
    "  - used to create list"
   ]
  },
  {
   "cell_type": "code",
   "execution_count": 1,
   "id": "1402154b-3d57-4f84-b2ac-1dc87622b9f2",
   "metadata": {},
   "outputs": [
    {
     "data": {
      "text/plain": [
       "(list, list, list)"
      ]
     },
     "execution_count": 1,
     "metadata": {},
     "output_type": "execute_result"
    }
   ],
   "source": [
    "a = [1, 2, 3, 4, 5] # separated by commas\n",
    "b = [1, 2.0, True, 'abc'] # mixed types\n",
    "c = [[1, 2, 3], [4, 5, 6]] # list of lists\n",
    "\n",
    "type(a), type(b), type(c)"
   ]
  },
  {
   "cell_type": "markdown",
   "id": "b3315b01-dde3-4e53-800b-15231d2c6b42",
   "metadata": {
    "toc-hr-collapsed": true
   },
   "source": [
    "### empty"
   ]
  },
  {
   "cell_type": "code",
   "execution_count": 2,
   "id": "a0dde41f-a1c6-4e22-a505-ecee898f9325",
   "metadata": {},
   "outputs": [
    {
     "data": {
      "text/plain": [
       "[]"
      ]
     },
     "execution_count": 2,
     "metadata": {},
     "output_type": "execute_result"
    }
   ],
   "source": [
    "a = []"
   ]
  },
  {
   "cell_type": "markdown",
   "id": "f74fdba0-c884-4540-96e5-de23479d03b1",
   "metadata": {
    "tags": []
   },
   "source": [
    "### constructor"
   ]
  },
  {
   "cell_type": "markdown",
   "id": "a10c05aa-f2ff-4d3b-bb94-377a9a064f04",
   "metadata": {
    "tags": [],
    "toc-hr-collapsed": true
   },
   "source": [
    "#### list()"
   ]
  },
  {
   "cell_type": "code",
   "execution_count": 3,
   "id": "b252294c-1349-4248-b257-19e008ac90fc",
   "metadata": {},
   "outputs": [
    {
     "data": {
      "text/plain": [
       "['x', 'y', 'z']"
      ]
     },
     "execution_count": 3,
     "metadata": {},
     "output_type": "execute_result"
    }
   ],
   "source": [
    "x = 'xyz'\n",
    "a_list = list(x)\n",
    "a_list"
   ]
  },
  {
   "cell_type": "markdown",
   "id": "3ef6d49c-9857-495c-a62b-ffb02b6d2c05",
   "metadata": {
    "tags": []
   },
   "source": [
    "### .split()\n",
    "list from string"
   ]
  },
  {
   "cell_type": "markdown",
   "id": "9d4dfe8d-f3a1-42f7-892e-269225803185",
   "metadata": {},
   "source": [
    "#### .join()\n",
    "string from list"
   ]
  },
  {
   "cell_type": "code",
   "execution_count": 15,
   "id": "e13e3fb9-76d2-4333-9280-f5844688012b",
   "metadata": {},
   "outputs": [
    {
     "data": {
      "text/plain": [
       "'Sun Mon Tue Wed Thu Fri Sat'"
      ]
     },
     "execution_count": 15,
     "metadata": {},
     "output_type": "execute_result"
    }
   ],
   "source": [
    "days = [\"Sun\", \"Mon\", \"Tue\", \"Wed\", \"Thu\", \"Fri\", \"Sat\"]\n",
    "sep = ' '\n",
    "sentence = sep.join(days)\n",
    "sentence"
   ]
  },
  {
   "cell_type": "code",
   "execution_count": 5,
   "id": "9d75c489-5c6f-4fa5-b58f-b22869bd93ea",
   "metadata": {},
   "outputs": [
    {
     "name": "stdout",
     "output_type": "stream",
     "text": [
      "['Sun', 'Mon', 'Tue', 'Wed', 'Thu', 'Fri', 'Sat']\n"
     ]
    }
   ],
   "source": [
    "words = sentence.split()\n",
    "print(words)"
   ]
  },
  {
   "cell_type": "markdown",
   "id": "70661366-459a-4f16-b1bc-1c6e4108aea9",
   "metadata": {
    "tags": [],
    "toc-hr-collapsed": true
   },
   "source": [
    "### select  "
   ]
  },
  {
   "cell_type": "markdown",
   "id": "213caea7-c85d-4c66-a35d-326d9b376f65",
   "metadata": {
    "toc-hr-collapsed": true
   },
   "source": [
    "#### [start:stop+1:step]"
   ]
  },
  {
   "cell_type": "code",
   "execution_count": 6,
   "id": "88b5d9f3-c852-4936-8b2c-40c34f8c822a",
   "metadata": {},
   "outputs": [
    {
     "name": "stdout",
     "output_type": "stream",
     "text": [
      "1\n",
      "5\n",
      "3\n",
      "[2, 3, 4]\n",
      "[1, 2]\n",
      "[3, 4, 5]\n",
      "[3, 4, 5]\n",
      "[1, 3, 5]\n",
      "[1, 2, 3, 4, 5]\n",
      "[5, 4, 3, 2, 1]\n"
     ]
    }
   ],
   "source": [
    "a = [1, 2, 3, 4, 5]\n",
    "\n",
    "print(a[0]) # first element\n",
    "print(a[-1]) # last element\n",
    "print(a[2]) # single element\n",
    "\n",
    "print(a[1:4]) # slice\n",
    "print(a[:2]) # slice from beginning\n",
    "print(a[2:]) # slice to end\n",
    "print(a[-3:]) # slice with neg index\n",
    "print(a[::2]) # step\n",
    "print(a[:]) # all values\n",
    "print(a[::-1]) # all values reversed"
   ]
  },
  {
   "cell_type": "markdown",
   "id": "db93f904-628e-4e32-9f5d-04b67188cf83",
   "metadata": {
    "toc-hr-collapsed": true
   },
   "source": [
    "#### list in list [i][i]"
   ]
  },
  {
   "cell_type": "code",
   "execution_count": 7,
   "id": "4adaeabe-c724-4ba1-b1d7-82e4e3613510",
   "metadata": {},
   "outputs": [
    {
     "name": "stdout",
     "output_type": "stream",
     "text": [
      "[1, 2, 3]\n",
      "2\n"
     ]
    }
   ],
   "source": [
    "c = [[1,2,3],[4,5,6]]\n",
    "print(c[0])\n",
    "print(c[0][1])"
   ]
  },
  {
   "cell_type": "markdown",
   "id": "1fd9c191-48ac-4b3c-b4a6-e38e2faa5d45",
   "metadata": {
    "tags": [],
    "toc-hr-collapsed": true
   },
   "source": [
    "### = is reference only, not copy"
   ]
  },
  {
   "cell_type": "markdown",
   "id": "7bf1e477-9a97-4925-92d8-304f64df2f3a",
   "metadata": {},
   "source": [
    "Changing one list will affect all names referring to it  \n",
    "Can prevent using .copy()"
   ]
  },
  {
   "cell_type": "code",
   "execution_count": 8,
   "id": "efada100-1088-4273-8139-78ac4da3da27",
   "metadata": {},
   "outputs": [
    {
     "name": "stdout",
     "output_type": "stream",
     "text": [
      "a:[1, 2, 3, 4, 5]\n",
      "b:[1, 2, 3, 4, 5]\n",
      "\n",
      "is test: True\n",
      "== test: True\n",
      "id test: True\n",
      "\n",
      "a:[99, 2, 3, 4, 5]\n",
      "b:[99, 2, 3, 4, 5]\n"
     ]
    }
   ],
   "source": [
    "a = [1, 2, 3, 4, 5]\n",
    "b = a\n",
    "print(f'a:{a}')\n",
    "print(f'b:{b}')\n",
    "\n",
    "print(f'\\nis test: {b is a}')\n",
    "print(f'== test: {b == a}')\n",
    "print(f'id test: {id(a) == id(b)}')\n",
    "\n",
    "a[0] = 99\n",
    "print(f'\\na:{a}')\n",
    "print(f'b:{b}')"
   ]
  },
  {
   "cell_type": "markdown",
   "id": "e8df7c16-c4eb-4736-b730-c1bf4d12b234",
   "metadata": {
    "toc-hr-collapsed": true
   },
   "source": [
    "### len()"
   ]
  },
  {
   "cell_type": "code",
   "execution_count": 9,
   "id": "2ad10f83-a7c2-437a-bcee-1a8751e3c772",
   "metadata": {},
   "outputs": [
    {
     "data": {
      "text/plain": [
       "5"
      ]
     },
     "execution_count": 9,
     "metadata": {},
     "output_type": "execute_result"
    }
   ],
   "source": [
    "len(a)"
   ]
  },
  {
   "cell_type": "markdown",
   "id": "d49090a2-c900-4061-8c19-78011f91854b",
   "metadata": {
    "tags": [],
    "toc-hr-collapsed": true
   },
   "source": [
    "### mutate  \n",
    "lists are mutable"
   ]
  },
  {
   "cell_type": "code",
   "execution_count": 10,
   "id": "43da0be7-a890-4cc5-98c5-b46e2553dfae",
   "metadata": {},
   "outputs": [
    {
     "name": "stdout",
     "output_type": "stream",
     "text": [
      "[1, 2, 3, 4, 5]\n",
      "[0, 2, 3, 4, 5]\n"
     ]
    }
   ],
   "source": [
    "a = [1, 2, 3, 4, 5]\n",
    "print(a)\n",
    "a[0] = 0\n",
    "print(a)"
   ]
  },
  {
   "cell_type": "code",
   "execution_count": 11,
   "id": "cdab574c-88e1-4f9c-9e2e-420e741dc4af",
   "metadata": {},
   "outputs": [
    {
     "name": "stdout",
     "output_type": "stream",
     "text": [
      "[1, 2, 6, 7]\n"
     ]
    }
   ],
   "source": [
    "a = [1, 2, 3, 4, 5]\n",
    "a[2:] = [6,7]\n",
    "print(a)"
   ]
  },
  {
   "cell_type": "markdown",
   "id": "63500c6d-eb7f-47ac-98c9-0603468a8ca6",
   "metadata": {
    "tags": []
   },
   "source": [
    "### methods  \n",
    "- most methods change list in place (copy, count and index do not)  \n",
    "- for methods that change list in place - can't assign to a new list in same step, will be None"
   ]
  },
  {
   "cell_type": "markdown",
   "id": "97710eeb-7928-4a8f-904a-15e3633a4f22",
   "metadata": {
    "toc-hr-collapsed": true
   },
   "source": [
    "#### dir"
   ]
  },
  {
   "cell_type": "code",
   "execution_count": 4,
   "id": "7afc903c-277b-4250-9dff-951e71ab18cd",
   "metadata": {},
   "outputs": [
    {
     "data": {
      "text/plain": [
       "['append',\n",
       " 'clear',\n",
       " 'copy',\n",
       " 'count',\n",
       " 'extend',\n",
       " 'index',\n",
       " 'insert',\n",
       " 'pop',\n",
       " 'remove',\n",
       " 'reverse',\n",
       " 'sort']"
      ]
     },
     "execution_count": 4,
     "metadata": {},
     "output_type": "execute_result"
    }
   ],
   "source": [
    "[method for method in dir(list()) if not method.startswith('_')]"
   ]
  },
  {
   "cell_type": "markdown",
   "id": "8237ebf3-27b7-4b91-bf83-6383d261615d",
   "metadata": {
    "toc-hr-collapsed": true
   },
   "source": [
    "#### .append()   \n",
    "- to add single item only"
   ]
  },
  {
   "cell_type": "code",
   "execution_count": 13,
   "id": "f1f5b1b9-e305-47d2-964f-a8ac9073e6e5",
   "metadata": {},
   "outputs": [
    {
     "name": "stdout",
     "output_type": "stream",
     "text": [
      "[1, 2, 3, 4, 5, 6]\n"
     ]
    }
   ],
   "source": [
    "a = [1, 2, 3, 4, 5] \n",
    "a.append(6) # for single item\n",
    "print(a)"
   ]
  },
  {
   "cell_type": "markdown",
   "id": "16ae182f-226d-4213-bc47-67e403ae77ef",
   "metadata": {
    "toc-hr-collapsed": true
   },
   "source": [
    "#### .clear()"
   ]
  },
  {
   "cell_type": "code",
   "execution_count": 14,
   "id": "67df57c8-75cb-481d-b4f2-79ca1898439f",
   "metadata": {},
   "outputs": [
    {
     "name": "stdout",
     "output_type": "stream",
     "text": [
      "[]\n"
     ]
    }
   ],
   "source": [
    "a = [1, 2, 3, 4, 5] \n",
    "a.clear()\n",
    "print(a)"
   ]
  },
  {
   "cell_type": "markdown",
   "id": "be0a4b34-a3ae-4b73-9c01-ecc19ef5b847",
   "metadata": {
    "tags": [],
    "toc-hr-collapsed": true
   },
   "source": [
    "#### .copy()"
   ]
  },
  {
   "cell_type": "code",
   "execution_count": 15,
   "id": "9c028004-b5df-4328-804d-39d13cbb5090",
   "metadata": {},
   "outputs": [
    {
     "name": "stdout",
     "output_type": "stream",
     "text": [
      "[1, 2, 3, 4, 5]\n"
     ]
    }
   ],
   "source": [
    "a = [1, 2, 3, 4, 5]\n",
    "b = a.copy()\n",
    "print(b)"
   ]
  },
  {
   "cell_type": "markdown",
   "id": "e0552c78-477d-40b8-9da1-a71dd7c69594",
   "metadata": {
    "toc-hr-collapsed": true
   },
   "source": [
    "#### .count()"
   ]
  },
  {
   "cell_type": "code",
   "execution_count": 16,
   "id": "ee58ac81-8261-4caa-857e-25ddde9be409",
   "metadata": {},
   "outputs": [
    {
     "data": {
      "text/plain": [
       "3"
      ]
     },
     "execution_count": 16,
     "metadata": {},
     "output_type": "execute_result"
    }
   ],
   "source": [
    "a = [1, 2, 3, 4, 5, 5, 5]\n",
    "a.count(5)"
   ]
  },
  {
   "cell_type": "markdown",
   "id": "f8e17df7-9fc8-488c-ae90-962f8c356146",
   "metadata": {
    "toc-hr-collapsed": true
   },
   "source": [
    "#### .extend()  \n",
    "- for multiple items only, requires iterable object"
   ]
  },
  {
   "cell_type": "code",
   "execution_count": 1,
   "id": "43a9dfe8-0e0b-424f-80a5-854f924d792a",
   "metadata": {},
   "outputs": [
    {
     "name": "stdout",
     "output_type": "stream",
     "text": [
      "[1, 2, 3, 4, 5, 6, 7, 8, 9, 10]\n"
     ]
    }
   ],
   "source": [
    "a = [1, 2, 3, 4, 5] \n",
    "a.extend([6, 7, 8, 9, 10])\n",
    "print(a)"
   ]
  },
  {
   "cell_type": "markdown",
   "id": "93488b07-4dc4-4777-8ce2-3d075e916d00",
   "metadata": {
    "toc-hr-collapsed": true
   },
   "source": [
    "#### .index(i)"
   ]
  },
  {
   "cell_type": "code",
   "execution_count": 18,
   "id": "ed28fa3f-8527-42da-822e-951632da9c21",
   "metadata": {},
   "outputs": [
    {
     "data": {
      "text/plain": [
       "2"
      ]
     },
     "execution_count": 18,
     "metadata": {},
     "output_type": "execute_result"
    }
   ],
   "source": [
    "a = [1, 2, 3, 4, 5] \n",
    "a.index(3)"
   ]
  },
  {
   "cell_type": "markdown",
   "id": "5855d84e-6922-4554-9934-adb8d9924054",
   "metadata": {
    "toc-hr-collapsed": true
   },
   "source": [
    "#### .insert()  \n",
    "- to add at specific index"
   ]
  },
  {
   "cell_type": "code",
   "execution_count": 19,
   "id": "571b3449-1fa9-4d3f-86ef-41af2686dbfa",
   "metadata": {},
   "outputs": [
    {
     "name": "stdout",
     "output_type": "stream",
     "text": [
      "[1, 2, 3, 99, 4, 5]\n"
     ]
    }
   ],
   "source": [
    "a = [1, 2, 3, 4, 5] \n",
    "a.insert(3, 99) # index,object\n",
    "print(a)"
   ]
  },
  {
   "cell_type": "markdown",
   "id": "3af21af8-8065-4c81-8ad1-f3564523b659",
   "metadata": {
    "toc-hr-collapsed": true
   },
   "source": [
    "#### .pop()  \n",
    "- default index is -1"
   ]
  },
  {
   "cell_type": "code",
   "execution_count": 20,
   "id": "92d8975e-787e-46f3-a0fb-071b701e2ed9",
   "metadata": {},
   "outputs": [
    {
     "name": "stdout",
     "output_type": "stream",
     "text": [
      "a: [1, 2, 3, 4]\n",
      "x: 5\n"
     ]
    }
   ],
   "source": [
    "a = [1, 2, 3, 4, 5]\n",
    "x = a.pop()\n",
    "print(f'a: {a}\\nx: {x}')"
   ]
  },
  {
   "cell_type": "code",
   "execution_count": 21,
   "id": "53881a97-8de0-473b-b5e1-2e1e0a88c497",
   "metadata": {},
   "outputs": [
    {
     "name": "stdout",
     "output_type": "stream",
     "text": [
      "a: [2, 3, 4, 5]\n",
      "x: 1\n"
     ]
    }
   ],
   "source": [
    "a = [1, 2, 3, 4, 5]\n",
    "x = a.pop(0)\n",
    "print(f'a: {a}\\nx: {x}')"
   ]
  },
  {
   "cell_type": "markdown",
   "id": "c1d56da6-337a-4461-8a9b-b84d033bbe5a",
   "metadata": {
    "toc-hr-collapsed": true
   },
   "source": [
    "#### .remove()  \n",
    "- removes first occurrence"
   ]
  },
  {
   "cell_type": "code",
   "execution_count": 22,
   "id": "394ee3be-ae0b-44bf-9b17-6f5a250c94bc",
   "metadata": {},
   "outputs": [
    {
     "name": "stdout",
     "output_type": "stream",
     "text": [
      "[1, 3, 4, 5, 2]\n"
     ]
    }
   ],
   "source": [
    "a = [1, 2, 3, 4, 5, 2]\n",
    "a.remove(2)\n",
    "print(a)"
   ]
  },
  {
   "cell_type": "markdown",
   "id": "a87d94d9-4115-47c2-a7f0-8f2583e07057",
   "metadata": {
    "toc-hr-collapsed": true
   },
   "source": [
    "#### .reverse() "
   ]
  },
  {
   "cell_type": "code",
   "execution_count": 23,
   "id": "95b3ee8a-a13f-4f59-a5b8-b12870095586",
   "metadata": {},
   "outputs": [
    {
     "name": "stdout",
     "output_type": "stream",
     "text": [
      "[5, 4, 3, 2, 1]\n",
      "None\n"
     ]
    }
   ],
   "source": [
    "a = [1, 2, 3, 4, 5]\n",
    "b = a.reverse()\n",
    "print(a)\n",
    "print(b)"
   ]
  },
  {
   "cell_type": "markdown",
   "id": "f3a6bfb7-d707-4d96-a492-19ef5ab2501b",
   "metadata": {
    "toc-hr-collapsed": true
   },
   "source": [
    "#### .sort()"
   ]
  },
  {
   "cell_type": "code",
   "execution_count": 24,
   "id": "41ce1c64-9436-405b-9c0b-eada8f91a83b",
   "metadata": {},
   "outputs": [
    {
     "name": "stdout",
     "output_type": "stream",
     "text": [
      "[5, 4, 3, 2, 1]\n",
      "[1, 2, 3, 4, 5]\n"
     ]
    }
   ],
   "source": [
    "a = [1, 2, 3, 4, 5]\n",
    "a.sort(reverse=True)\n",
    "print(a)\n",
    "a.sort()\n",
    "print(a)"
   ]
  },
  {
   "cell_type": "markdown",
   "id": "ffd9b678-8c8e-4dec-98b2-6f493fdde85c",
   "metadata": {},
   "source": [
    "### del"
   ]
  },
  {
   "cell_type": "markdown",
   "id": "48cad02d-b1f2-47ec-8625-bbd524f602a9",
   "metadata": {
    "tags": [],
    "toc-hr-collapsed": true
   },
   "source": [
    "#### del value"
   ]
  },
  {
   "cell_type": "code",
   "execution_count": 25,
   "id": "6cea8fd0-519a-46fd-84fc-da687abf58f8",
   "metadata": {},
   "outputs": [
    {
     "name": "stdout",
     "output_type": "stream",
     "text": [
      "[1, 2, 3, 5]\n"
     ]
    }
   ],
   "source": [
    "a = [1, 2, 3, 4, 5]\n",
    "del a[3]\n",
    "print(a)"
   ]
  },
  {
   "cell_type": "markdown",
   "id": "7215d7ec-5c0f-48d3-ad9d-b21d2996d6ed",
   "metadata": {
    "tags": [],
    "toc-hr-collapsed": true
   },
   "source": [
    "#### del slice"
   ]
  },
  {
   "cell_type": "code",
   "execution_count": 26,
   "id": "89553e66-10c0-467a-b2d9-67d71d472ce0",
   "metadata": {},
   "outputs": [
    {
     "name": "stdout",
     "output_type": "stream",
     "text": [
      "[1, 2, 3]\n"
     ]
    }
   ],
   "source": [
    "a = [1, 2, 3, 4, 5]\n",
    "del a[3:]\n",
    "print(a)"
   ]
  },
  {
   "cell_type": "markdown",
   "id": "b086ca2a-89a8-4522-b339-ad9cc0883bf5",
   "metadata": {},
   "source": [
    "### concatenate"
   ]
  },
  {
   "cell_type": "code",
   "execution_count": 27,
   "id": "d3872e2c-f942-4644-a2ab-f833adcf91d4",
   "metadata": {},
   "outputs": [
    {
     "name": "stdout",
     "output_type": "stream",
     "text": [
      "[1, 2, 3, 4, 5, 6]\n"
     ]
    }
   ],
   "source": [
    "a = [1, 2, 3]\n",
    "b = [4, 5, 6]\n",
    "print(a + b) "
   ]
  },
  {
   "cell_type": "markdown",
   "id": "4970bcb4-cdee-4e23-9b41-9ef81224fa2b",
   "metadata": {
    "toc-hr-collapsed": true
   },
   "source": [
    "### replicate"
   ]
  },
  {
   "cell_type": "code",
   "execution_count": 28,
   "id": "47501839-62ff-4559-a268-e174bc98b5cc",
   "metadata": {},
   "outputs": [
    {
     "name": "stdout",
     "output_type": "stream",
     "text": [
      "[1, 2, 3, 1, 2, 3]\n"
     ]
    }
   ],
   "source": [
    "print(a * 2)"
   ]
  },
  {
   "cell_type": "markdown",
   "id": "59210842-9d12-401e-8d88-97ada65ed22c",
   "metadata": {
    "toc-hr-collapsed": true
   },
   "source": [
    "### in"
   ]
  },
  {
   "cell_type": "code",
   "execution_count": 29,
   "id": "865bf086-7a93-48b8-9014-7bc1a6b9e5d5",
   "metadata": {},
   "outputs": [
    {
     "name": "stdout",
     "output_type": "stream",
     "text": [
      "True\n",
      "False\n",
      "True\n"
     ]
    }
   ],
   "source": [
    "a = [1, 2, 3]\n",
    "print(2 in a)\n",
    "print(0 in a)\n",
    "print(0 not in a)"
   ]
  },
  {
   "cell_type": "markdown",
   "id": "e00d133e-4974-40bd-a0e8-e26a60b914a9",
   "metadata": {
    "toc-hr-collapsed": true
   },
   "source": [
    "### deepcopy  \n",
    "if lists contain other lists"
   ]
  },
  {
   "cell_type": "code",
   "execution_count": 2,
   "id": "fb6daf7b-3822-49f2-a240-44ca359ea7f8",
   "metadata": {},
   "outputs": [],
   "source": [
    "import copy"
   ]
  },
  {
   "cell_type": "code",
   "execution_count": 3,
   "id": "158f2a72-1336-49e1-8756-476b3fc2084d",
   "metadata": {},
   "outputs": [
    {
     "data": {
      "text/plain": [
       "[[1, 2, 3], [5, 6], [90, 100, 109]]"
      ]
     },
     "execution_count": 3,
     "metadata": {},
     "output_type": "execute_result"
    }
   ],
   "source": [
    "list_list = [[1, 2, 3], [5,6], [90, 100, 109]]"
   ]
  },
  {
   "cell_type": "code",
   "execution_count": 4,
   "id": "26a0eb11-0c9f-4f27-92cb-264adbb0e1b5",
   "metadata": {},
   "outputs": [
    {
     "data": {
      "text/plain": [
       "[[1, 2, 3], [5, 6], [90, 100, 109]]"
      ]
     },
     "execution_count": 4,
     "metadata": {},
     "output_type": "execute_result"
    }
   ],
   "source": [
    "list_list2 = list_list.copy()"
   ]
  },
  {
   "cell_type": "code",
   "execution_count": 6,
   "id": "f3f00c9b-6e4b-4e86-b584-5d682e21a325",
   "metadata": {},
   "outputs": [
    {
     "data": {
      "text/plain": [
       "[[1, 2, 3], [5, 6], [90, 100, 109]]"
      ]
     },
     "execution_count": 6,
     "metadata": {},
     "output_type": "execute_result"
    }
   ],
   "source": [
    "list_list3 = copy.deepcopy(list_list)\n",
    "list_list3"
   ]
  },
  {
   "cell_type": "code",
   "execution_count": 10,
   "id": "c1ac453c-8f0e-4da7-b402-250205b61366",
   "metadata": {},
   "outputs": [
    {
     "data": {
      "text/plain": [
       "False"
      ]
     },
     "execution_count": 10,
     "metadata": {},
     "output_type": "execute_result"
    }
   ],
   "source": [
    "list_list is list_list2"
   ]
  },
  {
   "cell_type": "code",
   "execution_count": 11,
   "id": "07208d23-89cb-4ae4-b157-92ee9105060f",
   "metadata": {},
   "outputs": [
    {
     "data": {
      "text/plain": [
       "True"
      ]
     },
     "execution_count": 11,
     "metadata": {},
     "output_type": "execute_result"
    }
   ],
   "source": [
    "list_list[0] is list_list2[0]"
   ]
  },
  {
   "cell_type": "code",
   "execution_count": 12,
   "id": "17d449aa-28b2-4132-9c2c-314a0221d679",
   "metadata": {},
   "outputs": [
    {
     "data": {
      "text/plain": [
       "False"
      ]
     },
     "execution_count": 12,
     "metadata": {},
     "output_type": "execute_result"
    }
   ],
   "source": [
    "list_list is list_list3"
   ]
  },
  {
   "cell_type": "code",
   "execution_count": 13,
   "id": "d81d37cf-6d09-4408-b5e3-ed064b0f1209",
   "metadata": {},
   "outputs": [
    {
     "data": {
      "text/plain": [
       "False"
      ]
     },
     "execution_count": 13,
     "metadata": {},
     "output_type": "execute_result"
    }
   ],
   "source": [
    "list_list[0] is list_list3[0]"
   ]
  },
  {
   "cell_type": "markdown",
   "id": "cba686f7-70a0-4c39-b687-8813782e1f30",
   "metadata": {},
   "source": [
    "### sorted\n",
    "stores results in new list, not in place"
   ]
  },
  {
   "cell_type": "code",
   "execution_count": 14,
   "id": "9ada2e98-cb3d-49ec-ac08-e89155f42ded",
   "metadata": {},
   "outputs": [
    {
     "data": {
      "text/plain": [
       "[1, 2, 3, 4, 5]"
      ]
     },
     "execution_count": 14,
     "metadata": {},
     "output_type": "execute_result"
    }
   ],
   "source": [
    "a = [3, 4, 5, 1, 2]\n",
    "b = sorted(a)"
   ]
  },
  {
   "cell_type": "markdown",
   "id": "4c708376-5722-4bb3-906a-43be547b32e2",
   "metadata": {
    "tags": [],
    "toc-hr-collapsed": true
   },
   "source": [
    "<a id='ds-range'></a>\n",
    "## Range"
   ]
  },
  {
   "cell_type": "markdown",
   "id": "f14ac031-25ce-40d8-92a2-c6f21205e694",
   "metadata": {},
   "source": [
    "[Return to Start of Notebook](#ds)  "
   ]
  },
  {
   "cell_type": "markdown",
   "id": "795d005d-a186-472d-899b-c2cc683220db",
   "metadata": {
    "tags": [],
    "toc-hr-collapsed": true
   },
   "source": [
    "### define with range constructor  \n",
    "- creates definition of range object\n",
    "- a sequence of integers with a start, stop and step value"
   ]
  },
  {
   "cell_type": "code",
   "execution_count": 30,
   "id": "a6bae9b0-e148-4492-9025-5681d25e94ea",
   "metadata": {},
   "outputs": [
    {
     "data": {
      "text/plain": [
       "range(0, 8)"
      ]
     },
     "execution_count": 30,
     "metadata": {},
     "output_type": "execute_result"
    }
   ],
   "source": [
    "r1 = range(8) # stop"
   ]
  },
  {
   "cell_type": "code",
   "execution_count": 31,
   "id": "5e195931-f524-47d5-a0d2-eb3cd4fc3c08",
   "metadata": {},
   "outputs": [
    {
     "data": {
      "text/plain": [
       "range(5, 10)"
      ]
     },
     "execution_count": 31,
     "metadata": {},
     "output_type": "execute_result"
    }
   ],
   "source": [
    "r2 = range(5,10) # start,stop"
   ]
  },
  {
   "cell_type": "code",
   "execution_count": 32,
   "id": "c901958a-e815-41f1-b641-19bd6d514a64",
   "metadata": {},
   "outputs": [
    {
     "data": {
      "text/plain": [
       "range(10, 101, 10)"
      ]
     },
     "execution_count": 32,
     "metadata": {},
     "output_type": "execute_result"
    }
   ],
   "source": [
    "r3 = range(10,101,10) # start,stop,step"
   ]
  },
  {
   "cell_type": "markdown",
   "id": "6876b91b-2f2e-4a33-b886-a3690450c968",
   "metadata": {
    "toc-hr-collapsed": true
   },
   "source": [
    "### type()"
   ]
  },
  {
   "cell_type": "code",
   "execution_count": 33,
   "id": "5891427c-435c-4630-877f-53aa8f578ea3",
   "metadata": {},
   "outputs": [
    {
     "name": "stdout",
     "output_type": "stream",
     "text": [
      "<class 'range'>\n"
     ]
    }
   ],
   "source": [
    "print(type(r1))"
   ]
  },
  {
   "cell_type": "markdown",
   "id": "50f31884-7ea5-427e-aa88-9806e909ddff",
   "metadata": {
    "toc-hr-collapsed": true
   },
   "source": [
    "### attributes"
   ]
  },
  {
   "cell_type": "code",
   "execution_count": 34,
   "id": "c27fbf97-7e6a-4c0c-b6ad-0478b1b218c4",
   "metadata": {},
   "outputs": [
    {
     "name": "stdout",
     "output_type": "stream",
     "text": [
      "0\n",
      "8\n",
      "1\n"
     ]
    }
   ],
   "source": [
    "print(r1.start)\n",
    "print(r1.stop)\n",
    "print(r1.step)"
   ]
  },
  {
   "cell_type": "markdown",
   "id": "d5cc0de6-8789-4c57-816b-566c4b78c877",
   "metadata": {
    "toc-hr-collapsed": true
   },
   "source": [
    "### len()"
   ]
  },
  {
   "cell_type": "code",
   "execution_count": 35,
   "id": "0a1bd22c-3e1b-446a-8162-168e92f9d681",
   "metadata": {},
   "outputs": [
    {
     "name": "stdout",
     "output_type": "stream",
     "text": [
      "8\n"
     ]
    }
   ],
   "source": [
    "print(len(r1))"
   ]
  },
  {
   "cell_type": "markdown",
   "id": "67a70a22-828e-42ff-82a7-36f9fc06915a",
   "metadata": {
    "tags": [],
    "toc-hr-collapsed": true
   },
   "source": [
    "### view with list constructor"
   ]
  },
  {
   "cell_type": "code",
   "execution_count": 36,
   "id": "027282c7-4f70-4aac-b7d3-c5ac15a6fd40",
   "metadata": {},
   "outputs": [
    {
     "data": {
      "text/plain": [
       "[0, 1, 2, 3, 4, 5, 6, 7]"
      ]
     },
     "execution_count": 36,
     "metadata": {},
     "output_type": "execute_result"
    }
   ],
   "source": [
    "list(r1)"
   ]
  },
  {
   "cell_type": "code",
   "execution_count": 37,
   "id": "21d56fee-c3ce-4aeb-b2c4-22f52e221e7b",
   "metadata": {},
   "outputs": [
    {
     "data": {
      "text/plain": [
       "[5, 6, 7, 8, 9]"
      ]
     },
     "execution_count": 37,
     "metadata": {},
     "output_type": "execute_result"
    }
   ],
   "source": [
    "list(r2)"
   ]
  },
  {
   "cell_type": "code",
   "execution_count": 38,
   "id": "760218a4-b7dc-487b-8488-0f763c61cab0",
   "metadata": {},
   "outputs": [
    {
     "data": {
      "text/plain": [
       "[10, 20, 30, 40, 50, 60, 70, 80, 90, 100]"
      ]
     },
     "execution_count": 38,
     "metadata": {},
     "output_type": "execute_result"
    }
   ],
   "source": [
    "list(r3)"
   ]
  },
  {
   "cell_type": "markdown",
   "id": "66b82b5d-0820-40d4-b069-706a496beb3a",
   "metadata": {
    "toc-hr-collapsed": true
   },
   "source": [
    "### in"
   ]
  },
  {
   "cell_type": "code",
   "execution_count": 39,
   "id": "1c4f57de-3bac-4262-bf49-04a8486494f8",
   "metadata": {},
   "outputs": [
    {
     "name": "stdout",
     "output_type": "stream",
     "text": [
      "True\n",
      "False\n",
      "True\n"
     ]
    }
   ],
   "source": [
    "print(5 in r1)\n",
    "print(9 in r1)\n",
    "print(9 not in r1)"
   ]
  },
  {
   "cell_type": "markdown",
   "id": "a27df6f8-6149-4eeb-8407-b948edc4cd8b",
   "metadata": {
    "tags": [],
    "toc-hr-collapsed": true
   },
   "source": [
    "### select []"
   ]
  },
  {
   "cell_type": "code",
   "execution_count": 40,
   "id": "1c4a55fa-fc49-4199-8153-622a2b86aebf",
   "metadata": {},
   "outputs": [
    {
     "name": "stdout",
     "output_type": "stream",
     "text": [
      "0\n",
      "7\n"
     ]
    }
   ],
   "source": [
    "print(r1[0])\n",
    "print(r1[-1])"
   ]
  },
  {
   "cell_type": "markdown",
   "id": "2db9d382-ed9d-4e20-9614-badcc3208d58",
   "metadata": {},
   "source": [
    "### iterate"
   ]
  },
  {
   "cell_type": "code",
   "execution_count": 114,
   "id": "6f77c21a-faca-4924-931f-c6504eaa1edb",
   "metadata": {},
   "outputs": [
    {
     "name": "stdout",
     "output_type": "stream",
     "text": [
      "0\n",
      "1\n",
      "2\n",
      "3\n",
      "4\n"
     ]
    }
   ],
   "source": [
    "for i in range(5):\n",
    "    print(i)"
   ]
  },
  {
   "cell_type": "markdown",
   "id": "6dfc7947-ee1c-464e-a07e-febc8a93a4d9",
   "metadata": {
    "tags": [],
    "toc-hr-collapsed": true
   },
   "source": [
    "<a id='ds-tuple'></a>\n",
    "## Tuple"
   ]
  },
  {
   "cell_type": "markdown",
   "id": "f9bff127-fb30-46e1-ab15-23f4d1df0d6b",
   "metadata": {},
   "source": [
    "[Return to Start of Notebook](#ds)  "
   ]
  },
  {
   "cell_type": "markdown",
   "id": "dc3a7ec4-ee79-4e88-beb9-e2ea19c06fc1",
   "metadata": {},
   "source": [
    "- immutable  \n",
    "- can use in sets and as dictionaries keys (cannot use lists)"
   ]
  },
  {
   "cell_type": "markdown",
   "id": "e2b2a734-33dd-4172-96fa-af9548e6a51c",
   "metadata": {},
   "source": [
    "A tuple is similar to list, except it is ordered and unchangeable.  \n",
    "Tuples are written with round brackets.  \n",
    "Tuples are unchangeable, meaning that you cannot change, add, or remove items once the tuple is created.  \n",
    "You can convert the tuple into a list, change the list, and convert the list back into a tuple.  "
   ]
  },
  {
   "cell_type": "markdown",
   "id": "1694077f-aeb9-4711-91a3-9e83968b41b3",
   "metadata": {
    "toc-hr-collapsed": true
   },
   "source": [
    "### create"
   ]
  },
  {
   "cell_type": "code",
   "execution_count": 16,
   "id": "1e43f9cb-4b4f-419d-a1c8-8d0ab9ebf309",
   "metadata": {},
   "outputs": [
    {
     "data": {
      "text/plain": [
       "tuple"
      ]
     },
     "execution_count": 16,
     "metadata": {},
     "output_type": "execute_result"
    }
   ],
   "source": [
    "latitude = 45.3\n",
    "longitude = 38.2\n",
    "coords = (latitude, longitude)\n",
    "type(coords)"
   ]
  },
  {
   "cell_type": "code",
   "execution_count": 18,
   "id": "6e0f91a6-95ca-4478-8ddb-6999e5105248",
   "metadata": {},
   "outputs": [
    {
     "name": "stdout",
     "output_type": "stream",
     "text": [
      "<class 'tuple'>\n",
      "(1, 2, 3, 4, 5)\n"
     ]
    }
   ],
   "source": [
    "a = 1, 2, 3, 4, 5   # without parentheses, separated by commas\n",
    "b = (1, 2, 3, 4, 5) # with parentheses, separated by commas\n",
    "\n",
    "print(type(a))\n",
    "print(a)"
   ]
  },
  {
   "cell_type": "code",
   "execution_count": 42,
   "id": "df1c15ad-e4e1-4017-87eb-4193cd7742eb",
   "metadata": {},
   "outputs": [
    {
     "name": "stdout",
     "output_type": "stream",
     "text": [
      "<class 'tuple'>\n",
      "(1, 2.0, True, 'abc')\n"
     ]
    }
   ],
   "source": [
    "c = (1, 2.0, True, 'abc') # mixed types\n",
    "print(type(c))\n",
    "print(c)"
   ]
  },
  {
   "cell_type": "code",
   "execution_count": 43,
   "id": "ab4fe330-8561-4fe7-a743-9349561194f6",
   "metadata": {},
   "outputs": [
    {
     "name": "stdout",
     "output_type": "stream",
     "text": [
      "<class 'tuple'>\n",
      "(1,)\n"
     ]
    }
   ],
   "source": [
    "d = 1,\n",
    "e = (1,)\n",
    "print(type(d))\n",
    "print(d)"
   ]
  },
  {
   "cell_type": "markdown",
   "id": "c58f1f75-928a-4bbb-b39b-13b534961bd5",
   "metadata": {
    "toc-hr-collapsed": true
   },
   "source": [
    "### empty"
   ]
  },
  {
   "cell_type": "code",
   "execution_count": 44,
   "id": "29ef5b60-0730-41d6-8f45-8352d9e088c1",
   "metadata": {},
   "outputs": [
    {
     "data": {
      "text/plain": [
       "tuple"
      ]
     },
     "execution_count": 44,
     "metadata": {},
     "output_type": "execute_result"
    }
   ],
   "source": [
    "a = ()\n",
    "type(a)"
   ]
  },
  {
   "cell_type": "markdown",
   "id": "e41eb78d-4400-417d-b861-0341d9c686c2",
   "metadata": {
    "toc-hr-collapsed": true
   },
   "source": [
    "### constructor"
   ]
  },
  {
   "cell_type": "code",
   "execution_count": 28,
   "id": "9ab9ac80-cc52-45db-8b58-fc0de9fc3abf",
   "metadata": {},
   "outputs": [
    {
     "data": {
      "text/plain": [
       "tuple"
      ]
     },
     "execution_count": 28,
     "metadata": {},
     "output_type": "execute_result"
    }
   ],
   "source": [
    "coords_list = [45.3, 38.2]\n",
    "coords = tuple(coords_list)\n",
    "type(coords)"
   ]
  },
  {
   "cell_type": "markdown",
   "id": "bfd78b25-13ed-415f-b3a9-efbf7d89e352",
   "metadata": {
    "tags": [],
    "toc-hr-collapsed": true
   },
   "source": [
    "### select\n",
    "same as lists"
   ]
  },
  {
   "cell_type": "code",
   "execution_count": 29,
   "id": "6f1bb9ed-ac24-425b-a9cd-d3f8cec8c05f",
   "metadata": {},
   "outputs": [
    {
     "data": {
      "text/plain": [
       "45.3"
      ]
     },
     "execution_count": 29,
     "metadata": {},
     "output_type": "execute_result"
    }
   ],
   "source": [
    "latitude = coords[0]"
   ]
  },
  {
   "cell_type": "code",
   "execution_count": 30,
   "id": "473356f7-bdde-4ce1-8e5b-567a464f295a",
   "metadata": {},
   "outputs": [
    {
     "data": {
      "text/plain": [
       "38.2"
      ]
     },
     "execution_count": 30,
     "metadata": {},
     "output_type": "execute_result"
    }
   ],
   "source": [
    "latitude = coords[1]"
   ]
  },
  {
   "cell_type": "markdown",
   "id": "c315686f-115b-4f06-ab91-dc80b288ca49",
   "metadata": {},
   "source": [
    "### unpack"
   ]
  },
  {
   "cell_type": "code",
   "execution_count": 31,
   "id": "1759ea10-44d5-415f-bdec-40c533f002f4",
   "metadata": {},
   "outputs": [
    {
     "name": "stdout",
     "output_type": "stream",
     "text": [
      "45.3\n",
      "38.2\n"
     ]
    }
   ],
   "source": [
    "latitude, longitude = coords\n",
    "print(latitude)\n",
    "print(longitude)"
   ]
  },
  {
   "cell_type": "markdown",
   "id": "26195cc8-ad7c-4f05-bded-600e41a47227",
   "metadata": {
    "toc-hr-collapsed": true
   },
   "source": [
    "### methods  \n",
    "only methods that do not mutate in place"
   ]
  },
  {
   "cell_type": "code",
   "execution_count": 3,
   "id": "8726bc37-9f48-47b9-b23d-f2101afc1f34",
   "metadata": {},
   "outputs": [
    {
     "data": {
      "text/plain": [
       "['count', 'index']"
      ]
     },
     "execution_count": 3,
     "metadata": {},
     "output_type": "execute_result"
    }
   ],
   "source": [
    "[method for method in dir(tuple()) if not method.startswith('_')]"
   ]
  },
  {
   "cell_type": "markdown",
   "id": "aae74233-c660-4641-80b0-4b6a9201879d",
   "metadata": {
    "toc-hr-collapsed": true
   },
   "source": [
    "#### .count()"
   ]
  },
  {
   "cell_type": "code",
   "execution_count": 48,
   "id": "5de5fbda-20a3-4f02-bc42-9d5bcbc64c77",
   "metadata": {},
   "outputs": [
    {
     "data": {
      "text/plain": [
       "3"
      ]
     },
     "execution_count": 48,
     "metadata": {},
     "output_type": "execute_result"
    }
   ],
   "source": [
    "a = (1, 2, 3, 4, 5, 5, 5)\n",
    "a.count(5)"
   ]
  },
  {
   "cell_type": "markdown",
   "id": "3d74825f-7b4d-4bff-81d2-180a9043543a",
   "metadata": {
    "toc-hr-collapsed": true
   },
   "source": [
    "#### .index(i)"
   ]
  },
  {
   "cell_type": "code",
   "execution_count": 49,
   "id": "1f64789a-7369-4e24-bf10-431a0583015e",
   "metadata": {},
   "outputs": [
    {
     "data": {
      "text/plain": [
       "2"
      ]
     },
     "execution_count": 49,
     "metadata": {},
     "output_type": "execute_result"
    }
   ],
   "source": [
    "a = (1, 2, 3, 4, 5) \n",
    "a.index(3)"
   ]
  },
  {
   "cell_type": "markdown",
   "id": "c941b283-dfa9-49f4-b218-3b1f19137849",
   "metadata": {
    "toc-hr-collapsed": true
   },
   "source": [
    "### mutate\n",
    "convert to list, change, convert to tuple"
   ]
  },
  {
   "cell_type": "code",
   "execution_count": 33,
   "id": "4588c09b-2ca2-4b00-aef8-4615696d2fca",
   "metadata": {},
   "outputs": [
    {
     "data": {
      "text/plain": [
       "[45.3, 38.2]"
      ]
     },
     "execution_count": 33,
     "metadata": {},
     "output_type": "execute_result"
    }
   ],
   "source": [
    "coords_list = list(coords)"
   ]
  },
  {
   "cell_type": "code",
   "execution_count": 35,
   "id": "22fc66f2-1c52-4d3a-b091-eb255c21224f",
   "metadata": {},
   "outputs": [],
   "source": [
    "coords_list[1] = 17.8"
   ]
  },
  {
   "cell_type": "code",
   "execution_count": 36,
   "id": "d1bf2ec1-009a-4769-b291-90d1d99200bc",
   "metadata": {},
   "outputs": [
    {
     "data": {
      "text/plain": [
       "(45.3, 17.8)"
      ]
     },
     "execution_count": 36,
     "metadata": {},
     "output_type": "execute_result"
    }
   ],
   "source": [
    "coords = tuple(coords_list)\n",
    "coords"
   ]
  },
  {
   "cell_type": "markdown",
   "id": "ecb9fc23-bc49-49ea-b525-4a972546efda",
   "metadata": {},
   "source": [
    "### concatenate"
   ]
  },
  {
   "cell_type": "code",
   "execution_count": 37,
   "id": "255e6d03-ed4b-46d4-8922-a74f18b9a9b8",
   "metadata": {},
   "outputs": [
    {
     "name": "stdout",
     "output_type": "stream",
     "text": [
      "(10, 20, 30, 40)\n"
     ]
    }
   ],
   "source": [
    "tuple1 = (10, 20)\n",
    "tuple2 = (30, 40)\n",
    "tuple3 = tuple1 + tuple2\n",
    "print(tuple3)"
   ]
  },
  {
   "cell_type": "markdown",
   "id": "aad0735c-2372-42d5-ad45-faa507745f3d",
   "metadata": {
    "toc-hr-collapsed": true
   },
   "source": [
    "### in"
   ]
  },
  {
   "cell_type": "code",
   "execution_count": 51,
   "id": "c3b69749-4175-413c-8b4c-48644a48ef20",
   "metadata": {},
   "outputs": [
    {
     "data": {
      "text/plain": [
       "True"
      ]
     },
     "execution_count": 51,
     "metadata": {},
     "output_type": "execute_result"
    }
   ],
   "source": [
    "a = (1, 2, 3, 4, 5) \n",
    "2 in a"
   ]
  },
  {
   "cell_type": "markdown",
   "id": "07f928c1-c4ad-4b9d-b744-5a4868b1a021",
   "metadata": {
    "tags": [],
    "toc-hr-collapsed": true
   },
   "source": [
    "<a id='ds-set'></a>\n",
    "## Set"
   ]
  },
  {
   "cell_type": "markdown",
   "id": "e6fcc6fd-9370-4881-b486-12690c8ab6c4",
   "metadata": {},
   "source": [
    "[Return to Start of Notebook](#ds)  "
   ]
  },
  {
   "cell_type": "markdown",
   "id": "b85487e1-3bb2-4445-a9e3-9fab2312c951",
   "metadata": {},
   "source": [
    "- unordered sequence of unique elements  \n",
    "- mutable  \n",
    "- cannot select single items  \n",
    "- can only contain hashable (immutable) objects  \n",
    "  - can contain int, float, boolean, str, tuple  \n",
    "  - cannot contain list, set, dict\n",
    "- fast checking of membership  (much faster than lists)"
   ]
  },
  {
   "cell_type": "markdown",
   "id": "1aaaaff6-ad52-4cab-9731-e4416d65e821",
   "metadata": {
    "toc-hr-collapsed": true
   },
   "source": [
    "### create"
   ]
  },
  {
   "cell_type": "code",
   "execution_count": 52,
   "id": "6b710ddb-c8f9-46d3-98ae-b9cf42c631ae",
   "metadata": {},
   "outputs": [
    {
     "name": "stdout",
     "output_type": "stream",
     "text": [
      "<class 'set'>\n",
      "{1, 2, 3, 4, 5}\n"
     ]
    }
   ],
   "source": [
    "a = {2, 3, 1, 4, 5, 5, 5} # no implict order\n",
    "print(type(a))\n",
    "print(a) # duplicates removed"
   ]
  },
  {
   "cell_type": "code",
   "execution_count": 53,
   "id": "d82b80d2-7337-4045-87d5-e3fbfd8a92fc",
   "metadata": {},
   "outputs": [
    {
     "name": "stdout",
     "output_type": "stream",
     "text": [
      "{1, 2.0, 'abc'}\n"
     ]
    }
   ],
   "source": [
    "b = {1, 2.0, True, 'abc'} # mixed types\n",
    "print(b) # duplicates removed (True same as 1)"
   ]
  },
  {
   "cell_type": "markdown",
   "id": "acca8bc9-fbbb-4305-8b69-89c26ad85364",
   "metadata": {
    "toc-hr-collapsed": true
   },
   "source": [
    "### constructor  \n",
    "set(iterable)"
   ]
  },
  {
   "cell_type": "code",
   "execution_count": 54,
   "id": "5fac8553-7610-4e4c-a935-34576b06e5a7",
   "metadata": {},
   "outputs": [
    {
     "data": {
      "text/plain": [
       "{1, 2, 3}"
      ]
     },
     "execution_count": 54,
     "metadata": {},
     "output_type": "execute_result"
    }
   ],
   "source": [
    "a = [1,2,3,3]\n",
    "b = set(a)\n",
    "b"
   ]
  },
  {
   "cell_type": "code",
   "execution_count": 55,
   "id": "b1f5fdbb-2bf1-4651-93ba-ff69edc0ad98",
   "metadata": {},
   "outputs": [
    {
     "data": {
      "text/plain": [
       "{1, 2, 3}"
      ]
     },
     "execution_count": 55,
     "metadata": {},
     "output_type": "execute_result"
    }
   ],
   "source": [
    "a = (1,2,3,3)\n",
    "b = set(a)\n",
    "b"
   ]
  },
  {
   "cell_type": "code",
   "execution_count": 56,
   "id": "a4a04c8a-9bab-46ee-a891-f24fb46bde7b",
   "metadata": {},
   "outputs": [
    {
     "data": {
      "text/plain": [
       "{'a', 'b', 'c'}"
      ]
     },
     "execution_count": 56,
     "metadata": {},
     "output_type": "execute_result"
    }
   ],
   "source": [
    "a = 'abcabc'\n",
    "b = set(a)\n",
    "b"
   ]
  },
  {
   "cell_type": "code",
   "execution_count": 57,
   "id": "aa01563b-469e-4494-b8fa-6b40fce0ed45",
   "metadata": {},
   "outputs": [
    {
     "data": {
      "text/plain": [
       "{0, 1, 2, 3, 4, 5, 6, 7, 8, 9}"
      ]
     },
     "execution_count": 57,
     "metadata": {},
     "output_type": "execute_result"
    }
   ],
   "source": [
    "r = range(10)\n",
    "s = set(r)\n",
    "s"
   ]
  },
  {
   "cell_type": "markdown",
   "id": "aae798d5-b116-47cf-85c4-2cc467201ff1",
   "metadata": {
    "toc-hr-collapsed": true
   },
   "source": [
    "### empty\n",
    "{} is empty dictionary, not set  \n",
    "must use constructor"
   ]
  },
  {
   "cell_type": "code",
   "execution_count": 58,
   "id": "52ce4f1a-a559-46fb-b1d2-0ae54f2bfe6e",
   "metadata": {},
   "outputs": [
    {
     "data": {
      "text/plain": [
       "set"
      ]
     },
     "execution_count": 58,
     "metadata": {},
     "output_type": "execute_result"
    }
   ],
   "source": [
    "s = set()\n",
    "type(s)"
   ]
  },
  {
   "cell_type": "markdown",
   "id": "00c72cc5-7614-4f70-8dc3-d1b10deb8487",
   "metadata": {
    "tags": [],
    "toc-hr-collapsed": true
   },
   "source": [
    "### access items\n",
    "cannot use [] to select"
   ]
  },
  {
   "cell_type": "code",
   "execution_count": 59,
   "id": "7b518548-0c00-4329-b212-4052cb021de9",
   "metadata": {},
   "outputs": [
    {
     "name": "stdout",
     "output_type": "stream",
     "text": [
      "1\n",
      "2\n",
      "3\n",
      "4\n",
      "5\n"
     ]
    }
   ],
   "source": [
    "a = {2, 3, 1, 4, 5, 5, 5}\n",
    "for i in a:\n",
    "    print(i)"
   ]
  },
  {
   "cell_type": "markdown",
   "id": "55530822-9061-4c2c-82c5-f8a4d19c0fc3",
   "metadata": {
    "toc-hr-collapsed": true
   },
   "source": [
    "### len()"
   ]
  },
  {
   "cell_type": "code",
   "execution_count": 60,
   "id": "0a524460-5a1c-4e29-b4bd-ba490db30151",
   "metadata": {},
   "outputs": [
    {
     "data": {
      "text/plain": [
       "5"
      ]
     },
     "execution_count": 60,
     "metadata": {},
     "output_type": "execute_result"
    }
   ],
   "source": [
    "a = {2, 3, 1, 4, 5, 5, 5}\n",
    "len(a)"
   ]
  },
  {
   "cell_type": "markdown",
   "id": "75fd7bd3-bd74-45fa-a32f-5bb09328e5e8",
   "metadata": {
    "toc-hr-collapsed": true
   },
   "source": [
    "### in"
   ]
  },
  {
   "cell_type": "code",
   "execution_count": 61,
   "id": "0f721ccc-206a-4340-b427-9bc94c954607",
   "metadata": {},
   "outputs": [
    {
     "name": "stdout",
     "output_type": "stream",
     "text": [
      "True\n",
      "True\n"
     ]
    }
   ],
   "source": [
    "print(3 in a)\n",
    "print(7 not in a)"
   ]
  },
  {
   "cell_type": "markdown",
   "id": "ef8642d4-c3e6-4dce-a033-6d862d95602f",
   "metadata": {
    "toc-hr-collapsed": true
   },
   "source": [
    "### %time\n",
    "jupyter feature"
   ]
  },
  {
   "cell_type": "code",
   "execution_count": 62,
   "id": "de754505-f837-462b-84e5-a392fe6fc516",
   "metadata": {},
   "outputs": [],
   "source": [
    "n = 1_000_000\n",
    "a_set = set(range(n))\n",
    "a_list = list(range(n));"
   ]
  },
  {
   "cell_type": "code",
   "execution_count": 63,
   "id": "f73b1578-60e3-4a35-996f-84f645b1ee4d",
   "metadata": {},
   "outputs": [
    {
     "name": "stdout",
     "output_type": "stream",
     "text": [
      "CPU times: user 2 µs, sys: 0 ns, total: 2 µs\n",
      "Wall time: 4.05 µs\n"
     ]
    },
    {
     "data": {
      "text/plain": [
       "True"
      ]
     },
     "execution_count": 63,
     "metadata": {},
     "output_type": "execute_result"
    }
   ],
   "source": [
    "%time 900_000 in a_set"
   ]
  },
  {
   "cell_type": "code",
   "execution_count": 64,
   "id": "abc24ca8-7d41-4510-b3ff-352303deacee",
   "metadata": {},
   "outputs": [
    {
     "name": "stdout",
     "output_type": "stream",
     "text": [
      "CPU times: user 11.4 ms, sys: 217 µs, total: 11.6 ms\n",
      "Wall time: 11.7 ms\n"
     ]
    },
    {
     "data": {
      "text/plain": [
       "True"
      ]
     },
     "execution_count": 64,
     "metadata": {},
     "output_type": "execute_result"
    }
   ],
   "source": [
    "%time 900_000 in a_list"
   ]
  },
  {
   "cell_type": "markdown",
   "id": "cfe49926-83a8-4732-9217-10a1458bbad8",
   "metadata": {
    "toc-hr-collapsed": true
   },
   "source": [
    "### set operations  \n",
    "- union, intersection, difference, symmetric difference  \n",
    "- create new sets  "
   ]
  },
  {
   "cell_type": "code",
   "execution_count": 65,
   "id": "624bdc93-b794-4e40-8d12-6440510e7e82",
   "metadata": {},
   "outputs": [
    {
     "data": {
      "text/plain": [
       "{3, 4, 5, 6}"
      ]
     },
     "execution_count": 65,
     "metadata": {},
     "output_type": "execute_result"
    }
   ],
   "source": [
    "a = {1, 2, 3, 4}\n",
    "b = {3, 4, 5, 6}"
   ]
  },
  {
   "cell_type": "markdown",
   "id": "a39887a7-b6a7-447c-b0f5-1f8654ff313d",
   "metadata": {},
   "source": [
    "#### union"
   ]
  },
  {
   "cell_type": "code",
   "execution_count": 66,
   "id": "78b5dc26-9776-48bc-8d11-ac5aac464ac4",
   "metadata": {},
   "outputs": [
    {
     "data": {
      "text/plain": [
       "{1, 2, 3, 4, 5, 6}"
      ]
     },
     "execution_count": 66,
     "metadata": {},
     "output_type": "execute_result"
    }
   ],
   "source": [
    "a | b"
   ]
  },
  {
   "cell_type": "code",
   "execution_count": 67,
   "id": "2ff585f3-7637-4c5d-8849-4f568026a249",
   "metadata": {},
   "outputs": [
    {
     "data": {
      "text/plain": [
       "{1, 2, 3, 4, 5, 6}"
      ]
     },
     "execution_count": 67,
     "metadata": {},
     "output_type": "execute_result"
    }
   ],
   "source": [
    "a.union(b)"
   ]
  },
  {
   "cell_type": "markdown",
   "id": "e1674770-d0da-499e-ba8f-1181d9173a20",
   "metadata": {},
   "source": [
    "#### intersection"
   ]
  },
  {
   "cell_type": "code",
   "execution_count": 68,
   "id": "7e64787c-54ce-488c-bea8-5a1a5df7e299",
   "metadata": {},
   "outputs": [
    {
     "data": {
      "text/plain": [
       "{3, 4}"
      ]
     },
     "execution_count": 68,
     "metadata": {},
     "output_type": "execute_result"
    }
   ],
   "source": [
    "a & b"
   ]
  },
  {
   "cell_type": "code",
   "execution_count": 69,
   "id": "5097e9fb-e61a-48a8-96a8-7d5304df9586",
   "metadata": {},
   "outputs": [
    {
     "data": {
      "text/plain": [
       "{3, 4}"
      ]
     },
     "execution_count": 69,
     "metadata": {},
     "output_type": "execute_result"
    }
   ],
   "source": [
    "a.intersection(b)"
   ]
  },
  {
   "cell_type": "markdown",
   "id": "78b38896-2aa0-452d-8bdb-bcecbe5e87dd",
   "metadata": {},
   "source": [
    "#### difference"
   ]
  },
  {
   "cell_type": "code",
   "execution_count": 70,
   "id": "b98557c6-b491-426f-98bd-558ca71f0edf",
   "metadata": {},
   "outputs": [
    {
     "data": {
      "text/plain": [
       "{1, 2}"
      ]
     },
     "execution_count": 70,
     "metadata": {},
     "output_type": "execute_result"
    }
   ],
   "source": [
    "a - b"
   ]
  },
  {
   "cell_type": "code",
   "execution_count": 71,
   "id": "06320d44-64fd-441f-9bf8-d3d42292e6df",
   "metadata": {},
   "outputs": [
    {
     "data": {
      "text/plain": [
       "{5, 6}"
      ]
     },
     "execution_count": 71,
     "metadata": {},
     "output_type": "execute_result"
    }
   ],
   "source": [
    "b - a"
   ]
  },
  {
   "cell_type": "code",
   "execution_count": 72,
   "id": "eacb02a9-3215-4f24-941f-fd2f4bbc9950",
   "metadata": {},
   "outputs": [
    {
     "data": {
      "text/plain": [
       "{1, 2}"
      ]
     },
     "execution_count": 72,
     "metadata": {},
     "output_type": "execute_result"
    }
   ],
   "source": [
    "a.difference(b)"
   ]
  },
  {
   "cell_type": "markdown",
   "id": "b16fd04f-360d-456c-980f-431ecd72f556",
   "metadata": {},
   "source": [
    "#### symmetric difference"
   ]
  },
  {
   "cell_type": "code",
   "execution_count": 73,
   "id": "ed13c782-76bb-4437-94ea-c2f019cd55c1",
   "metadata": {},
   "outputs": [
    {
     "data": {
      "text/plain": [
       "{1, 2, 5, 6}"
      ]
     },
     "execution_count": 73,
     "metadata": {},
     "output_type": "execute_result"
    }
   ],
   "source": [
    "a ^ b"
   ]
  },
  {
   "cell_type": "code",
   "execution_count": 74,
   "id": "ddc9b27e-b328-444d-8a7f-b83e8f99987f",
   "metadata": {},
   "outputs": [
    {
     "data": {
      "text/plain": [
       "{1, 2, 5, 6}"
      ]
     },
     "execution_count": 74,
     "metadata": {},
     "output_type": "execute_result"
    }
   ],
   "source": [
    "a.symmetric_difference(b)"
   ]
  },
  {
   "cell_type": "markdown",
   "id": "b0747ef3-b536-4f75-8ccc-59626261b59f",
   "metadata": {
    "tags": [],
    "toc-hr-collapsed": true
   },
   "source": [
    "### methods"
   ]
  },
  {
   "cell_type": "code",
   "execution_count": 5,
   "id": "9de18efa-ca7f-4332-b4ac-da1b37c955a1",
   "metadata": {},
   "outputs": [
    {
     "data": {
      "text/plain": [
       "['add',\n",
       " 'clear',\n",
       " 'copy',\n",
       " 'difference',\n",
       " 'difference_update',\n",
       " 'discard',\n",
       " 'intersection',\n",
       " 'intersection_update',\n",
       " 'isdisjoint',\n",
       " 'issubset',\n",
       " 'issuperset',\n",
       " 'pop',\n",
       " 'remove',\n",
       " 'symmetric_difference',\n",
       " 'symmetric_difference_update',\n",
       " 'union',\n",
       " 'update']"
      ]
     },
     "execution_count": 5,
     "metadata": {},
     "output_type": "execute_result"
    }
   ],
   "source": [
    "[method for method in dir(set()) if not method.startswith('_')]"
   ]
  },
  {
   "cell_type": "markdown",
   "id": "aba9c852-a6af-4446-82df-bf7a6a7a8250",
   "metadata": {
    "toc-hr-collapsed": true
   },
   "source": [
    "#### .add()"
   ]
  },
  {
   "cell_type": "code",
   "execution_count": 75,
   "id": "2e99fec1-7b83-4855-b7f3-6a791b52a88b",
   "metadata": {},
   "outputs": [
    {
     "data": {
      "text/plain": [
       "{1, 2, 3, 4}"
      ]
     },
     "execution_count": 75,
     "metadata": {},
     "output_type": "execute_result"
    }
   ],
   "source": [
    "a = {1, 2, 3, 4}"
   ]
  },
  {
   "cell_type": "code",
   "execution_count": 76,
   "id": "34c32372-64ea-4b90-ab7b-55d8d6de93b0",
   "metadata": {},
   "outputs": [
    {
     "data": {
      "text/plain": [
       "{1, 2, 3, 4, 5}"
      ]
     },
     "execution_count": 76,
     "metadata": {},
     "output_type": "execute_result"
    }
   ],
   "source": [
    "a.add(5)\n",
    "a"
   ]
  },
  {
   "cell_type": "markdown",
   "id": "28e8b8d6-e45f-421c-b21b-f03594e9ce9f",
   "metadata": {
    "toc-hr-collapsed": true
   },
   "source": [
    "#### .remove()"
   ]
  },
  {
   "cell_type": "code",
   "execution_count": 77,
   "id": "c0944b2a-4726-4690-82b3-fc74d7646722",
   "metadata": {},
   "outputs": [
    {
     "data": {
      "text/plain": [
       "{1, 2, 3, 4}"
      ]
     },
     "execution_count": 77,
     "metadata": {},
     "output_type": "execute_result"
    }
   ],
   "source": [
    "a.remove(5)\n",
    "a"
   ]
  },
  {
   "cell_type": "markdown",
   "id": "e01b2182-4886-4d5b-8be4-37e68cff27ae",
   "metadata": {
    "tags": [],
    "toc-hr-collapsed": true
   },
   "source": [
    "#### .discard()\n",
    "remove without error if not present"
   ]
  },
  {
   "cell_type": "code",
   "execution_count": 78,
   "id": "13df85b3-ed20-48a6-9fc0-8de1e3599f4e",
   "metadata": {},
   "outputs": [
    {
     "data": {
      "text/plain": [
       "{1, 2, 3, 4}"
      ]
     },
     "execution_count": 78,
     "metadata": {},
     "output_type": "execute_result"
    }
   ],
   "source": [
    "a.discard(5)\n",
    "a"
   ]
  },
  {
   "cell_type": "markdown",
   "id": "4dc3afcc-dca9-43ea-aead-f0964cfe72f6",
   "metadata": {},
   "source": [
    "#### .update()"
   ]
  },
  {
   "cell_type": "code",
   "execution_count": 38,
   "id": "f727a2b8-776f-4118-8e4b-5591d431a0a8",
   "metadata": {},
   "outputs": [
    {
     "data": {
      "text/plain": [
       "{1, 2, 3, 4, 5, 6}"
      ]
     },
     "execution_count": 38,
     "metadata": {},
     "output_type": "execute_result"
    }
   ],
   "source": [
    "seta = {1,2,3}\n",
    "setb = {4,5,6}\n",
    "seta.update(setb)\n",
    "seta"
   ]
  },
  {
   "cell_type": "markdown",
   "id": "5ab79f6f-ea3c-4177-8792-f15fea862d0e",
   "metadata": {
    "toc-hr-collapsed": true
   },
   "source": [
    "### example: birthday paradox"
   ]
  },
  {
   "cell_type": "code",
   "execution_count": 79,
   "id": "469d9f0c-c24a-4891-be82-f20340b3042b",
   "metadata": {},
   "outputs": [],
   "source": [
    "import random\n",
    "def shares_bday(n):\n",
    "    s = set()\n",
    "    for i in range(n):\n",
    "        bday = random.randint(1,365)\n",
    "        s.add(bday)\n",
    "    return len(s) < n\n",
    "\n",
    "def estimate_bday_prob(num_people=50, sims=1000):\n",
    "    count = 0\n",
    "    for i in range(sims):\n",
    "        count += shares_bday(num_people) # true =1, false = 0\n",
    "    return count / sims\n",
    "\n",
    "def estimate_many(max_group_size=70,sims=100):\n",
    "    probs = []\n",
    "    for i in range(max_group_size):\n",
    "        probs.append(estimate_bday_prob(i + 1, sims))\n",
    "    return probs"
   ]
  },
  {
   "cell_type": "code",
   "execution_count": 80,
   "id": "bd5c7e2d-7367-45d1-b1e5-c8c27ea0454e",
   "metadata": {},
   "outputs": [
    {
     "name": "stdout",
     "output_type": "stream",
     "text": [
      "False\n",
      "True\n"
     ]
    }
   ],
   "source": [
    "print(shares_bday(40))\n",
    "print(shares_bday(23))"
   ]
  },
  {
   "cell_type": "code",
   "execution_count": 81,
   "id": "8cf4e550-643e-409f-8ebb-724d4f88cbc2",
   "metadata": {},
   "outputs": [
    {
     "name": "stdout",
     "output_type": "stream",
     "text": [
      "0.526\n",
      "0.697\n",
      "0.907\n",
      "0.979\n",
      "0.996\n"
     ]
    }
   ],
   "source": [
    "print(estimate_bday_prob(23))\n",
    "print(estimate_bday_prob(30))\n",
    "print(estimate_bday_prob(40))\n",
    "print(estimate_bday_prob(50))\n",
    "print(estimate_bday_prob(60))"
   ]
  },
  {
   "cell_type": "code",
   "execution_count": 82,
   "id": "a0bd0647-cfc1-42f4-81cf-495a069b379a",
   "metadata": {},
   "outputs": [
    {
     "name": "stdout",
     "output_type": "stream",
     "text": [
      "[0.0, 0.003, 0.005, 0.017, 0.029, 0.045, 0.041, 0.078, 0.091, 0.125, 0.156, 0.159, 0.199, 0.219, 0.264, 0.289, 0.315, 0.324, 0.4, 0.396]\n"
     ]
    }
   ],
   "source": [
    "results = estimate_many(20,1000)\n",
    "print(results)"
   ]
  },
  {
   "cell_type": "markdown",
   "id": "d3f7b29a-43e3-4741-a176-eef75d977863",
   "metadata": {
    "tags": [],
    "toc-hr-collapsed": true
   },
   "source": [
    "<a id='ds-dictionary'></a>\n",
    "## Dictionary"
   ]
  },
  {
   "cell_type": "markdown",
   "id": "dbd485c2-4372-4088-8e1f-3bbda7e6a322",
   "metadata": {},
   "source": [
    "[Return to Start of Notebook](#ds)  "
   ]
  },
  {
   "cell_type": "markdown",
   "id": "fc13b966-a0ea-4c1a-8d7a-c2eac8f6483d",
   "metadata": {},
   "source": [
    "- Each item is a key-value pair\n",
    "- Keys must be unique and hashable  \n",
    "- Values can be anything\n",
    "- Must select by key  "
   ]
  },
  {
   "cell_type": "markdown",
   "id": "81dc0db5-4c9e-4615-a220-6af018085654",
   "metadata": {
    "tags": []
   },
   "source": [
    "### create"
   ]
  },
  {
   "cell_type": "markdown",
   "id": "3b20e079-f4d4-423f-9e2e-5306b6910cd3",
   "metadata": {
    "tags": [],
    "toc-hr-collapsed": true
   },
   "source": [
    "#### {}"
   ]
  },
  {
   "cell_type": "code",
   "execution_count": 5,
   "id": "3d9c6daf-d5e9-4b52-89d2-6cf99c44ca55",
   "metadata": {},
   "outputs": [],
   "source": [
    "months_seasons_dict = {\n",
    "    \"Jan\":\"Winter\",\n",
    "    \"Feb\":\"Winter\",\n",
    "    \"Mar\":\"Spring\",\n",
    "    \"Apr\":\"Spring\",\n",
    "    \"May\":\"Spring\",\n",
    "    \"Jun\":\"Summer\", \n",
    "    \"Jul\":\"Summer\",\n",
    "    \"Aug\":\"Summer\",\n",
    "    \"Sep\":\"Autumn\",\n",
    "    \"Oct\":\"Autumn\",\n",
    "    \"Nov\":\"Autumn\",\n",
    "    \"Dec\":\"Winter\"};"
   ]
  },
  {
   "cell_type": "code",
   "execution_count": 6,
   "id": "ae3cc9e0-48af-447f-aafb-5b899d7fde49",
   "metadata": {},
   "outputs": [
    {
     "name": "stdout",
     "output_type": "stream",
     "text": [
      "<class 'dict'>\n"
     ]
    }
   ],
   "source": [
    "print(type(months_seasons_dict))"
   ]
  },
  {
   "cell_type": "markdown",
   "id": "333305f6-2187-4ada-9364-dd89ce24e93a",
   "metadata": {
    "toc-hr-collapsed": true
   },
   "source": [
    "#### constructor"
   ]
  },
  {
   "cell_type": "code",
   "execution_count": 7,
   "id": "565df2aa-39c7-4e37-9408-3d9a35c2e728",
   "metadata": {},
   "outputs": [
    {
     "data": {
      "text/plain": [
       "{'id': 1,\n",
       " 'location': 'abc',\n",
       " 'details': [0, 1, 2, 'x', 'y', 'z'],\n",
       " 'coords': (60, 50),\n",
       " 'name': {'first': 'R', 'last': 'F'}}"
      ]
     },
     "execution_count": 7,
     "metadata": {},
     "output_type": "execute_result"
    }
   ],
   "source": [
    "d = dict(id = 1,\n",
    "         location = 'abc',\n",
    "         details = [0, 1, 2, 'x','y','z'],\n",
    "         coords = (60,50),\n",
    "         name = {'first': 'R', 'last': 'F'})"
   ]
  },
  {
   "cell_type": "markdown",
   "id": "f49e7026-31d1-465f-9551-f4717fb76464",
   "metadata": {
    "toc-hr-collapsed": true
   },
   "source": [
    "#### empty"
   ]
  },
  {
   "cell_type": "code",
   "execution_count": 8,
   "id": "a8a1f13f-6a95-4e41-8d3e-0eb2e8cb3282",
   "metadata": {},
   "outputs": [
    {
     "name": "stdout",
     "output_type": "stream",
     "text": [
      "{}\n",
      "{}\n"
     ]
    }
   ],
   "source": [
    "a = {}\n",
    "b = dict()\n",
    "print(a)\n",
    "print(b)"
   ]
  },
  {
   "cell_type": "markdown",
   "id": "d6800dcb-f4f8-472e-ae75-103125d9182d",
   "metadata": {},
   "source": [
    "### select  \n",
    "must select by key  "
   ]
  },
  {
   "cell_type": "markdown",
   "id": "013d2eb1-268b-4fff-848e-20a590e8d7a1",
   "metadata": {
    "toc-hr-collapsed": true
   },
   "source": [
    "#### brackets ['key']"
   ]
  },
  {
   "cell_type": "code",
   "execution_count": 10,
   "id": "94756274-d051-4d21-a131-72c5e70210fc",
   "metadata": {},
   "outputs": [
    {
     "data": {
      "text/plain": [
       "'Spring'"
      ]
     },
     "execution_count": 10,
     "metadata": {},
     "output_type": "execute_result"
    }
   ],
   "source": [
    "months_seasons_dict['Apr']"
   ]
  },
  {
   "cell_type": "markdown",
   "id": "44cf9d2f-c5a2-4413-8aa6-9cfd3bf567b8",
   "metadata": {
    "tags": []
   },
   "source": [
    "### methods"
   ]
  },
  {
   "cell_type": "markdown",
   "id": "2d14cc94-289d-4be7-96ca-193299c9d6db",
   "metadata": {
    "toc-hr-collapsed": true
   },
   "source": [
    "#### dir"
   ]
  },
  {
   "cell_type": "code",
   "execution_count": 6,
   "id": "f1cdf149-6d55-4221-a220-107bb551eca8",
   "metadata": {},
   "outputs": [
    {
     "data": {
      "text/plain": [
       "['clear',\n",
       " 'copy',\n",
       " 'fromkeys',\n",
       " 'get',\n",
       " 'items',\n",
       " 'keys',\n",
       " 'pop',\n",
       " 'popitem',\n",
       " 'setdefault',\n",
       " 'update',\n",
       " 'values']"
      ]
     },
     "execution_count": 6,
     "metadata": {},
     "output_type": "execute_result"
    }
   ],
   "source": [
    "[method for method in dir(dict()) if not method.startswith('_')]"
   ]
  },
  {
   "cell_type": "markdown",
   "id": "d7fbda91-281d-44d4-a691-aa74f827250c",
   "metadata": {
    "tags": [],
    "toc-hr-collapsed": true
   },
   "source": [
    "#### .get()\n",
    "Doesn't return error if key not found."
   ]
  },
  {
   "cell_type": "code",
   "execution_count": 11,
   "id": "674dd3a4-0fae-449f-8880-aaefd7cdc564",
   "metadata": {},
   "outputs": [
    {
     "data": {
      "text/plain": [
       "'Autumn'"
      ]
     },
     "execution_count": 11,
     "metadata": {},
     "output_type": "execute_result"
    }
   ],
   "source": [
    "season = months_seasons_dict.get('Nov')"
   ]
  },
  {
   "cell_type": "code",
   "execution_count": 18,
   "id": "0954e9e0-3d87-4fb0-b774-52936d8c782b",
   "metadata": {},
   "outputs": [
    {
     "name": "stdout",
     "output_type": "stream",
     "text": [
      "None\n"
     ]
    },
    {
     "data": {
      "text/plain": [
       "NoneType"
      ]
     },
     "execution_count": 18,
     "metadata": {},
     "output_type": "execute_result"
    }
   ],
   "source": [
    "season = months_seasons_dict.get('xxx')\n",
    "print(season)\n",
    "type(season)"
   ]
  },
  {
   "cell_type": "code",
   "execution_count": 17,
   "id": "00e05daa-9ade-4fdd-a156-ca5d939072bb",
   "metadata": {},
   "outputs": [
    {
     "data": {
      "text/plain": [
       "'key not found'"
      ]
     },
     "execution_count": 17,
     "metadata": {},
     "output_type": "execute_result"
    }
   ],
   "source": [
    "season = months_seasons_dict.get('xxx', 'key not found')\n",
    "season"
   ]
  },
  {
   "cell_type": "code",
   "execution_count": null,
   "id": "453704a0-93d3-4be1-b1ab-c95aefe1c18e",
   "metadata": {},
   "outputs": [],
   "source": [
    "months_seasons = [seasons_dict.get(month) for month in months]\n",
    "months_seasons"
   ]
  },
  {
   "cell_type": "markdown",
   "id": "16f6d961-febf-43d7-936e-daca7e76e80e",
   "metadata": {
    "tags": [],
    "toc-hr-collapsed": true
   },
   "source": [
    "#### .keys()"
   ]
  },
  {
   "cell_type": "code",
   "execution_count": 31,
   "id": "91dc6e60-3f5d-4520-8544-a7aa3b0aa5c6",
   "metadata": {},
   "outputs": [
    {
     "data": {
      "text/plain": [
       "dict_keys(['Jan', 'Feb', 'Mar', 'Apr', 'May', 'Jun', 'Jul', 'Aug', 'Sep', 'Oct', 'Nov', 'Dec'])"
      ]
     },
     "execution_count": 31,
     "metadata": {},
     "output_type": "execute_result"
    }
   ],
   "source": [
    "months_seasons_dict.keys()"
   ]
  },
  {
   "cell_type": "markdown",
   "id": "fb769792-be73-4913-8e5d-45909f412b07",
   "metadata": {
    "toc-hr-collapsed": true
   },
   "source": [
    "#### .values()"
   ]
  },
  {
   "cell_type": "code",
   "execution_count": 32,
   "id": "aa9f6059-97a7-430f-8df1-94e9edb1d512",
   "metadata": {},
   "outputs": [
    {
     "data": {
      "text/plain": [
       "dict_values(['Winter', 'Winter', 'Spring', 'Spring', 'Spring', 'Summer', 'Summer', 'Summer', 'Autumn', 'Autumn', 'Autumn', 'Winter'])"
      ]
     },
     "execution_count": 32,
     "metadata": {},
     "output_type": "execute_result"
    }
   ],
   "source": [
    "months_seasons_dict.values()"
   ]
  },
  {
   "cell_type": "markdown",
   "id": "eebbf7be-8aa3-444f-bc65-3e2e4b7ed755",
   "metadata": {
    "toc-hr-collapsed": true
   },
   "source": [
    "#### .items()"
   ]
  },
  {
   "cell_type": "code",
   "execution_count": 33,
   "id": "13bf8303-98c5-4a57-8d05-d00c12a25624",
   "metadata": {},
   "outputs": [
    {
     "data": {
      "text/plain": [
       "dict_items([('Jan', 'Winter'), ('Feb', 'Winter'), ('Mar', 'Spring'), ('Apr', 'Spring'), ('May', 'Spring'), ('Jun', 'Summer'), ('Jul', 'Summer'), ('Aug', 'Summer'), ('Sep', 'Autumn'), ('Oct', 'Autumn'), ('Nov', 'Autumn'), ('Dec', 'Winter')])"
      ]
     },
     "execution_count": 33,
     "metadata": {},
     "output_type": "execute_result"
    }
   ],
   "source": [
    "months_seasons_dict.items()"
   ]
  },
  {
   "cell_type": "markdown",
   "id": "08966ab5-f57c-4dee-8781-a9b0802b9045",
   "metadata": {
    "toc-hr-collapsed": true
   },
   "source": [
    "#### .pop()"
   ]
  },
  {
   "cell_type": "code",
   "execution_count": 101,
   "id": "de648b21-9e75-4c2c-be20-4c30e74edf11",
   "metadata": {},
   "outputs": [
    {
     "name": "stdout",
     "output_type": "stream",
     "text": [
      "{'a': 1, 'b': 2, 'd': 4}\n",
      "3\n"
     ]
    }
   ],
   "source": [
    "d = {'a': 1, 'b': 2 , 'c': 3 , 'd': 4}\n",
    "v = d.pop('c')\n",
    "print(d)\n",
    "print(v)"
   ]
  },
  {
   "cell_type": "markdown",
   "id": "4ae2c32a-c64a-4e5c-9544-02566bd2cdf8",
   "metadata": {
    "toc-hr-collapsed": true
   },
   "source": [
    "#### .popitem()"
   ]
  },
  {
   "cell_type": "code",
   "execution_count": 102,
   "id": "1b8d18dd-2af4-44c8-b4ef-6bf60a5aa285",
   "metadata": {},
   "outputs": [
    {
     "name": "stdout",
     "output_type": "stream",
     "text": [
      "{'a': 1, 'b': 2, 'c': 3}\n",
      "('d', 4)\n"
     ]
    }
   ],
   "source": [
    "d = {'a': 1, 'b': 2 , 'c': 3 , 'd': 4}\n",
    "v = d.popitem()\n",
    "print(d)\n",
    "print(v)"
   ]
  },
  {
   "cell_type": "markdown",
   "id": "9431c648-55a7-4f03-9c31-29ab1b1a8c92",
   "metadata": {},
   "source": [
    "### access"
   ]
  },
  {
   "cell_type": "markdown",
   "id": "19d881bf-4d1b-4b37-86ef-48e2a8d20ec1",
   "metadata": {
    "toc-hr-collapsed": true
   },
   "source": [
    "#### keys"
   ]
  },
  {
   "cell_type": "code",
   "execution_count": 38,
   "id": "2ea4ee99-fe00-4cf9-be65-e8b5817dad6e",
   "metadata": {},
   "outputs": [
    {
     "name": "stdout",
     "output_type": "stream",
     "text": [
      "['Jan', 'Feb', 'Mar', 'Apr', 'May', 'Jun', 'Jul', 'Aug', 'Sep', 'Oct', 'Nov', 'Dec']\n"
     ]
    }
   ],
   "source": [
    "keys = [k for k in months_seasons_dict.keys()]\n",
    "print(keys)"
   ]
  },
  {
   "cell_type": "markdown",
   "id": "66a3a80f-f7ab-4b2b-82c5-502c7d17f7f6",
   "metadata": {
    "toc-hr-collapsed": true
   },
   "source": [
    "#### values"
   ]
  },
  {
   "cell_type": "code",
   "execution_count": 40,
   "id": "03ef7aec-ce33-4021-ad61-b52b895165e6",
   "metadata": {},
   "outputs": [
    {
     "name": "stdout",
     "output_type": "stream",
     "text": [
      "['Winter', 'Winter', 'Spring', 'Spring', 'Spring', 'Summer', 'Summer', 'Summer', 'Autumn', 'Autumn', 'Autumn', 'Winter']\n"
     ]
    }
   ],
   "source": [
    "values = [v for v in months_seasons_dict.values()]\n",
    "print(values)"
   ]
  },
  {
   "cell_type": "markdown",
   "id": "8a250d81-8fc3-4681-9402-ce6f3955d69b",
   "metadata": {
    "toc-hr-collapsed": true
   },
   "source": [
    "#### items  \n",
    "-  common way to iterate through dictionary\n",
    "-  also called unpacking"
   ]
  },
  {
   "cell_type": "code",
   "execution_count": 48,
   "id": "d2612a4c-161d-4701-962a-915674355c92",
   "metadata": {},
   "outputs": [
    {
     "name": "stdout",
     "output_type": "stream",
     "text": [
      "Jan Winter\n",
      "Feb Winter\n",
      "Dec Winter\n"
     ]
    }
   ],
   "source": [
    "for key, value in months_seasons_dict.items():\n",
    "    if value == 'Winter':\n",
    "        print(key, value)"
   ]
  },
  {
   "cell_type": "markdown",
   "id": "a2774532-7d2f-44f8-96fb-3a55f56c87d4",
   "metadata": {
    "tags": []
   },
   "source": [
    "### mutate"
   ]
  },
  {
   "cell_type": "markdown",
   "id": "4a63ec6c-2795-438a-bc5a-637d15aa7d19",
   "metadata": {
    "tags": [],
    "toc-hr-collapsed": true
   },
   "source": [
    "#### add item\n",
    "d['new key'] = new_val"
   ]
  },
  {
   "cell_type": "code",
   "execution_count": 104,
   "id": "16646c8a-f763-43d7-9521-b7cfd184b09c",
   "metadata": {},
   "outputs": [
    {
     "data": {
      "text/plain": [
       "{'a': 1, 'b': 2, 'c': 3, 'd': 4, 'e': 5}"
      ]
     },
     "execution_count": 104,
     "metadata": {},
     "output_type": "execute_result"
    }
   ],
   "source": [
    "d = {'a': 1, 'b': 2 , 'c': 3 , 'd': 4}\n",
    "d['e'] = 5\n",
    "d"
   ]
  },
  {
   "cell_type": "markdown",
   "id": "059c94f5-b95d-4460-8053-96cf4e2f530f",
   "metadata": {
    "toc-hr-collapsed": true
   },
   "source": [
    "#### change item\n",
    "d['key'] = new_val"
   ]
  },
  {
   "cell_type": "code",
   "execution_count": 105,
   "id": "c05c2efe-31fc-4d1a-900a-978dbdb8da60",
   "metadata": {},
   "outputs": [
    {
     "data": {
      "text/plain": [
       "{'a': 1, 'b': 2, 'c': 5, 'd': 4}"
      ]
     },
     "execution_count": 105,
     "metadata": {},
     "output_type": "execute_result"
    }
   ],
   "source": [
    "d = {'a': 1, 'b': 2 , 'c': 3 , 'd': 4}\n",
    "d['c'] = 5\n",
    "d"
   ]
  },
  {
   "cell_type": "code",
   "execution_count": 106,
   "id": "b0748e62-0174-4eb5-a684-11d0562acbc8",
   "metadata": {},
   "outputs": [
    {
     "data": {
      "text/plain": [
       "{'a': [1, 2, 3], 'b': [3, 44, 5], 'c': [5, 6, 7]}"
      ]
     },
     "execution_count": 106,
     "metadata": {},
     "output_type": "execute_result"
    }
   ],
   "source": [
    "d = {'a': [1,2,3], 'b': [3,4,5] , 'c': [5,6,7]}\n",
    "d['b'][1] = 44\n",
    "d"
   ]
  },
  {
   "cell_type": "markdown",
   "id": "658c2082-f558-4aee-a4bc-b187ae9b33eb",
   "metadata": {
    "tags": [],
    "toc-hr-collapsed": true
   },
   "source": [
    "### del"
   ]
  },
  {
   "cell_type": "code",
   "execution_count": 107,
   "id": "2773d751-7d36-4b60-a933-f026a7d19c68",
   "metadata": {},
   "outputs": [
    {
     "data": {
      "text/plain": [
       "{'a': 1, 'b': 2, 'd': 4}"
      ]
     },
     "execution_count": 107,
     "metadata": {},
     "output_type": "execute_result"
    }
   ],
   "source": [
    "d = {'a': 1, 'b': 2 , 'c': 3 , 'd': 4}\n",
    "del d['c']\n",
    "d"
   ]
  },
  {
   "cell_type": "markdown",
   "id": "810a4a49-5741-4028-a58a-8cab938b9d7c",
   "metadata": {
    "tags": [],
    "toc-hr-collapsed": true
   },
   "source": [
    "### in\n",
    "key only"
   ]
  },
  {
   "cell_type": "code",
   "execution_count": 22,
   "id": "0de8326b-365b-4b21-90c8-985b08ad06ee",
   "metadata": {},
   "outputs": [
    {
     "data": {
      "text/plain": [
       "True"
      ]
     },
     "execution_count": 22,
     "metadata": {},
     "output_type": "execute_result"
    }
   ],
   "source": [
    "'Jul' in months_seasons_dict.keys()"
   ]
  },
  {
   "cell_type": "code",
   "execution_count": 23,
   "id": "bd2c39ac-3430-41c5-92b0-8b1d0c89b284",
   "metadata": {},
   "outputs": [
    {
     "data": {
      "text/plain": [
       "True"
      ]
     },
     "execution_count": 23,
     "metadata": {},
     "output_type": "execute_result"
    }
   ],
   "source": [
    "'xxx' not in months_seasons_dict.keys()"
   ]
  },
  {
   "cell_type": "markdown",
   "id": "ad223cc7-9c0c-42ad-8cc4-415c32fd513c",
   "metadata": {
    "toc-hr-collapsed": true
   },
   "source": [
    "### len"
   ]
  },
  {
   "cell_type": "code",
   "execution_count": 46,
   "id": "e0496acf-db4f-4bd8-b5d1-c525bba6904e",
   "metadata": {},
   "outputs": [
    {
     "data": {
      "text/plain": [
       "12"
      ]
     },
     "execution_count": 46,
     "metadata": {},
     "output_type": "execute_result"
    }
   ],
   "source": [
    "len(months_seasons_dict)"
   ]
  },
  {
   "cell_type": "markdown",
   "id": "798512fc-126b-411b-8d5b-fdea9a0beed7",
   "metadata": {
    "tags": [],
    "toc-hr-collapsed": true
   },
   "source": [
    "### Examples"
   ]
  },
  {
   "cell_type": "markdown",
   "id": "977b3e06-4f3b-4d7b-9f36-813cd385465e",
   "metadata": {
    "tags": [],
    "toc-hr-collapsed": true
   },
   "source": [
    "### dictionary word count"
   ]
  },
  {
   "cell_type": "code",
   "execution_count": 110,
   "id": "b24f2385-4bc8-418c-b897-e4be15d35319",
   "metadata": {},
   "outputs": [],
   "source": [
    "def count_words(words):\n",
    "    d = {}\n",
    "    for word in words:\n",
    "        if word not in d:\n",
    "            d[word] = 1\n",
    "        else:\n",
    "            d[word] += 1\n",
    "    return d"
   ]
  },
  {
   "cell_type": "code",
   "execution_count": 111,
   "id": "101e0e7d-5ae2-4c5a-9c59-231f53dcbfbf",
   "metadata": {},
   "outputs": [],
   "source": [
    "test_words = ['apple', 'mango', 'mango', 'banana', 'banana', \n",
    "              'mango', 'apple', 'apple', 'mango', 'mango', \n",
    "              'mango', 'apple', 'banana', 'apple', 'mango', \n",
    "              'mango', 'mango', 'mango', 'apple', 'apple']\n",
    "\n",
    "assert count_words(test_words) == {'apple': 7, 'mango': 10, 'banana': 3}"
   ]
  },
  {
   "cell_type": "markdown",
   "id": "33525899-a55b-4743-a228-dce8f9b097e3",
   "metadata": {},
   "source": [
    "### dictionary with set"
   ]
  },
  {
   "cell_type": "code",
   "execution_count": 63,
   "id": "0606b1e6-0484-44e7-bb6b-324b5eb5a80b",
   "metadata": {},
   "outputs": [
    {
     "data": {
      "text/plain": [
       "{'Autumn', 'Spring', 'Summer', 'Winter'}"
      ]
     },
     "execution_count": 63,
     "metadata": {},
     "output_type": "execute_result"
    }
   ],
   "source": [
    "seasons = set([months_seasons_dict.get(month) for month in months])"
   ]
  },
  {
   "cell_type": "code",
   "execution_count": null,
   "id": "782b9221-1c63-43ec-9891-720510b3ef3f",
   "metadata": {},
   "outputs": [],
   "source": []
  }
 ],
 "metadata": {
  "interpreter": {
   "hash": "dadb38d82647d96d5382ce5812a5d64c7d4d3210fd59b769fd19e4966085dba7"
  },
  "kernelspec": {
   "display_name": "Python 3 (ipykernel)",
   "language": "python",
   "name": "python3"
  },
  "language_info": {
   "codemirror_mode": {
    "name": "ipython",
    "version": 3
   },
   "file_extension": ".py",
   "mimetype": "text/x-python",
   "name": "python",
   "nbconvert_exporter": "python",
   "pygments_lexer": "ipython3",
   "version": "3.9.5"
  },
  "toc": {
   "base_numbering": 1,
   "nav_menu": {},
   "number_sections": true,
   "sideBar": true,
   "skip_h1_title": false,
   "title_cell": "Table of Contents",
   "title_sidebar": "Contents",
   "toc_cell": false,
   "toc_position": {},
   "toc_section_display": true,
   "toc_window_display": false
  },
  "toc-autonumbering": false,
  "toc-showcode": true,
  "toc-showmarkdowntxt": false,
  "toc-showtags": false,
  "varInspector": {
   "cols": {
    "lenName": 16,
    "lenType": 16,
    "lenVar": 40
   },
   "kernels_config": {
    "python": {
     "delete_cmd_postfix": "",
     "delete_cmd_prefix": "del ",
     "library": "var_list.py",
     "varRefreshCmd": "print(var_dic_list())"
    },
    "r": {
     "delete_cmd_postfix": ") ",
     "delete_cmd_prefix": "rm(",
     "library": "var_list.r",
     "varRefreshCmd": "cat(var_dic_list()) "
    }
   },
   "types_to_exclude": [
    "module",
    "function",
    "builtin_function_or_method",
    "instance",
    "_Feature"
   ],
   "window_display": false
  }
 },
 "nbformat": 4,
 "nbformat_minor": 5
}
