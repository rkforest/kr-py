{
 "cells": [
  {
   "cell_type": "markdown",
   "id": "1898bbca",
   "metadata": {
    "tags": []
   },
   "source": [
    "<a id='cf'></a>\n",
    "# Control Flow\n",
    "Order that statements get executed in a program"
   ]
  },
  {
   "cell_type": "markdown",
   "id": "9bd9df99-e863-43d0-93cb-70466ceb1905",
   "metadata": {},
   "source": [
    "[Conditionals](#cf-conditionals)   \n",
    "[For Loop](#cf-for)  \n",
    "[While Loop](#cf-while)  \n",
    "[Comprehensions](#cf-comprehension)  \n",
    "[Zip](#cf-zip)  "
   ]
  },
  {
   "cell_type": "markdown",
   "id": "4b32da73-05ce-45ef-84b4-1b2e3a6ec242",
   "metadata": {
    "tags": [],
    "toc-hr-collapsed": true
   },
   "source": [
    "<a id='cf-conditionals'></a>\n",
    "## Conditional Statements  \n",
    "change order of execution based on outcome of a condition"
   ]
  },
  {
   "cell_type": "markdown",
   "id": "feca301f-7829-4adf-9d4d-b2c710becc79",
   "metadata": {},
   "source": [
    "[Return to Start of Notebook](#cf)  "
   ]
  },
  {
   "cell_type": "markdown",
   "id": "a98c0f81-583f-4fe4-828a-51e767befd40",
   "metadata": {
    "tags": [],
    "toc-hr-collapsed": true
   },
   "source": [
    "### format"
   ]
  },
  {
   "cell_type": "raw",
   "id": "27833c5b-2503-4ad1-8fd8-d1b89318b357",
   "metadata": {},
   "source": [
    "if condition:\n",
    "    code block 1\n",
    "elif condition:\n",
    "    code block 2\n",
    "else:\n",
    "    code block 3"
   ]
  },
  {
   "cell_type": "code",
   "execution_count": 1,
   "id": "e5c93800-471a-4b1d-85ef-5565fa3725ad",
   "metadata": {},
   "outputs": [
    {
     "name": "stdout",
     "output_type": "stream",
     "text": [
      "x = 12, branch = 2\n"
     ]
    }
   ],
   "source": [
    "x = 12\n",
    "if x <= 10:\n",
    "    branch = 1\n",
    "elif x <= 20:\n",
    "    branch = 2\n",
    "else:\n",
    "    branch = 3\n",
    "    \n",
    "print(f'x = {x}, branch = {branch}')  "
   ]
  },
  {
   "cell_type": "code",
   "execution_count": 2,
   "id": "e04f989a-21ae-4eb5-af48-cff394b07bb7",
   "metadata": {},
   "outputs": [
    {
     "name": "stdout",
     "output_type": "stream",
     "text": [
      "xyz\n"
     ]
    }
   ],
   "source": [
    "value  = \"x\"\n",
    "if value == \"a\":\n",
    "    result = \"abc\"\n",
    "elif value == \"x\":\n",
    "    result = \"xyz\"\n",
    "print(result)"
   ]
  },
  {
   "cell_type": "markdown",
   "id": "0fa835e1-7cbf-4969-998b-88eda6ba2846",
   "metadata": {
    "toc-hr-collapsed": true
   },
   "source": [
    "### and, or"
   ]
  },
  {
   "cell_type": "code",
   "execution_count": 3,
   "id": "68ca6334-c856-4505-bebf-2f79be120c80",
   "metadata": {},
   "outputs": [
    {
     "name": "stdout",
     "output_type": "stream",
     "text": [
      "x = 11, x + 2 = 13\n"
     ]
    }
   ],
   "source": [
    "x = 11\n",
    "\n",
    "if x > 0 and x <= 5:\n",
    "    y = x + 1\n",
    "    print(f'x = {x}, x + 1 = {y}')  \n",
    "elif x == 10 or x == 11:\n",
    "    y = x + 2\n",
    "    print(f'x = {x}, x + 2 = {y}') \n",
    "else: \n",
    "    print(f'x = {x} not in range')  "
   ]
  },
  {
   "cell_type": "markdown",
   "id": "c527be1c-63cc-45b4-a9f3-f5aca2235c2b",
   "metadata": {
    "toc-hr-collapsed": true
   },
   "source": [
    "### nested conditions"
   ]
  },
  {
   "cell_type": "code",
   "execution_count": 4,
   "id": "08ca6bf1-d416-41c7-8f0c-b984cca2cc23",
   "metadata": {},
   "outputs": [
    {
     "name": "stdout",
     "output_type": "stream",
     "text": [
      "x = 30, x + 3 = 33\n"
     ]
    }
   ],
   "source": [
    "x = 30\n",
    "\n",
    "if x > 0:\n",
    "    if x <= 10:\n",
    "        y = x + 1\n",
    "        print(f'x = {x}, x + 1 = {y}')\n",
    "    elif x <= 20:\n",
    "        y = x + 2\n",
    "        print(f'x = {x}, x + 2 = {y}')\n",
    "    else:\n",
    "        y = x + 3\n",
    "        print(f'x = {x}, x + 3 = {y}') \n",
    "else: \n",
    "    print(f'{x} < 0')  "
   ]
  },
  {
   "cell_type": "markdown",
   "id": "ac4bea7b-7b83-4007-8bfe-bef71f39152b",
   "metadata": {
    "toc-hr-collapsed": true
   },
   "source": [
    "### ternary conditional operator  \n",
    "- single line version of simple if/else conditional statement  \n",
    "- branch1 if condition else branch2"
   ]
  },
  {
   "cell_type": "code",
   "execution_count": 5,
   "id": "83403212-4bcb-4501-aefb-383d02d48b2e",
   "metadata": {},
   "outputs": [
    {
     "data": {
      "text/plain": [
       "11"
      ]
     },
     "execution_count": 5,
     "metadata": {},
     "output_type": "execute_result"
    }
   ],
   "source": [
    "x = 10\n",
    "y = (x + 1) if x <= 10 else (x + 2)"
   ]
  },
  {
   "cell_type": "code",
   "execution_count": 7,
   "id": "254f13a5-2a47-4fba-ac0b-6d4f3a590cd5",
   "metadata": {},
   "outputs": [
    {
     "data": {
      "text/plain": [
       "11"
      ]
     },
     "execution_count": 7,
     "metadata": {},
     "output_type": "execute_result"
    }
   ],
   "source": [
    "x = 10\n",
    "if x <= 10:\n",
    "    y = x + 1\n",
    "else:\n",
    "    y = x + 2\n",
    "y"
   ]
  },
  {
   "cell_type": "markdown",
   "id": "710bdc3b-f604-430c-87ac-6200a9992938",
   "metadata": {
    "tags": [],
    "toc-hr-collapsed": true
   },
   "source": [
    "### other conditions"
   ]
  },
  {
   "cell_type": "markdown",
   "id": "3a6195fe-ef5b-402c-9d6f-930e792ecd7f",
   "metadata": {
    "toc-hr-collapsed": true
   },
   "source": [
    "#### in"
   ]
  },
  {
   "cell_type": "code",
   "execution_count": 7,
   "id": "c0a6b92f-4c41-47be-951f-be14ad2392c6",
   "metadata": {},
   "outputs": [
    {
     "data": {
      "text/plain": [
       "False"
      ]
     },
     "execution_count": 7,
     "metadata": {},
     "output_type": "execute_result"
    }
   ],
   "source": [
    "nums = [1,2,3,4,5,6]\n",
    "num = 10\n",
    "\n",
    "if num in nums:\n",
    "    found = True\n",
    "else:\n",
    "    found = False\n",
    "\n",
    "found"
   ]
  },
  {
   "cell_type": "markdown",
   "id": "843715db-1339-4482-b378-a22e55be52fd",
   "metadata": {
    "toc-hr-collapsed": true
   },
   "source": [
    "#### is"
   ]
  },
  {
   "cell_type": "code",
   "execution_count": 8,
   "id": "e35b6dc4-1575-44b6-ab82-1d941f13d391",
   "metadata": {},
   "outputs": [
    {
     "name": "stdout",
     "output_type": "stream",
     "text": [
      "reference diff objects\n"
     ]
    }
   ],
   "source": [
    "a = [1,2,3]\n",
    "b = [1,2,3]\n",
    "if a is b:\n",
    "    print('reference same objects')\n",
    "else:\n",
    "    print('reference diff objects')"
   ]
  },
  {
   "cell_type": "code",
   "execution_count": 9,
   "id": "b2aabd0f-245b-445f-bed4-30324fdde895",
   "metadata": {},
   "outputs": [
    {
     "name": "stdout",
     "output_type": "stream",
     "text": [
      "reference same objects\n"
     ]
    }
   ],
   "source": [
    "a = [1,2,3]\n",
    "b = a\n",
    "if a is b:\n",
    "    print('reference same objects')\n",
    "else:\n",
    "    print('reference diff objects')"
   ]
  },
  {
   "cell_type": "markdown",
   "id": "59f4ac86-2ddf-4751-a873-7c6900a74036",
   "metadata": {
    "tags": [],
    "toc-hr-collapsed": true
   },
   "source": [
    "### Implied truth values  \n",
    "- Condition evalues to False  \n",
    "  - bool: False\n",
    "  - int: 0  \n",
    "  - None\n",
    "  - list: [] \n",
    "  - string: '' "
   ]
  },
  {
   "cell_type": "code",
   "execution_count": 10,
   "id": "65b77e80-127e-4231-b258-4e542a7e34ca",
   "metadata": {},
   "outputs": [
    {
     "name": "stdout",
     "output_type": "stream",
     "text": [
      "empty list\n"
     ]
    }
   ],
   "source": [
    "a = []\n",
    "if a:\n",
    "    print('list has values')\n",
    "else:\n",
    "    print('empty list')"
   ]
  },
  {
   "cell_type": "markdown",
   "id": "1ccb7691-4edf-48ea-8a02-23079176305d",
   "metadata": {
    "toc-hr-collapsed": true
   },
   "source": [
    "### example"
   ]
  },
  {
   "cell_type": "markdown",
   "id": "9322c6e7-a057-44f2-9515-2f379a5ca2bd",
   "metadata": {},
   "source": [
    "#### Choose your own adventure"
   ]
  },
  {
   "cell_type": "raw",
   "id": "a66524be-2e8a-418f-8f93-2314b0a627f2",
   "metadata": {},
   "source": [
    "# Choose your  own adventure game\n",
    "# At least 2 decisions with at least 2 options per decision\n",
    "\n",
    "welcome = \"\\nWelcome to Choose your own adventure!\"\n",
    "\n",
    "path_choice = \"\"\"\\nChoose path direction\n",
    "1 Left\n",
    "2 Center\n",
    "3 Right\\n\n",
    "\"\"\"\n",
    "path_left_choice = \"\"\"\\nChoose next direction\n",
    "1 Up\n",
    "2 Down\\n\n",
    "\"\"\"\n",
    "path_center_choice = \"\"\"\\nChoose fruit\n",
    "1 Mango\n",
    "2 Banana\n",
    "3 Apple\\n\n",
    "\"\"\"\n",
    "print(welcome)\n",
    "choice = input(path_choice)\n",
    "\n",
    "if choice == \"1\":\n",
    "    choice = input(path_left_choice)\n",
    "    if choice == \"1\":\n",
    "        print(\"Up is wrong choice\")\n",
    "    elif choice == \"2\":\n",
    "        print(\"Correct choice. You win!\")\n",
    "    else:\n",
    "        print(\"You must enter 1 or 2\")\n",
    "elif choice == \"2\":\n",
    "    choice = input(path_center_choice)\n",
    "    if choice == \"1\":\n",
    "        print(\"Wrong choice\")\n",
    "    elif choice == \"2\":\n",
    "        print(\"Wrong choice\")\n",
    "    elif choice == \"3\":\n",
    "        print(\"Apple is correct choice. You Win!\")\n",
    "    else:\n",
    "        print(\"You must enter 1,2, or 3\")\n",
    "elif choice == \"3\":\n",
    "    print(\"\\nEnd of game!\\n\")\n",
    "else:\n",
    "    print(\"You must enter 1,2, or 3\")"
   ]
  },
  {
   "cell_type": "markdown",
   "id": "7e877baf-fab1-487d-8391-65103fa0d99e",
   "metadata": {
    "tags": [],
    "toc-hr-collapsed": true
   },
   "source": [
    "<a id='cf-for'></a>\n",
    "## For Loop"
   ]
  },
  {
   "cell_type": "markdown",
   "id": "0153eda1-e61e-4560-bb97-15a0c302039a",
   "metadata": {},
   "source": [
    "[Return to Start of Notebook](#cf)  "
   ]
  },
  {
   "cell_type": "markdown",
   "id": "7ccbd3e6-792b-4564-b424-334c3178c4fc",
   "metadata": {},
   "source": [
    "### iterable objects  \n",
    "- object you can set through one at a time  \n",
    "- strings, lists, ranges, tuples, sets, dictionaries  "
   ]
  },
  {
   "cell_type": "markdown",
   "id": "3ebd1304-6499-4d36-a95e-01e4eea2d7e5",
   "metadata": {},
   "source": [
    "### syntax"
   ]
  },
  {
   "cell_type": "markdown",
   "id": "45a67e3f-bc73-4c9a-a5e4-bf882fba4dcc",
   "metadata": {},
   "source": [
    "for loops are useful to repeat some part of the code a definite number of times."
   ]
  },
  {
   "cell_type": "markdown",
   "id": "13cd0943-fe86-410e-a0b5-16fcaf81ec72",
   "metadata": {},
   "source": [
    "`for item in iterable:`  \n",
    "`     indented code block`"
   ]
  },
  {
   "cell_type": "markdown",
   "id": "01c13966-cd39-4d8e-bd7f-6cf3b3a6dd49",
   "metadata": {
    "toc-hr-collapsed": true
   },
   "source": [
    "### string"
   ]
  },
  {
   "cell_type": "code",
   "execution_count": 11,
   "id": "0084f23e-81e6-48de-ab59-786f713b2047",
   "metadata": {},
   "outputs": [
    {
     "name": "stdout",
     "output_type": "stream",
     "text": [
      "a\n",
      "b\n",
      "c\n"
     ]
    }
   ],
   "source": [
    "text = 'abc'\n",
    "for c in text:\n",
    "    print(c)"
   ]
  },
  {
   "cell_type": "code",
   "execution_count": 12,
   "id": "edc89fa0-9ab4-4c6e-9b5b-def0b96c0527",
   "metadata": {},
   "outputs": [
    {
     "name": "stdout",
     "output_type": "stream",
     "text": [
      "The length of abc is 3\n",
      "The length of defgh is 5\n",
      "The length of ij is 2\n"
     ]
    }
   ],
   "source": [
    "text = 'abc defgh ij'\n",
    "for word in text.split():\n",
    "    print(f'The length of {word} is {len(word)}')"
   ]
  },
  {
   "cell_type": "markdown",
   "id": "72f39788-97d7-464d-b8e0-3d16d67e33ff",
   "metadata": {
    "toc-hr-collapsed": true
   },
   "source": [
    "### list"
   ]
  },
  {
   "cell_type": "code",
   "execution_count": 13,
   "id": "758a67ce-c073-419c-956c-a243cb3dca60",
   "metadata": {},
   "outputs": [
    {
     "data": {
      "text/plain": [
       "[10, 200, 300]"
      ]
     },
     "execution_count": 13,
     "metadata": {},
     "output_type": "execute_result"
    }
   ],
   "source": [
    "list_x = [1,2,3]\n",
    "list_y = []\n",
    "for num in list_x:\n",
    "    if num < 2:\n",
    "        list_y.append(num * 10)\n",
    "    else:    \n",
    "        list_y.append(num * 100)\n",
    "\n",
    "list_y"
   ]
  },
  {
   "cell_type": "markdown",
   "id": "14b05f5e-7210-4371-9f13-07513b8989db",
   "metadata": {
    "tags": [],
    "toc-hr-collapsed": true
   },
   "source": [
    "### range  \n",
    "- range is a generator  \n",
    "- i is index variable"
   ]
  },
  {
   "cell_type": "code",
   "execution_count": 14,
   "id": "5df7f877-e97d-4be0-814f-b4f7eac8080a",
   "metadata": {},
   "outputs": [
    {
     "name": "stdout",
     "output_type": "stream",
     "text": [
      "0\n",
      "1\n",
      "2\n",
      "3\n",
      "4\n"
     ]
    },
    {
     "data": {
      "text/plain": [
       "10"
      ]
     },
     "execution_count": 14,
     "metadata": {},
     "output_type": "execute_result"
    }
   ],
   "source": [
    "tot = 0\n",
    "for i in  range(5):\n",
    "    print(i)\n",
    "    tot += i\n",
    "tot"
   ]
  },
  {
   "cell_type": "markdown",
   "id": "0151ff78-374c-4343-917e-1da883303745",
   "metadata": {
    "toc-hr-collapsed": true
   },
   "source": [
    "### with conditional"
   ]
  },
  {
   "cell_type": "code",
   "execution_count": 15,
   "id": "cad54657-fc0e-4c78-a1cd-c3bcfac0eae0",
   "metadata": {},
   "outputs": [
    {
     "name": "stdout",
     "output_type": "stream",
     "text": [
      "0\n",
      "2\n",
      "4\n",
      "30\n",
      "40\n"
     ]
    }
   ],
   "source": [
    "for i in range(5):\n",
    "    if i < 3:\n",
    "        print(i*2)\n",
    "    else:\n",
    "        print(i*10)\n",
    "        "
   ]
  },
  {
   "cell_type": "markdown",
   "id": "23621113-d845-41b8-9b3c-bd8e5210540f",
   "metadata": {
    "toc-hr-collapsed": true
   },
   "source": [
    "### enumerate"
   ]
  },
  {
   "cell_type": "markdown",
   "id": "3edee83d-0ecc-476b-bd61-fc269a7e39ff",
   "metadata": {},
   "source": [
    "`for index,value in enumerate(iterable):`  \n",
    "`     indented code block`"
   ]
  },
  {
   "cell_type": "code",
   "execution_count": 9,
   "id": "20a61008-d52b-465d-9978-dfb6c0ee3ac0",
   "metadata": {},
   "outputs": [
    {
     "name": "stdout",
     "output_type": "stream",
     "text": [
      "0 a\n",
      "1 b\n",
      "2 c\n"
     ]
    }
   ],
   "source": [
    "list_x = ['a','b','c']\n",
    "for index, value in enumerate(list_x):\n",
    "    print(index, value)"
   ]
  },
  {
   "cell_type": "code",
   "execution_count": 8,
   "id": "1dc9115d-fac0-40f0-981f-baf2dbb975b8",
   "metadata": {},
   "outputs": [
    {
     "name": "stdout",
     "output_type": "stream",
     "text": [
      "a is the capital of X\n",
      "b is the capital of Y\n",
      "c is the capital of Z\n"
     ]
    }
   ],
   "source": [
    "list_x = ['a','b','c']\n",
    "list_y = ['x','y','z']\n",
    "for index, value in enumerate(list_x):\n",
    "     print(f'{list_x[index]} is the capital of {list_y[index].capitalize()}')"
   ]
  },
  {
   "cell_type": "markdown",
   "id": "e6fdb5f4-c507-46e7-b64d-ee3cc2cac705",
   "metadata": {
    "toc-hr-collapsed": true
   },
   "source": [
    "### continue\n",
    "forces execution to return to the top of loop"
   ]
  },
  {
   "cell_type": "code",
   "execution_count": 18,
   "id": "cd3d3789-b633-4073-8eec-d5e166a4bb8e",
   "metadata": {},
   "outputs": [
    {
     "name": "stdout",
     "output_type": "stream",
     "text": [
      "1\n",
      "3\n",
      "5\n",
      "7\n",
      "9\n"
     ]
    }
   ],
   "source": [
    "for i in range(10):\n",
    "    if i % 2 == 0:\n",
    "        continue\n",
    "    print(i)"
   ]
  },
  {
   "cell_type": "markdown",
   "id": "955fa37c-38ad-47e1-b176-71010d944ef4",
   "metadata": {
    "toc-hr-collapsed": true
   },
   "source": [
    "### break\n",
    "exits loop immediately"
   ]
  },
  {
   "cell_type": "code",
   "execution_count": 19,
   "id": "57b61f6b-8364-465a-ab9d-d45dcd76c02d",
   "metadata": {},
   "outputs": [
    {
     "name": "stdout",
     "output_type": "stream",
     "text": [
      "0\n",
      "1\n",
      "2\n",
      "3\n"
     ]
    }
   ],
   "source": [
    "for i in range(10):\n",
    "    if i > 3:\n",
    "        break\n",
    "    print(i)"
   ]
  },
  {
   "cell_type": "markdown",
   "id": "c1d8eea2-83a9-4010-b0be-f066568bae50",
   "metadata": {
    "toc-hr-collapsed": true
   },
   "source": [
    "### nested"
   ]
  },
  {
   "cell_type": "code",
   "execution_count": 20,
   "id": "87745a2a-70fa-4f2f-b5eb-2e84a93ee2dd",
   "metadata": {},
   "outputs": [
    {
     "name": "stdout",
     "output_type": "stream",
     "text": [
      "i: 0\n",
      "\tj: 0\n",
      "\tj: 1\n",
      "\tj: 2\n",
      "i: 1\n",
      "\tj: 0\n",
      "\tj: 1\n",
      "\tj: 2\n",
      "i: 2\n",
      "\tj: 0\n",
      "\tj: 1\n",
      "\tj: 2\n"
     ]
    }
   ],
   "source": [
    "for i in range(3):\n",
    "    print(f'i: {i}')\n",
    "    for j in range(3):\n",
    "        print(f'\\tj: {j}')"
   ]
  },
  {
   "cell_type": "markdown",
   "id": "d5bc77f8-7157-4b6d-9900-3c1487e7d486",
   "metadata": {
    "toc-hr-collapsed": true
   },
   "source": [
    "### examples"
   ]
  },
  {
   "cell_type": "markdown",
   "id": "172902e7-d81b-4435-b335-31aa1a454942",
   "metadata": {
    "toc-hr-collapsed": true
   },
   "source": [
    "#### multiplication table"
   ]
  },
  {
   "cell_type": "code",
   "execution_count": 21,
   "id": "a91df904-a933-47e0-a25f-fbad5c51fde0",
   "metadata": {},
   "outputs": [
    {
     "name": "stdout",
     "output_type": "stream",
     "text": [
      "1 * 1 = 1\t1 * 2 = 2\t1 * 3 = 3\t1 * 4 = 4\t\n",
      "2 * 1 = 2\t2 * 2 = 4\t2 * 3 = 6\t2 * 4 = 8\t\n",
      "3 * 1 = 3\t3 * 2 = 6\t3 * 3 = 9\t3 * 4 = 12\t\n",
      "4 * 1 = 4\t4 * 2 = 8\t4 * 3 = 12\t4 * 4 = 16\t\n"
     ]
    }
   ],
   "source": [
    "for i in range(1, 5):\n",
    "    for j in range(1, 5):\n",
    "        print(f'{i} * {j} = {i*j}', end='\\t')\n",
    "    print()\n",
    "    "
   ]
  },
  {
   "cell_type": "markdown",
   "id": "008a0cdd-3774-431c-9782-9ff00a9a9842",
   "metadata": {
    "toc-hr-collapsed": true
   },
   "source": [
    "#### trivia game"
   ]
  },
  {
   "cell_type": "raw",
   "id": "9487fd71-28cb-4e84-8da1-edef1febb920",
   "metadata": {},
   "source": [
    "# Trivia game - 5 questions, 10 points each\n",
    "\n",
    "score = 0\n",
    "missed_questions = []\n",
    "welcome_message = \"\\nWelcome to the trivia game!\"\n",
    "\n",
    "#There will be 5 questions, each worth 10 points\"\"\"\n",
    "\n",
    "# Questions and Answers\n",
    "Q1 = 'What is th 6th planet from the sun? '\n",
    "A1 = 'saturn'\n",
    "\n",
    "Q2 = 'What does the roman numeral L represent? '\n",
    "A2 = '50'\n",
    "\n",
    "Q3 = 'Which city hosted the 2008 summer olympics? '\n",
    "A3 = 'beijing'\n",
    "\n",
    "Q4 = 'Do penguins live in the North or South pole? '\n",
    "A4 = 'south'\n",
    "\n",
    "Q5 = 'What is the first element of the periodic table? '\n",
    "A5 = 'hydrogen'\n",
    "\n",
    "print(welcome_message)\n",
    "questions = [Q1,Q2,Q3,Q4,Q5]\n",
    "answers = [A1,A2,A3,A4,A5]\n",
    "N = len(questions)\n",
    "\n",
    "for i in range(N):\n",
    "    print(f'\\nQuestion #{i+1}')\n",
    "    ans = input(questions[i])\n",
    "    if ans.lower() == answers[i]:\n",
    "        score +=10\n",
    "        print('Correct! 10 points')\n",
    "    else:\n",
    "        missed_questions.append(i+1)\n",
    "        print('Incorrect. 0 points')\n",
    "\n",
    "\n",
    "if score == 50:\n",
    "    print(f'\\nCongratulations, all correct, score = {score}\\n')\n",
    "else: \n",
    "    print(f'\\nMissed questions: {missed_questions}, score: {score}\\n')"
   ]
  },
  {
   "cell_type": "markdown",
   "id": "ae04c146-924e-4480-a27a-db192b0e7161",
   "metadata": {
    "tags": [],
    "toc-hr-collapsed": true
   },
   "source": [
    "<a id='cf-while'></a>\n",
    "## While loops  \n",
    "repeated while condtion in true"
   ]
  },
  {
   "cell_type": "markdown",
   "id": "c3a51044-eb4f-4c75-ae55-f3ef9373f9bc",
   "metadata": {},
   "source": [
    "[Return to Start of Notebook](#cf)  "
   ]
  },
  {
   "cell_type": "markdown",
   "id": "2e3c87ea-6a57-4fb6-945a-927450447d98",
   "metadata": {},
   "source": [
    "`initialize condition`  \n",
    "`while condition:`   \n",
    "`    code block`   \n",
    "`    modify condition`  "
   ]
  },
  {
   "cell_type": "markdown",
   "id": "26cbfb9e-c9a1-4320-ad38-0d169420de7c",
   "metadata": {},
   "source": [
    "### decrement condition"
   ]
  },
  {
   "cell_type": "code",
   "execution_count": 17,
   "id": "147993d3-517d-4436-8f52-6ec079e4d02b",
   "metadata": {},
   "outputs": [
    {
     "name": "stdout",
     "output_type": "stream",
     "text": [
      "x = 3\n",
      "x = 2\n",
      "x = 1\n",
      "x = 0\n"
     ]
    }
   ],
   "source": [
    "x = 3\n",
    "while x >= 0:\n",
    "    print(f'x = {x}')\n",
    "    x -= 1"
   ]
  },
  {
   "cell_type": "markdown",
   "id": "4ee09150-3652-4817-813f-b43d8704fca7",
   "metadata": {},
   "source": [
    "### increment condition"
   ]
  },
  {
   "cell_type": "code",
   "execution_count": 18,
   "id": "6418accc-297b-489b-ade7-7888beb52fec",
   "metadata": {},
   "outputs": [
    {
     "name": "stdout",
     "output_type": "stream",
     "text": [
      "x = 0\n",
      "x = 1\n",
      "x = 2\n",
      "x = 3\n"
     ]
    }
   ],
   "source": [
    "x = 0\n",
    "while x <= 3:\n",
    "    print(f'x = {x}')\n",
    "    x += 1"
   ]
  },
  {
   "cell_type": "markdown",
   "id": "a18560f3-33af-4472-be6d-fce6654e02ee",
   "metadata": {},
   "source": [
    "### range"
   ]
  },
  {
   "cell_type": "code",
   "execution_count": 24,
   "id": "405cd8c9-539c-465c-acdd-64d12425243e",
   "metadata": {},
   "outputs": [
    {
     "name": "stdout",
     "output_type": "stream",
     "text": [
      "x = 0\n",
      "x = 1\n",
      "x = 2\n"
     ]
    }
   ],
   "source": [
    "x = 0\n",
    "while x in range(3):\n",
    "    print(f'x = {x}')\n",
    "    x += 1"
   ]
  },
  {
   "cell_type": "markdown",
   "id": "343d846b-32db-4ac9-b1b0-a95becd3dbac",
   "metadata": {},
   "source": [
    "### while True then break  \n",
    "- until condition true  \n",
    "- when true break"
   ]
  },
  {
   "cell_type": "code",
   "execution_count": 26,
   "id": "8502adbc-b740-478b-8da9-c2c78a078e22",
   "metadata": {},
   "outputs": [
    {
     "data": {
      "text/plain": [
       "4"
      ]
     },
     "execution_count": 26,
     "metadata": {},
     "output_type": "execute_result"
    }
   ],
   "source": [
    "count = 0\n",
    "while True:\n",
    "    if count > 3:\n",
    "        break\n",
    "    count += 1\n",
    "    \n",
    "count"
   ]
  },
  {
   "cell_type": "markdown",
   "id": "c3782c38-1ba5-4ddb-beb9-cc049b1506f0",
   "metadata": {
    "tags": [],
    "toc-hr-collapsed": true
   },
   "source": [
    "<a id='cf-comprehension'></a>\n",
    "## Comprehensions"
   ]
  },
  {
   "cell_type": "markdown",
   "id": "ea522585-6a43-4d5c-80d3-9e9c8e2933b5",
   "metadata": {},
   "source": [
    "[Return to Start of Notebook](#cf)  "
   ]
  },
  {
   "cell_type": "markdown",
   "id": "c02da57e-6c64-43ed-8eff-5709ce083e34",
   "metadata": {},
   "source": [
    "Special syntax for creating lists with for loops.  \n",
    "The syntax and concept are fairly similar to an ordinary for loop, just more concise.  \n",
    "Requires simple for loops with one line code block.  \n",
    "Can include conditional test.  \n",
    "- [expression for i in range(n)]\n",
    "- [expression for i in range(n) if condition]\n",
    "- [expression for item in iterable]  \n",
    "- [expression for item in iterable if condition]"
   ]
  },
  {
   "cell_type": "markdown",
   "id": "2b852b0a-57ac-4ac5-97e8-aabf1b8253fd",
   "metadata": {},
   "source": [
    "### list comprehension"
   ]
  },
  {
   "cell_type": "markdown",
   "id": "373111c0-bbe3-4e8d-b198-3892324c243b",
   "metadata": {},
   "source": [
    "Creating lists with for loops.  \n",
    "-    Pros: can be much faster than for loops, especially for large datasets, less code to write  \n",
    "-    Cons: can be less legible, harder to implement for complicated operations in for loops"
   ]
  },
  {
   "cell_type": "markdown",
   "id": "c8746337-2f1e-4555-aa2e-625f90609819",
   "metadata": {
    "tags": [],
    "toc-hr-collapsed": true
   },
   "source": [
    "#### format   \n",
    "- mandatory components: outer set of brackets, expression, for-loop\n",
    "- new_list = [expression for item in list]\n",
    "- new_list = [expression for item in list if condition]"
   ]
  },
  {
   "cell_type": "code",
   "execution_count": 4,
   "id": "a7d088d5-be3e-4fec-8b22-1826797fbfd5",
   "metadata": {},
   "outputs": [
    {
     "name": "stdout",
     "output_type": "stream",
     "text": [
      "[2, 4, 6, 8, 10]\n"
     ]
    }
   ],
   "source": [
    "# for loop version:\n",
    "x = [] # requires initialize\n",
    "for i in range(1,6):\n",
    "    x.append(i * 2) # requires .append()\n",
    "print(x)"
   ]
  },
  {
   "cell_type": "markdown",
   "id": "19899c30-8d18-40b6-a205-2df7a6ba1dfc",
   "metadata": {
    "toc-hr-collapsed": true
   },
   "source": [
    "#### range"
   ]
  },
  {
   "cell_type": "code",
   "execution_count": 5,
   "id": "23b89044-a1cf-4093-a7f7-2a25b1ebe31e",
   "metadata": {},
   "outputs": [
    {
     "name": "stdout",
     "output_type": "stream",
     "text": [
      "[2, 4, 6, 8, 10]\n"
     ]
    }
   ],
   "source": [
    "x = [i * 2 for i in range(1,6)]\n",
    "print(x)"
   ]
  },
  {
   "cell_type": "code",
   "execution_count": 48,
   "id": "64950d2f-e9d1-4326-ac85-9d3fbccccdec",
   "metadata": {},
   "outputs": [
    {
     "data": {
      "text/plain": [
       "[4, 8, 12, 16, 20]"
      ]
     },
     "execution_count": 48,
     "metadata": {},
     "output_type": "execute_result"
    }
   ],
   "source": [
    "x = [i * 2 for i in range(1,11) if i % 2 == 0]"
   ]
  },
  {
   "cell_type": "markdown",
   "id": "3a350416-008a-4013-bc91-2ffd29cdb4db",
   "metadata": {
    "toc-hr-collapsed": true
   },
   "source": [
    "#### lists"
   ]
  },
  {
   "cell_type": "code",
   "execution_count": 49,
   "id": "e3ff4b56-0810-438b-8bc7-1035558566f5",
   "metadata": {},
   "outputs": [
    {
     "name": "stdout",
     "output_type": "stream",
     "text": [
      "['AFRICA', 'ANTARCTICA', 'ASIA', 'AUSTRALIA', 'EUROPE', 'NORTH AMERICA', 'SOUTH AMERICA']\n",
      "['AFRICA', 'ANTARCTICA', 'ASIA', 'AUSTRALIA']\n"
     ]
    }
   ],
   "source": [
    "continents = ['Africa', 'Antarctica', 'Asia', 'Australia', 'Europe', 'North America', 'South America']\n",
    "result = [continent.upper() for continent in continents]\n",
    "print(result)\n",
    "result = [continent.upper() for continent in continents if continent[0].upper() ==  'A']\n",
    "print(result)"
   ]
  },
  {
   "cell_type": "code",
   "execution_count": 52,
   "id": "aa4fb0c8-95d0-4c41-8a05-0d48af0d3996",
   "metadata": {},
   "outputs": [
    {
     "name": "stdout",
     "output_type": "stream",
     "text": [
      "[-17.8, 0.0, 4.4, 10.0, 15.6, 21.1, 26.7, 100.0]\n",
      "[-18, 0, 4, 10, 16, 21, 27, 100]\n",
      "[16, 21, 27, 100]\n",
      "[16, 21, 27]\n"
     ]
    }
   ],
   "source": [
    "temp_f = [0, 32, 40, 50, 60, 70, 80, 212]\n",
    "\n",
    "temp_c = [round((temp - 32) / 1.8, 1) for temp in temp_f]\n",
    "print(temp_c)\n",
    "temp_c = [int(round((temp - 32) / 1.8, 0)) for temp in temp_f]\n",
    "print(temp_c)\n",
    "temp_c = [int(round((temp - 32) / 1.8, 0)) for temp in temp_f if temp > 50]\n",
    "print(temp_c)\n",
    "temp_c = [int(round((temp - 32) / 1.8, 0)) for temp in temp_f if temp > 50 and temp < 100]\n",
    "print(temp_c)"
   ]
  },
  {
   "cell_type": "markdown",
   "id": "2b56cea9-a7ea-4c25-9618-1e85d1fe5b8f",
   "metadata": {
    "tags": []
   },
   "source": [
    "#### apply function"
   ]
  },
  {
   "cell_type": "code",
   "execution_count": 2,
   "id": "748bba96-ef88-4bd5-acbe-5da5a1f5e248",
   "metadata": {},
   "outputs": [
    {
     "data": {
      "text/plain": [
       "[0.7, 0.75, 1.85, 2.93, 3.05, 2.02, 1.93, 1.62, 1.84, 1.31, 1.39, 0.84]"
      ]
     },
     "execution_count": 2,
     "metadata": {},
     "output_type": "execute_result"
    }
   ],
   "source": [
    "precip_months_in = [0.70, 0.75, 1.85, 2.93, 3.05, 2.02,\n",
    "                    1.93, 1.62, 1.84, 1.31, 1.39, 0.84]"
   ]
  },
  {
   "cell_type": "code",
   "execution_count": 4,
   "id": "e8a8f2f4-7a6d-4ac8-82e2-e9a66dc66b70",
   "metadata": {},
   "outputs": [],
   "source": [
    "def convert_in_to_mm(num):\n",
    "    return round(num * 25.4, 1)"
   ]
  },
  {
   "cell_type": "code",
   "execution_count": 5,
   "id": "9f22c297-a5ef-4012-b152-b99f0841df77",
   "metadata": {},
   "outputs": [
    {
     "data": {
      "text/plain": [
       "[17.8, 19.0, 47.0, 74.4, 77.5, 51.3, 49.0, 41.1, 46.7, 33.3, 35.3, 21.3]"
      ]
     },
     "execution_count": 5,
     "metadata": {},
     "output_type": "execute_result"
    }
   ],
   "source": [
    "[convert_in_to_mm(month) for month in precip_months_in]"
   ]
  },
  {
   "cell_type": "markdown",
   "id": "dcf19ca2-b221-46be-8ce3-25be3d3d5dbe",
   "metadata": {
    "toc-hr-collapsed": true
   },
   "source": [
    "#### ternary expression"
   ]
  },
  {
   "cell_type": "code",
   "execution_count": null,
   "id": "065a0131-0972-4734-8c77-2f303b824f38",
   "metadata": {},
   "outputs": [
    {
     "data": {
      "text/plain": [
       "[0, 3, 4, 9, 8, 15, 12, 21, 16, 27]"
      ]
     },
     "execution_count": 53,
     "metadata": {},
     "output_type": "execute_result"
    }
   ],
   "source": [
    "result = []\n",
    "for i in range(10):\n",
    "    if i % 2 == 1:\n",
    "        result.append(i * 3)\n",
    "    else:\n",
    "        result.append(i * 2)\n",
    "result"
   ]
  },
  {
   "cell_type": "code",
   "execution_count": 54,
   "id": "d713c520-a2d5-4db3-9667-e714bea6e0a2",
   "metadata": {},
   "outputs": [
    {
     "data": {
      "text/plain": [
       "[0, 3, 4, 9, 8, 15, 12, 21, 16, 27]"
      ]
     },
     "execution_count": 54,
     "metadata": {},
     "output_type": "execute_result"
    }
   ],
   "source": [
    "result = [i * 3 if i % 2 == 1 else i * 2 for i in range(10)]"
   ]
  },
  {
   "cell_type": "markdown",
   "id": "dc04ff6f-86e9-4be9-b7de-e66ec2c4ebe0",
   "metadata": {
    "tags": [],
    "toc-hr-collapsed": true
   },
   "source": [
    "#### nested"
   ]
  },
  {
   "cell_type": "code",
   "execution_count": 55,
   "id": "5354a8d5-09c6-498f-8697-3d8627b96545",
   "metadata": {},
   "outputs": [
    {
     "data": {
      "text/plain": [
       "[1, 2, 3, 2, 3, 4, 3, 4, 5]"
      ]
     },
     "execution_count": 55,
     "metadata": {},
     "output_type": "execute_result"
    }
   ],
   "source": [
    "result = [i + j for i in range(1, 4) for j in range(3 )]"
   ]
  },
  {
   "cell_type": "markdown",
   "id": "29cac836-3d7e-4905-84c4-70bc1156b9d2",
   "metadata": {
    "toc-hr-collapsed": true
   },
   "source": [
    "### tuple comprehension"
   ]
  },
  {
   "cell_type": "code",
   "execution_count": 21,
   "id": "57ecc50e-43e4-425b-bd77-1a57f3e5e86b",
   "metadata": {},
   "outputs": [
    {
     "data": {
      "text/plain": [
       "(-17.8, 0.0, 4.4, 10.0, 15.6, 21.1, 26.7, 100.0)"
      ]
     },
     "execution_count": 21,
     "metadata": {},
     "output_type": "execute_result"
    }
   ],
   "source": [
    "temp_f = (0, 32, 40, 50, 60, 70, 80, 212)\n",
    "temp_c = tuple(round((temp - 32) / 1.8, 1) for temp in temp_f)\n",
    "temp_c"
   ]
  },
  {
   "cell_type": "markdown",
   "id": "d6717016-8a12-44bf-8d8c-dd1bf2609c20",
   "metadata": {
    "toc-hr-collapsed": true
   },
   "source": [
    "### set comprehension"
   ]
  },
  {
   "cell_type": "code",
   "execution_count": 43,
   "id": "a33e8d59-ce08-4020-b18e-1b427c9dc57e",
   "metadata": {},
   "outputs": [
    {
     "data": {
      "text/plain": [
       "{0, 1, 4, 9, 16, 25, 36, 49, 64, 81}"
      ]
     },
     "execution_count": 43,
     "metadata": {},
     "output_type": "execute_result"
    }
   ],
   "source": [
    "s = {i ** 2 for i in range(10)}"
   ]
  },
  {
   "cell_type": "markdown",
   "id": "70f26beb-c33b-4828-974e-3a70fdae0f76",
   "metadata": {
    "toc-hr-collapsed": true
   },
   "source": [
    "### dictionary comprehension"
   ]
  },
  {
   "cell_type": "code",
   "execution_count": 44,
   "id": "839354a7-838d-433b-bfe4-e555df0b4ceb",
   "metadata": {},
   "outputs": [
    {
     "data": {
      "text/plain": [
       "{0: 0, 1: 1, 2: 4, 3: 9, 4: 16, 5: 25, 6: 36, 7: 49, 8: 64, 9: 81}"
      ]
     },
     "execution_count": 44,
     "metadata": {},
     "output_type": "execute_result"
    }
   ],
   "source": [
    "d =  {i:i ** 2 for i in range(10)}"
   ]
  },
  {
   "cell_type": "code",
   "execution_count": 45,
   "id": "00a1ccc8-e2e1-4115-9f66-ac976592b883",
   "metadata": {},
   "outputs": [
    {
     "data": {
      "text/plain": [
       "{'a': 3, 'b': 5, 'c': 7}"
      ]
     },
     "execution_count": 45,
     "metadata": {},
     "output_type": "execute_result"
    }
   ],
   "source": [
    "d1 = {'a': [1,2,3],\n",
    "      'b': [3,4,5],\n",
    "      'c': [5,6,7]}\n",
    "\n",
    "d2 = {key: max(value) for key, value in d1.items()}\n",
    "d2"
   ]
  },
  {
   "cell_type": "code",
   "execution_count": 46,
   "id": "4149bd57-11a7-4d74-8083-e21f90da5267",
   "metadata": {},
   "outputs": [
    {
     "data": {
      "text/plain": [
       "{100: 'd',\n",
       " 101: 'e',\n",
       " 102: 'f',\n",
       " 103: 'g',\n",
       " 104: 'h',\n",
       " 105: 'i',\n",
       " 106: 'j',\n",
       " 107: 'k',\n",
       " 108: 'l',\n",
       " 109: 'm'}"
      ]
     },
     "execution_count": 46,
     "metadata": {},
     "output_type": "execute_result"
    }
   ],
   "source": [
    "d = {i: chr(i) for i in range(100,110)}"
   ]
  },
  {
   "cell_type": "code",
   "execution_count": 47,
   "id": "cfdbfddb-aa0d-42fa-a7cf-968980d1efe1",
   "metadata": {},
   "outputs": [
    {
     "data": {
      "text/plain": [
       "{'a': 97, 'b': 98, 'c': 99, 'd': 100, 'e': 101}"
      ]
     },
     "execution_count": 47,
     "metadata": {},
     "output_type": "execute_result"
    }
   ],
   "source": [
    "s = 'abcde'\n",
    "{char: ord(char) for char in s}"
   ]
  },
  {
   "cell_type": "markdown",
   "id": "c617f0dc-f698-4fc2-86ab-90b5e8d6fdc0",
   "metadata": {
    "tags": []
   },
   "source": [
    "<a id='cf-zip'></a>\n",
    "## Zip"
   ]
  },
  {
   "cell_type": "markdown",
   "id": "09f5f9f6-e6f3-45ba-8d78-ccedd41d931c",
   "metadata": {},
   "source": [
    "[Return to Start of Notebook](#cf)  "
   ]
  },
  {
   "cell_type": "markdown",
   "id": "7dab4c9f-3fe5-4cad-9b50-fd5ff61bce5d",
   "metadata": {},
   "source": [
    "iterates over multiple objects simultaneously"
   ]
  },
  {
   "cell_type": "markdown",
   "id": "ddbba426-d97b-4882-8c2a-259bf43856bb",
   "metadata": {
    "tags": [],
    "toc-hr-collapsed": true
   },
   "source": [
    "### zip()"
   ]
  },
  {
   "cell_type": "code",
   "execution_count": 10,
   "id": "e15947ea-46c3-4178-a169-4391f198049d",
   "metadata": {},
   "outputs": [],
   "source": [
    "a = [1,2,3]\n",
    "b = [4,5,6]\n",
    "c = [7,8,9];"
   ]
  },
  {
   "cell_type": "code",
   "execution_count": 11,
   "id": "5be2d517-4746-4c6a-aa07-291b57fb6cfe",
   "metadata": {},
   "outputs": [
    {
     "name": "stdout",
     "output_type": "stream",
     "text": [
      "1 4 7 12\n",
      "2 5 8 15\n",
      "3 6 9 18\n"
     ]
    }
   ],
   "source": [
    "for x, y, z in zip(a, b, c):\n",
    "    print(x, y, z, x + y + z)"
   ]
  },
  {
   "cell_type": "markdown",
   "id": "fa9933a9-a1ac-43f4-8b91-94da897dce16",
   "metadata": {
    "toc-hr-collapsed": true
   },
   "source": [
    "### list comprehension"
   ]
  },
  {
   "cell_type": "code",
   "execution_count": 12,
   "id": "ea0daf34-4df5-41cd-98e4-ff05e6eb9467",
   "metadata": {},
   "outputs": [
    {
     "data": {
      "text/plain": [
       "[12, 15, 18]"
      ]
     },
     "execution_count": 12,
     "metadata": {},
     "output_type": "execute_result"
    }
   ],
   "source": [
    "[x + y + z for x, y, z in zip(a,b,c)]"
   ]
  },
  {
   "cell_type": "markdown",
   "id": "af14c0c6-1ade-4e20-a053-bc17aa8ca7bc",
   "metadata": {
    "tags": [],
    "toc-hr-collapsed": true
   },
   "source": [
    "###  sorted"
   ]
  },
  {
   "cell_type": "code",
   "execution_count": 13,
   "id": "87df4ea0-ca7e-4a9e-bbbc-d2ec546a8474",
   "metadata": {},
   "outputs": [
    {
     "data": {
      "text/plain": [
       "[(1, 'c'), (2, 'b'), (3, 'a')]"
      ]
     },
     "execution_count": 13,
     "metadata": {},
     "output_type": "execute_result"
    }
   ],
   "source": [
    "a = [3,2,1]\n",
    "b = ['a','b','c']\n",
    "ab = [ab for ab in zip (a,b)]\n",
    "zs = sorted(ab)"
   ]
  },
  {
   "cell_type": "markdown",
   "id": "06b315c6-ca57-4f58-ac19-844cac65192f",
   "metadata": {
    "toc-hr-collapsed": true
   },
   "source": [
    "### unzip"
   ]
  },
  {
   "cell_type": "code",
   "execution_count": 16,
   "id": "fac5b5d0-64b2-4b34-bf9b-7a8f694bea40",
   "metadata": {},
   "outputs": [
    {
     "name": "stdout",
     "output_type": "stream",
     "text": [
      "[1, 2, 3]\n",
      "['c', 'b', 'a']\n"
     ]
    }
   ],
   "source": [
    "z1 = [x[0] for x in zs]\n",
    "z2 = [x[1] for x in zs]\n",
    "print(z1)\n",
    "print(z2)"
   ]
  },
  {
   "cell_type": "markdown",
   "id": "d1a19cbd-617d-4305-87f0-c88a827dcb3f",
   "metadata": {
    "toc-hr-collapsed": true
   },
   "source": [
    "## Programs"
   ]
  },
  {
   "cell_type": "markdown",
   "id": "004c187c-48ed-4450-b5d2-c0f50457dac7",
   "metadata": {},
   "source": [
    "[Return to Start of Notebook](#cf)  "
   ]
  },
  {
   "cell_type": "code",
   "execution_count": 51,
   "id": "5f5b4af4-e0ff-46e5-8fd0-d5648fc08c74",
   "metadata": {},
   "outputs": [],
   "source": [
    "# Jupyter menu bar: File > New > Text File\n",
    "# create program and save hello_world.py"
   ]
  },
  {
   "cell_type": "code",
   "execution_count": 52,
   "id": "fcdb2952-e0f9-4a0d-9828-069332757524",
   "metadata": {},
   "outputs": [],
   "source": [
    "# terminal: cd to correct folder\n",
    "# python hello_world.py"
   ]
  },
  {
   "cell_type": "markdown",
   "id": "29bcbc7a-8b9a-49d5-94c7-649a5efb5edb",
   "metadata": {},
   "source": [
    "#### Source Code Editor\n",
    "- Visual Studio Code"
   ]
  },
  {
   "cell_type": "markdown",
   "id": "9692fdd9-0d04-4d2b-8d50-b27444d66330",
   "metadata": {},
   "source": [
    "### assert"
   ]
  },
  {
   "cell_type": "code",
   "execution_count": 42,
   "id": "3b108e80-0474-4142-b523-11e8762f5b4d",
   "metadata": {},
   "outputs": [],
   "source": [
    "a = [1,2,3,4,5]\n",
    "assert len(a) == 5, 'length must be 5'"
   ]
  },
  {
   "cell_type": "code",
   "execution_count": 46,
   "id": "3d8730b8-0f52-4255-897d-59c6c0e1cfb0",
   "metadata": {},
   "outputs": [],
   "source": [
    "assert isinstance(a, list), 'a must be a list'"
   ]
  },
  {
   "cell_type": "code",
   "execution_count": null,
   "id": "5569739f-0083-41c8-8ea2-b583ed75a005",
   "metadata": {},
   "outputs": [],
   "source": []
  }
 ],
 "metadata": {
  "interpreter": {
   "hash": "dadb38d82647d96d5382ce5812a5d64c7d4d3210fd59b769fd19e4966085dba7"
  },
  "kernelspec": {
   "display_name": "Python 3 (ipykernel)",
   "language": "python",
   "name": "python3"
  },
  "language_info": {
   "codemirror_mode": {
    "name": "ipython",
    "version": 3
   },
   "file_extension": ".py",
   "mimetype": "text/x-python",
   "name": "python",
   "nbconvert_exporter": "python",
   "pygments_lexer": "ipython3",
   "version": "3.10.6"
  },
  "toc": {
   "base_numbering": 1,
   "nav_menu": {},
   "number_sections": true,
   "sideBar": true,
   "skip_h1_title": false,
   "title_cell": "Table of Contents",
   "title_sidebar": "Contents",
   "toc_cell": false,
   "toc_position": {},
   "toc_section_display": true,
   "toc_window_display": false
  },
  "toc-autonumbering": false,
  "toc-showcode": false,
  "toc-showmarkdowntxt": false,
  "toc-showtags": false,
  "varInspector": {
   "cols": {
    "lenName": 16,
    "lenType": 16,
    "lenVar": 40
   },
   "kernels_config": {
    "python": {
     "delete_cmd_postfix": "",
     "delete_cmd_prefix": "del ",
     "library": "var_list.py",
     "varRefreshCmd": "print(var_dic_list())"
    },
    "r": {
     "delete_cmd_postfix": ") ",
     "delete_cmd_prefix": "rm(",
     "library": "var_list.r",
     "varRefreshCmd": "cat(var_dic_list()) "
    }
   },
   "types_to_exclude": [
    "module",
    "function",
    "builtin_function_or_method",
    "instance",
    "_Feature"
   ],
   "window_display": false
  }
 },
 "nbformat": 4,
 "nbformat_minor": 5
}
