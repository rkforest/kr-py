{
 "cells": [
  {
   "cell_type": "markdown",
   "id": "1898bbca",
   "metadata": {
    "tags": []
   },
   "source": [
    "<a id='fn'></a>\n",
    "# Functions  \n",
    "Functions complete a specific task.\n",
    "\n",
    "- Most professional code written in functions or methods.\n",
    "- Functions should generally do one task.\n",
    "- Functions generally don't exceed about 20 lines of code.  \n",
    "- All functions return an object."
   ]
  },
  {
   "cell_type": "markdown",
   "id": "9bd9df99-e863-43d0-93cb-70466ceb1905",
   "metadata": {},
   "source": [
    "[Built-in](#fn-python)  \n",
    "[User Defined](#fn-custom)  "
   ]
  },
  {
   "cell_type": "markdown",
   "id": "00876633-89a9-4095-bbb4-58cae3bd9589",
   "metadata": {
    "toc-hr-collapsed": true
   },
   "source": [
    "## data"
   ]
  },
  {
   "cell_type": "code",
   "execution_count": 1,
   "id": "f79f7269-93c1-49b5-a2bd-894319c98152",
   "metadata": {},
   "outputs": [],
   "source": [
    "a = 1.111\n",
    "b = 2.222\n",
    "c = 3.333\n",
    "s = 'abcde'\n",
    "l = [1,2,3]\n",
    "temps = [-10, 0, 10];"
   ]
  },
  {
   "cell_type": "markdown",
   "id": "20ec691b-0087-4ead-a867-26d0adf55b5c",
   "metadata": {
    "toc-hr-collapsed": true
   },
   "source": [
    "<a id='fn-python'></a>\n",
    "## Built-in functions"
   ]
  },
  {
   "cell_type": "markdown",
   "id": "0153eda1-e61e-4560-bb97-15a0c302039a",
   "metadata": {},
   "source": [
    "[Return to Start of Notebook](#fn)  "
   ]
  },
  {
   "cell_type": "code",
   "execution_count": 2,
   "id": "84e09614-a7b1-45ae-9866-f6386de9bce7",
   "metadata": {},
   "outputs": [
    {
     "data": {
      "text/plain": [
       "builtin_function_or_method"
      ]
     },
     "execution_count": 2,
     "metadata": {},
     "output_type": "execute_result"
    }
   ],
   "source": [
    "type(sum)"
   ]
  },
  {
   "cell_type": "markdown",
   "id": "a5696258-de17-4c14-94b5-efb6d8e379a8",
   "metadata": {
    "toc-hr-collapsed": true
   },
   "source": [
    "### abs("
   ]
  },
  {
   "cell_type": "code",
   "execution_count": 3,
   "id": "7c7fe4da-ad69-4ac1-a4e0-24fd40728c61",
   "metadata": {},
   "outputs": [
    {
     "name": "stdout",
     "output_type": "stream",
     "text": [
      "1\n",
      "0\n",
      "1\n"
     ]
    }
   ],
   "source": [
    "print(abs(-1))\n",
    "print(abs(0))\n",
    "print(abs(1))"
   ]
  },
  {
   "cell_type": "markdown",
   "id": "63ac2099-0a63-46f3-a2b8-6afccdd42470",
   "metadata": {
    "tags": [],
    "toc-hr-collapsed": true
   },
   "source": [
    "### min()"
   ]
  },
  {
   "cell_type": "code",
   "execution_count": 4,
   "id": "c4e8ed14-1c13-4bdd-8590-41efe6dbe1e8",
   "metadata": {},
   "outputs": [
    {
     "name": "stdout",
     "output_type": "stream",
     "text": [
      "1.111\n",
      "-10\n"
     ]
    }
   ],
   "source": [
    "print(min(a,b,c))\n",
    "print(min(temps))"
   ]
  },
  {
   "cell_type": "markdown",
   "id": "7f9eef00-2fb9-4a7c-9ea1-c8aa9878127e",
   "metadata": {
    "toc-hr-collapsed": true
   },
   "source": [
    "### max()"
   ]
  },
  {
   "cell_type": "code",
   "execution_count": 5,
   "id": "b569b5f4-50e9-4854-a0aa-3b82e234ef0c",
   "metadata": {},
   "outputs": [
    {
     "name": "stdout",
     "output_type": "stream",
     "text": [
      "3.333\n",
      "10\n"
     ]
    }
   ],
   "source": [
    "print(max(a,b,c))\n",
    "print(max(temps))"
   ]
  },
  {
   "cell_type": "markdown",
   "id": "8c17a495-f60c-4d3c-9b9c-d75f3af5e62d",
   "metadata": {
    "toc-hr-collapsed": true
   },
   "source": [
    "### round()"
   ]
  },
  {
   "cell_type": "code",
   "execution_count": 6,
   "id": "b2abbc89-145f-4f9c-b005-812c4cb3fd6a",
   "metadata": {},
   "outputs": [
    {
     "name": "stdout",
     "output_type": "stream",
     "text": [
      "6\n",
      "5.8\n"
     ]
    }
   ],
   "source": [
    "r = 5.777\n",
    "print(round(r))\n",
    "print(round(r,1))"
   ]
  },
  {
   "cell_type": "code",
   "execution_count": 7,
   "id": "323b2ef9-1c3d-4163-9595-0787dd800830",
   "metadata": {},
   "outputs": [
    {
     "name": "stdout",
     "output_type": "stream",
     "text": [
      "1234570\n",
      "1234600\n",
      "1235000\n",
      "1000000\n"
     ]
    }
   ],
   "source": [
    "r = 1234567\n",
    "print(round(r,-1))\n",
    "print(round(r,-2))\n",
    "print(round(r,-3))\n",
    "print(round(r,-6))"
   ]
  },
  {
   "cell_type": "markdown",
   "id": "5ee3d64b-6eb7-4397-8335-8ccb6605230b",
   "metadata": {
    "toc-hr-collapsed": true
   },
   "source": [
    "### int(round(,0))"
   ]
  },
  {
   "cell_type": "code",
   "execution_count": 8,
   "id": "0d8b267d-97fd-422e-ad7b-ae84df9c88b3",
   "metadata": {},
   "outputs": [
    {
     "name": "stdout",
     "output_type": "stream",
     "text": [
      "1234567\n",
      "6\n"
     ]
    }
   ],
   "source": [
    "print(int(r))\n",
    "print(int(round(5.77,0)))"
   ]
  },
  {
   "cell_type": "markdown",
   "id": "c341a521-d432-4d21-95ec-b3ef2840f95a",
   "metadata": {
    "toc-hr-collapsed": true
   },
   "source": [
    "### sum()"
   ]
  },
  {
   "cell_type": "code",
   "execution_count": 9,
   "id": "6027dd99-5885-40f0-bd02-2d59c8a61fb0",
   "metadata": {},
   "outputs": [
    {
     "name": "stdout",
     "output_type": "stream",
     "text": [
      "15\n"
     ]
    }
   ],
   "source": [
    "l = [1, 2, 3, 4, 5]\n",
    "print(sum(l))"
   ]
  },
  {
   "cell_type": "code",
   "execution_count": 10,
   "id": "3ed29eec-7373-4c1c-9ee7-f9f92136f08d",
   "metadata": {},
   "outputs": [
    {
     "name": "stdout",
     "output_type": "stream",
     "text": [
      "25\n"
     ]
    }
   ],
   "source": [
    "print(sum(l,10))"
   ]
  },
  {
   "cell_type": "markdown",
   "id": "ab24e408-b1cc-4469-8149-d70f497e830b",
   "metadata": {
    "toc-hr-collapsed": true
   },
   "source": [
    "### any/all"
   ]
  },
  {
   "cell_type": "code",
   "execution_count": 11,
   "id": "a425731f-d1d6-4c49-aa71-ef8e1f1a7dff",
   "metadata": {},
   "outputs": [
    {
     "name": "stdout",
     "output_type": "stream",
     "text": [
      "True\n",
      "False\n"
     ]
    }
   ],
   "source": [
    "a = [True,False,False]\n",
    "print(any(a))\n",
    "print(all(a))"
   ]
  },
  {
   "cell_type": "code",
   "execution_count": 12,
   "id": "0beffd7b-e9e9-451d-9bde-887b824feb0d",
   "metadata": {},
   "outputs": [
    {
     "name": "stdout",
     "output_type": "stream",
     "text": [
      "True\n",
      "True\n"
     ]
    }
   ],
   "source": [
    "a = [True,True,True]\n",
    "print(any(a))\n",
    "print(all(a))"
   ]
  },
  {
   "cell_type": "code",
   "execution_count": 13,
   "id": "f19923b2-5e04-40ae-a124-c12f46e776b4",
   "metadata": {},
   "outputs": [
    {
     "name": "stdout",
     "output_type": "stream",
     "text": [
      "True\n",
      "False\n"
     ]
    }
   ],
   "source": [
    "a = [99,0,0]\n",
    "print(any(a))\n",
    "print(all(a))"
   ]
  },
  {
   "cell_type": "markdown",
   "id": "2bc8b0e5-5859-416d-8872-e2bb32d53b67",
   "metadata": {
    "toc-hr-collapsed": true
   },
   "source": [
    "### chr/ord  \n",
    "- chr - accepts an integer argument, returns character at that unicode code point  \n",
    "- ord - accepts a single character, returns unicode code point\n"
   ]
  },
  {
   "cell_type": "code",
   "execution_count": 14,
   "id": "0a19b1a9-8b40-45f3-a10c-6b9ff06eacab",
   "metadata": {},
   "outputs": [
    {
     "data": {
      "text/plain": [
       "97"
      ]
     },
     "execution_count": 14,
     "metadata": {},
     "output_type": "execute_result"
    }
   ],
   "source": [
    "ord('a')"
   ]
  },
  {
   "cell_type": "code",
   "execution_count": 15,
   "id": "77242b72-94fc-4ac0-882c-f8909d49ff6c",
   "metadata": {},
   "outputs": [
    {
     "data": {
      "text/plain": [
       "'a'"
      ]
     },
     "execution_count": 15,
     "metadata": {},
     "output_type": "execute_result"
    }
   ],
   "source": [
    "chr(97)"
   ]
  },
  {
   "cell_type": "markdown",
   "id": "03c4ace3-d190-4944-8a2d-d5f4782fa08f",
   "metadata": {
    "tags": [],
    "toc-hr-collapsed": true
   },
   "source": [
    "### dir()\n",
    "directory of all attributes and methods"
   ]
  },
  {
   "cell_type": "code",
   "execution_count": 16,
   "id": "c54b0aa2-cafa-4a2e-94ce-3a5f4d347168",
   "metadata": {},
   "outputs": [
    {
     "name": "stdout",
     "output_type": "stream",
     "text": [
      "['__add__', '__class__', '__contains__', '__delattr__', '__dir__', '__doc__', '__eq__', '__format__', '__ge__', '__getattribute__', '__getitem__', '__getnewargs__', '__gt__', '__hash__', '__init__', '__init_subclass__', '__iter__', '__le__', '__len__', '__lt__', '__mod__', '__mul__', '__ne__', '__new__', '__reduce__', '__reduce_ex__', '__repr__', '__rmod__', '__rmul__', '__setattr__', '__sizeof__', '__str__', '__subclasshook__', 'capitalize', 'casefold', 'center', 'count', 'encode', 'endswith', 'expandtabs', 'find', 'format', 'format_map', 'index', 'isalnum', 'isalpha', 'isascii', 'isdecimal', 'isdigit', 'isidentifier', 'islower', 'isnumeric', 'isprintable', 'isspace', 'istitle', 'isupper', 'join', 'ljust', 'lower', 'lstrip', 'maketrans', 'partition', 'replace', 'rfind', 'rindex', 'rjust', 'rpartition', 'rsplit', 'rstrip', 'split', 'splitlines', 'startswith', 'strip', 'swapcase', 'title', 'translate', 'upper', 'zfill']\n"
     ]
    }
   ],
   "source": [
    "print(dir(''))"
   ]
  },
  {
   "cell_type": "markdown",
   "id": "cc41f715-19d1-4d4e-a835-edb63d35884d",
   "metadata": {
    "toc-hr-collapsed": true
   },
   "source": [
    "### print()  \n",
    "use optional sep and end to control "
   ]
  },
  {
   "cell_type": "code",
   "execution_count": 17,
   "id": "31240ef6-2143-4610-8b55-b7f8855ad3a0",
   "metadata": {},
   "outputs": [
    {
     "name": "stdout",
     "output_type": "stream",
     "text": [
      "[99, 0, 0] 2.222 3.333\n",
      "[99, 0, 0], 2.222, 3.333\n",
      "[99, 0, 0] > 2.222 > 3.333\n"
     ]
    }
   ],
   "source": [
    "print(a,b,c)\n",
    "print(a,b,c, sep=', ')\n",
    "print(a,b,c, sep=' > ')"
   ]
  },
  {
   "cell_type": "code",
   "execution_count": 18,
   "id": "bd1b96be-2e1a-452a-b35b-f25461f84fbf",
   "metadata": {},
   "outputs": [
    {
     "name": "stdout",
     "output_type": "stream",
     "text": [
      "[99, 0, 0] 2.222 3.333\n",
      "[99, 0, 0] 2.222 3.333 - [99, 0, 0] 2.222 3.333\n",
      "[99, 0, 0] 2.222 3.333\n"
     ]
    }
   ],
   "source": [
    "# override default \\n\n",
    "print(a,b,c)\n",
    "print(a,b,c, end = ' - ')\n",
    "print(a,b,c)\n",
    "print(a,b,c)"
   ]
  },
  {
   "cell_type": "markdown",
   "id": "d543de76-7be1-48fe-9d5e-86fe38759fb1",
   "metadata": {},
   "source": [
    "### id()"
   ]
  },
  {
   "cell_type": "code",
   "execution_count": null,
   "id": "510d6525-0917-4498-a266-3c2e47efd487",
   "metadata": {},
   "outputs": [],
   "source": []
  },
  {
   "cell_type": "markdown",
   "id": "97f30474-91ad-4e97-a085-eeeb169e0a26",
   "metadata": {
    "tags": [],
    "toc-hr-collapsed": true
   },
   "source": [
    "### len()"
   ]
  },
  {
   "cell_type": "code",
   "execution_count": 19,
   "id": "726981cf-cf1e-44e4-8156-01ad041f80b4",
   "metadata": {},
   "outputs": [
    {
     "name": "stdout",
     "output_type": "stream",
     "text": [
      "5\n",
      "5\n"
     ]
    }
   ],
   "source": [
    "print(len(s))\n",
    "print(len(l))"
   ]
  },
  {
   "cell_type": "markdown",
   "id": "5525cd12-0e5c-4178-9240-fbe5bd3d9acb",
   "metadata": {
    "toc-hr-collapsed": true
   },
   "source": [
    "### sorted()  \n",
    "- sorts any iterable (string, list, tuple, etc.)\n",
    "- always returns a list\n",
    "- unlike list sort, it does not sort in place"
   ]
  },
  {
   "cell_type": "code",
   "execution_count": 20,
   "id": "beaec98e-554d-4ed6-8a43-9b56cba80b41",
   "metadata": {},
   "outputs": [
    {
     "data": {
      "text/plain": [
       "['e', 'd', 'c', 'b', 'a']"
      ]
     },
     "execution_count": 20,
     "metadata": {},
     "output_type": "execute_result"
    }
   ],
   "source": [
    "x = sorted(s, reverse=True)"
   ]
  },
  {
   "cell_type": "code",
   "execution_count": 21,
   "id": "1fa030cf-3369-497e-bc98-5e61e916574f",
   "metadata": {},
   "outputs": [
    {
     "data": {
      "text/plain": [
       "[5, 4, 3, 2, 1]"
      ]
     },
     "execution_count": 21,
     "metadata": {},
     "output_type": "execute_result"
    }
   ],
   "source": [
    "x = sorted(l, reverse=True)"
   ]
  },
  {
   "cell_type": "markdown",
   "id": "8b0c06db-5318-4fb5-9ef1-5a3eb1168b0d",
   "metadata": {
    "tags": [],
    "toc-hr-collapsed": true
   },
   "source": [
    "<a id='fn-custom'></a>\n",
    "## User-defined functions"
   ]
  },
  {
   "cell_type": "markdown",
   "id": "4f79a0a4-1117-4c41-add6-2f99d1adfd58",
   "metadata": {},
   "source": [
    "[Return to Start of Notebook](#fn)  "
   ]
  },
  {
   "cell_type": "markdown",
   "id": "061ad36f-1360-40b9-a9a8-ebe0525f8708",
   "metadata": {},
   "source": [
    "- initialize using def   \n",
    "- zero or more parameters  \n",
    "- zero or more return  \n",
    "- any variable defined in function is a local variable  \n",
    "- global variables are accessible in function"
   ]
  },
  {
   "cell_type": "markdown",
   "id": "177e1347-1bdf-496a-af2c-383b96680002",
   "metadata": {},
   "source": [
    "`def function_name(parameter1, parameter2):  `  \n",
    "`     expression1  `  \n",
    "`     expression2  `  \n",
    "`     ...  `  \n",
    "`     return(value)  `  \n",
    "` `  \n",
    "`result = function_name(parameter1, parameter2)`"
   ]
  },
  {
   "cell_type": "markdown",
   "id": "59f30ba8-b5b7-4b29-b973-8a2014e98763",
   "metadata": {
    "toc-hr-collapsed": true
   },
   "source": [
    "### define functions"
   ]
  },
  {
   "cell_type": "code",
   "execution_count": 22,
   "id": "170aaa42-734f-4bc5-8d8f-c57ac50058a0",
   "metadata": {},
   "outputs": [],
   "source": [
    "def temp_conversion(temp, convert_to):\n",
    "    if convert_to == \"F\":\n",
    "        conv = (temp * 1.8) + 32\n",
    "    else:\n",
    "        conv = (temp - 32) / 1.8\n",
    "    return conv"
   ]
  },
  {
   "cell_type": "markdown",
   "id": "ec4b0e44-d644-451b-9860-10b3c6101e80",
   "metadata": {
    "toc-hr-collapsed": true
   },
   "source": [
    "### default parameter"
   ]
  },
  {
   "cell_type": "code",
   "execution_count": 23,
   "id": "33f2910c-5e0c-4189-a937-4ed1cfa31557",
   "metadata": {},
   "outputs": [],
   "source": [
    "def temp_conversion(temp, convert_to = \"F\"):\n",
    "    if convert_to == \"F\":\n",
    "        conv = (temp * 1.8) + 32\n",
    "    else:\n",
    "        conv = (temp - 32) / 1.8\n",
    "    return conv"
   ]
  },
  {
   "cell_type": "code",
   "execution_count": 3,
   "id": "08d96757-14fb-47a5-87fc-4b124c2b8504",
   "metadata": {},
   "outputs": [],
   "source": [
    "def precip_conversion(value, units = \"in\"):\n",
    "    if units == \"in\":\n",
    "        converted_value = value * 25.4\n",
    "    else:\n",
    "        converted_value = value / 25.4\n",
    "    return converted_value"
   ]
  },
  {
   "cell_type": "markdown",
   "id": "15a3bbe3-bfe2-42a9-9332-bb10a276af3d",
   "metadata": {
    "toc-hr-collapsed": true
   },
   "source": [
    "### call functions"
   ]
  },
  {
   "cell_type": "code",
   "execution_count": 24,
   "id": "369e137a-d1b4-4512-8c0a-33b4207d7fcc",
   "metadata": {},
   "outputs": [
    {
     "name": "stdout",
     "output_type": "stream",
     "text": [
      "212.0\n"
     ]
    }
   ],
   "source": [
    "t = temp_conversion(100)\n",
    "print(t)"
   ]
  },
  {
   "cell_type": "code",
   "execution_count": 4,
   "id": "c891bcdb-7b0a-450b-ab26-5bf4b7d8b921",
   "metadata": {},
   "outputs": [
    {
     "data": {
      "text/plain": [
       "25.4"
      ]
     },
     "execution_count": 4,
     "metadata": {},
     "output_type": "execute_result"
    }
   ],
   "source": [
    "p = precip_conversion(1)"
   ]
  },
  {
   "cell_type": "code",
   "execution_count": 58,
   "id": "3dfa6af4-a686-4679-9395-4482b45b64fd",
   "metadata": {},
   "outputs": [
    {
     "name": "stdout",
     "output_type": "stream",
     "text": [
      "The boiling point of water in Fahrenheit is 212.0\n"
     ]
    }
   ],
   "source": [
    "print(f\"The boiling point of water in Fahrenheit is {temp_conversion(100)}\")"
   ]
  },
  {
   "cell_type": "markdown",
   "id": "588099c6-2a5e-49ec-bfd3-46aac33fe63f",
   "metadata": {
    "toc-hr-collapsed": true
   },
   "source": [
    "### named parameters"
   ]
  },
  {
   "cell_type": "code",
   "execution_count": 25,
   "id": "00ac3b1f-61a2-4eea-980f-26a9a48a96a6",
   "metadata": {},
   "outputs": [
    {
     "name": "stdout",
     "output_type": "stream",
     "text": [
      "212.0\n"
     ]
    }
   ],
   "source": [
    "t = temp_conversion(temp=100)\n",
    "print(t)"
   ]
  },
  {
   "cell_type": "markdown",
   "id": "7aae030b-927f-4b5c-a3cc-c366aa5972f3",
   "metadata": {
    "tags": [],
    "toc-hr-collapsed": true
   },
   "source": [
    "### multiple parameters  \n",
    "if not named, order matters"
   ]
  },
  {
   "cell_type": "code",
   "execution_count": 26,
   "id": "c5d0c192-3f50-4944-bbde-2b14b1d98d29",
   "metadata": {},
   "outputs": [
    {
     "name": "stdout",
     "output_type": "stream",
     "text": [
      "212.0\n"
     ]
    }
   ],
   "source": [
    "t = temp_conversion(100, 'F')\n",
    "print(t)"
   ]
  },
  {
   "cell_type": "markdown",
   "id": "aa4843d0-c4c0-4a98-857f-6eafb3de87f7",
   "metadata": {
    "tags": [],
    "toc-hr-collapsed": true
   },
   "source": [
    "### multiple named parameters\n",
    "- order does not matter  \n",
    "- positional parameters must precede all named parameters"
   ]
  },
  {
   "cell_type": "code",
   "execution_count": 27,
   "id": "d7bc3778-aa2f-42ff-ac38-3adefccb5596",
   "metadata": {},
   "outputs": [
    {
     "name": "stdout",
     "output_type": "stream",
     "text": [
      "212.0\n"
     ]
    }
   ],
   "source": [
    "t = temp_conversion(convert_to=\"F\", temp=100)\n",
    "print(t)"
   ]
  },
  {
   "cell_type": "code",
   "execution_count": 28,
   "id": "12ffa308-b0a4-45d4-a307-92f2e0d74ab7",
   "metadata": {},
   "outputs": [
    {
     "name": "stdout",
     "output_type": "stream",
     "text": [
      "212.0\n"
     ]
    }
   ],
   "source": [
    "t = temp_conversion(temp=100, convert_to=\"F\")\n",
    "print(t)"
   ]
  },
  {
   "cell_type": "code",
   "execution_count": 29,
   "id": "7748f4af-9bca-4ed3-aad2-a9d4f197b2d1",
   "metadata": {},
   "outputs": [
    {
     "name": "stdout",
     "output_type": "stream",
     "text": [
      "212.0\n"
     ]
    }
   ],
   "source": [
    "t = temp_conversion(100, convert_to=\"F\")\n",
    "print(t)"
   ]
  },
  {
   "cell_type": "markdown",
   "id": "e99228fe-7b6b-4ede-be72-9906a62b77b7",
   "metadata": {
    "toc-hr-collapsed": true
   },
   "source": [
    "### positional vs keyword   \n",
    "- positional only before /  \n",
    "- keyword only after *   "
   ]
  },
  {
   "cell_type": "code",
   "execution_count": 30,
   "id": "ca402563-9f19-46bc-bc70-6bbba5221e71",
   "metadata": {},
   "outputs": [],
   "source": [
    "def xyz(a, b, /, c, d, *, e, f):\n",
    "    return"
   ]
  },
  {
   "cell_type": "code",
   "execution_count": 31,
   "id": "368b81a7-9e10-41b3-ae9c-39abc5431339",
   "metadata": {},
   "outputs": [],
   "source": [
    "def temp_conversion_pk(temp, /, *, convert_to = \"F\"):\n",
    "    if convert_to == \"F\":\n",
    "        conv = (temp * 1.8) + 32\n",
    "    else:\n",
    "        conv = (temp - 32) / 1.8\n",
    "    return conv"
   ]
  },
  {
   "cell_type": "code",
   "execution_count": 32,
   "id": "d857375c-ddfe-4407-beb0-a031ab19a4b6",
   "metadata": {},
   "outputs": [
    {
     "name": "stdout",
     "output_type": "stream",
     "text": [
      "212.0\n"
     ]
    }
   ],
   "source": [
    "t = temp_conversion_pk(100, convert_to=\"F\")\n",
    "print(t)"
   ]
  },
  {
   "cell_type": "markdown",
   "id": "66301604-53a0-4414-b939-663f36c8760e",
   "metadata": {
    "toc-hr-collapsed": true
   },
   "source": [
    "### variables as parameters"
   ]
  },
  {
   "cell_type": "code",
   "execution_count": 33,
   "id": "21100e1b-7d87-4216-9daf-920c132fc9a0",
   "metadata": {},
   "outputs": [
    {
     "data": {
      "text/plain": [
       "32.0"
      ]
     },
     "execution_count": 33,
     "metadata": {},
     "output_type": "execute_result"
    }
   ],
   "source": [
    "temp_c = 0\n",
    "convert_to = \"F\"\n",
    "t = temp_conversion(temp_c, convert_to)"
   ]
  },
  {
   "cell_type": "markdown",
   "id": "1e689cf5-e198-4a13-a9de-adec1cb3e8b1",
   "metadata": {
    "tags": [],
    "toc-hr-collapsed": true
   },
   "source": [
    "### docstring"
   ]
  },
  {
   "cell_type": "code",
   "execution_count": 6,
   "id": "89c7aa33-ab9a-4826-980b-740ae809f431",
   "metadata": {},
   "outputs": [],
   "source": [
    "def temp_conversion(temp, convert_to = \"F\"):\n",
    "    \"\"\"\n",
    "    Function for converting temperature between Celsius and Fahrenheit.\n",
    "\n",
    "    Parameters\n",
    "    ----------\n",
    "    temp: <numerical>\n",
    "        Temperature in celsius or fahr\n",
    "    convert_to: <str>\n",
    "        Convert to this. Supported values: 'C' | 'F'\n",
    "\n",
    "    Returns\n",
    "    -------\n",
    "    <float>\n",
    "        Converted temperature.\n",
    "    \"\"\"\n",
    "    if convert_to == \"F\":\n",
    "        conv = (temp * 1.8) + 32\n",
    "    elif convert_to == \"C\":   \n",
    "        conv = (temp - 32) / 1.8\n",
    "    else:\n",
    "        print(f'Unsupported convert to {convert_to}')\n",
    "        return None\n",
    "        \n",
    "    return conv"
   ]
  },
  {
   "cell_type": "markdown",
   "id": "db0aab65-2a27-43b6-9c91-c53ef8b1389f",
   "metadata": {},
   "source": [
    "### help"
   ]
  },
  {
   "cell_type": "code",
   "execution_count": 7,
   "id": "296f0bd7-f174-4ef4-b01e-d3af9178c899",
   "metadata": {},
   "outputs": [
    {
     "name": "stdout",
     "output_type": "stream",
     "text": [
      "Help on function temp_conversion in module __main__:\n",
      "\n",
      "temp_conversion(temp, convert_to='F')\n",
      "    Function for converting temperature between Celsius and Fahrenheit.\n",
      "    \n",
      "    Parameters\n",
      "    ----------\n",
      "    temp: <numerical>\n",
      "        Temperature in celsius or fahr\n",
      "    convert_to: <str>\n",
      "        Convert to this. Supported values: 'C' | 'F'\n",
      "    \n",
      "    Returns\n",
      "    -------\n",
      "    <float>\n",
      "        Converted temperature.\n",
      "\n"
     ]
    }
   ],
   "source": [
    "help(temp_conversion)"
   ]
  },
  {
   "cell_type": "code",
   "execution_count": null,
   "id": "27791cc6-d209-437a-880c-f2dc7c256fc7",
   "metadata": {},
   "outputs": [],
   "source": []
  },
  {
   "cell_type": "markdown",
   "id": "bed4c562-7344-4228-a43c-9b6ca9a28d95",
   "metadata": {
    "toc-hr-collapsed": true
   },
   "source": [
    "### functions from modules"
   ]
  },
  {
   "cell_type": "code",
   "execution_count": 35,
   "id": "00bb1d49-3464-4d56-9ad8-94a40ccc0804",
   "metadata": {},
   "outputs": [
    {
     "data": {
      "text/plain": [
       "'/Users/forest/k-r/code/pymd'"
      ]
     },
     "execution_count": 35,
     "metadata": {},
     "output_type": "execute_result"
    }
   ],
   "source": [
    "import os\n",
    "home_dir = home_dir = os.path.expanduser(\"~\")\n",
    "pymd_dir = os.path.join(home_dir, 'k-r', 'code', 'pymd')"
   ]
  },
  {
   "cell_type": "code",
   "execution_count": 36,
   "id": "06db5c17-a3a9-4df2-be1c-45a17fdc790f",
   "metadata": {},
   "outputs": [],
   "source": [
    "os.chdir(pymd_dir)"
   ]
  },
  {
   "cell_type": "code",
   "execution_count": 37,
   "id": "f970e326-75c7-4309-af72-9ddfde768aec",
   "metadata": {},
   "outputs": [],
   "source": [
    "import temp_converter as tc"
   ]
  },
  {
   "cell_type": "code",
   "execution_count": null,
   "id": "b05f19ca",
   "metadata": {},
   "outputs": [],
   "source": [
    "functions = dir(tc)\n",
    "for function in functions:\n",
    "    if function[0] != \"_\":\n",
    "         print(function)"
   ]
  },
  {
   "cell_type": "code",
   "execution_count": 39,
   "id": "59b3d1d6-6c02-4c19-8468-72d7c26b889a",
   "metadata": {},
   "outputs": [
    {
     "name": "stdout",
     "output_type": "stream",
     "text": [
      "32.0\n",
      "100.0\n"
     ]
    }
   ],
   "source": [
    "print(tc.celsius_to_fahr(0))\n",
    "print(tc.fahr_to_celsius(212))"
   ]
  },
  {
   "cell_type": "code",
   "execution_count": 40,
   "id": "95108c28-57a0-4ec0-8d16-ed993ae62386",
   "metadata": {},
   "outputs": [
    {
     "name": "stdout",
     "output_type": "stream",
     "text": [
      "from: 30 c to: f 86.0\n",
      "86.0\n"
     ]
    }
   ],
   "source": [
    "print(tc.temp_converter(30, \"C\"))"
   ]
  },
  {
   "cell_type": "markdown",
   "id": "74cc5750-7dff-4c61-be34-c8d8914f91e7",
   "metadata": {
    "toc-hr-collapsed": true
   },
   "source": [
    "### function as parameter"
   ]
  },
  {
   "cell_type": "code",
   "execution_count": 41,
   "id": "a6da40f4-d506-45d8-b51b-175ea94e26aa",
   "metadata": {},
   "outputs": [],
   "source": [
    "def aggregate_list(a_list, func):\n",
    "    result = func(a_list)\n",
    "    return result"
   ]
  },
  {
   "cell_type": "code",
   "execution_count": 42,
   "id": "e134d853-630c-4586-8536-4729bc972b31",
   "metadata": {},
   "outputs": [
    {
     "name": "stdout",
     "output_type": "stream",
     "text": [
      "15\n",
      "5\n"
     ]
    }
   ],
   "source": [
    "x = [1,2,3,4,5]\n",
    "print(aggregate_list(x,sum))\n",
    "print(aggregate_list(x,max))"
   ]
  },
  {
   "cell_type": "code",
   "execution_count": 43,
   "id": "75819c88-1213-498b-8c38-50f58752154f",
   "metadata": {},
   "outputs": [
    {
     "name": "stdout",
     "output_type": "stream",
     "text": [
      "True\n",
      "True\n"
     ]
    }
   ],
   "source": [
    "print(callable(list))\n",
    "print(callable(aggregate_list))"
   ]
  },
  {
   "cell_type": "markdown",
   "id": "dde33962-8875-420b-b6c5-5d7f76c13cbb",
   "metadata": {
    "toc-hr-collapsed": true
   },
   "source": [
    "### attributes"
   ]
  },
  {
   "cell_type": "code",
   "execution_count": 44,
   "id": "93428be9-8aa5-4e07-ba84-b6b5835ad819",
   "metadata": {},
   "outputs": [
    {
     "data": {
      "text/plain": [
       "'temp_converter'"
      ]
     },
     "execution_count": 44,
     "metadata": {},
     "output_type": "execute_result"
    }
   ],
   "source": [
    "tc.temp_converter.__name__"
   ]
  },
  {
   "cell_type": "code",
   "execution_count": 45,
   "id": "3f5f48a0-a187-41f2-940e-3e7a89f048ab",
   "metadata": {},
   "outputs": [
    {
     "name": "stdout",
     "output_type": "stream",
     "text": [
      "\n",
      "    Function for converting temperature from one scale to another.\n",
      "\n",
      "    Parameters\n",
      "    ----------\n",
      "    temp: <numerical>\n",
      "        Temperature \n",
      "    convert_from: <str>\n",
      "        Input temperature scale. Supported values: 'c' | 'f' | 'k'\n",
      "    convert_to: <str>\n",
      "        Output temperature scale. Supported values: 'c' | 'f' | 'k'\n",
      "\n",
      "    Returns\n",
      "    -------\n",
      "    Converted temperature <float>.\n",
      "    \n",
      "    \n"
     ]
    }
   ],
   "source": [
    "print(tc.temp_converter.__doc__)"
   ]
  },
  {
   "cell_type": "markdown",
   "id": "626a687d-279d-43cc-9d1f-c8659668b675",
   "metadata": {
    "toc-hr-collapsed": true
   },
   "source": [
    "## Anonymous functions  \n",
    "- function in one line  \n",
    "- for simple one line functions  \n",
    "- declared using lambda keyword  \n",
    "- lambda param1, param2: expression  \n",
    "- no name, no return keyword  \n",
    "- most useful feature is they can be passed as argument to a function"
   ]
  },
  {
   "cell_type": "markdown",
   "id": "99cf336e-ae3e-41b8-a3f0-170983eb373e",
   "metadata": {
    "toc-hr-collapsed": true
   },
   "source": [
    "### format  \n",
    "- A lambda function evaluates an expression for a given argument.  \n",
    "- The keyword lambda must come first.  \n",
    "- A full colon (:) separates the arguments and the expression."
   ]
  },
  {
   "cell_type": "code",
   "execution_count": 12,
   "id": "10b0ebdb-4957-404e-9ac8-f6e9d1d0a36b",
   "metadata": {},
   "outputs": [],
   "source": [
    "# normal function\n",
    "def add2(x,y):\n",
    "    return x + y"
   ]
  },
  {
   "cell_type": "code",
   "execution_count": 17,
   "id": "782135a8-e743-43c4-a1b4-45aba4eb8164",
   "metadata": {},
   "outputs": [
    {
     "data": {
      "text/plain": [
       "<function __main__.<lambda>(x, y)>"
      ]
     },
     "execution_count": 17,
     "metadata": {},
     "output_type": "execute_result"
    }
   ],
   "source": [
    "lambda x,y: x + y"
   ]
  },
  {
   "cell_type": "markdown",
   "id": "9084bd2e-ae35-46c8-86a5-45a75445b663",
   "metadata": {
    "tags": [],
    "toc-hr-collapsed": true
   },
   "source": [
    "### as key for sorted"
   ]
  },
  {
   "cell_type": "code",
   "execution_count": 15,
   "id": "c0cd4ef1-af3e-4816-a369-6cc20fc153e8",
   "metadata": {},
   "outputs": [
    {
     "data": {
      "text/plain": [
       "['ac', 'bb', 'ca']"
      ]
     },
     "execution_count": 15,
     "metadata": {},
     "output_type": "execute_result"
    }
   ],
   "source": [
    "string_list = ['ac','bb','ca']"
   ]
  },
  {
   "cell_type": "code",
   "execution_count": 16,
   "id": "4074aa84-1a68-4e3b-ba13-2734fcb4ee82",
   "metadata": {},
   "outputs": [
    {
     "data": {
      "text/plain": [
       "['ca', 'bb', 'ac']"
      ]
     },
     "execution_count": 16,
     "metadata": {},
     "output_type": "execute_result"
    }
   ],
   "source": [
    "# order by second char instead of first\n",
    "sorted(string_list, key=lambda word: word[1])"
   ]
  },
  {
   "cell_type": "markdown",
   "id": "3abee39c-d978-402a-8dcf-df2cff22bbba",
   "metadata": {
    "toc-hr-collapsed": true
   },
   "source": [
    "## Map function  \n",
    "- often used with anonymous functions   \n",
    "- syntax: map(function, iterable)  \n",
    "- most cases better to use list comprehension  "
   ]
  },
  {
   "cell_type": "code",
   "execution_count": 9,
   "id": "b46dbc61-939c-41b1-a936-58eed1e7a5f3",
   "metadata": {},
   "outputs": [
    {
     "data": {
      "text/plain": [
       "<map at 0x7fa3607eafd0>"
      ]
     },
     "execution_count": 9,
     "metadata": {},
     "output_type": "execute_result"
    }
   ],
   "source": [
    "a = [1, 2, 3, 4, 5]\n",
    "m = map(lambda x: x * 2, a)\n",
    "m"
   ]
  },
  {
   "cell_type": "code",
   "execution_count": 10,
   "id": "1cd1304d-65fa-419e-b95d-2670517520cc",
   "metadata": {},
   "outputs": [
    {
     "data": {
      "text/plain": [
       "[2, 4, 6, 8, 10]"
      ]
     },
     "execution_count": 10,
     "metadata": {},
     "output_type": "execute_result"
    }
   ],
   "source": [
    "list(m)"
   ]
  },
  {
   "cell_type": "code",
   "execution_count": 11,
   "id": "5f21d04e-423b-4174-83cb-e6a880e98004",
   "metadata": {},
   "outputs": [
    {
     "data": {
      "text/plain": [
       "[2, 4, 6, 8, 10]"
      ]
     },
     "execution_count": 11,
     "metadata": {},
     "output_type": "execute_result"
    }
   ],
   "source": [
    "[x * 2 for x in a]"
   ]
  },
  {
   "cell_type": "markdown",
   "id": "508788ff-35f1-446d-9f37-75e3f44abe4c",
   "metadata": {
    "tags": [],
    "toc-hr-collapsed": true
   },
   "source": [
    "## Filter function  \n",
    "- often used with anonymous functions  \n",
    "- filter(func,iterable)  \n",
    "- most cases better to use list comprehension  "
   ]
  },
  {
   "cell_type": "code",
   "execution_count": 8,
   "id": "29b0ac5a-8009-43ac-bc30-6ee13b848118",
   "metadata": {},
   "outputs": [
    {
     "data": {
      "text/plain": [
       "<filter at 0x7fa33072db80>"
      ]
     },
     "execution_count": 8,
     "metadata": {},
     "output_type": "execute_result"
    }
   ],
   "source": [
    "a = [1, 2, 3, 4, 5]\n",
    "f = filter(lambda x: x > 3, a)\n",
    "f"
   ]
  },
  {
   "cell_type": "code",
   "execution_count": 54,
   "id": "3d7b006f-1c1e-4674-8495-89ad2d7cabc3",
   "metadata": {},
   "outputs": [
    {
     "data": {
      "text/plain": [
       "[4, 5]"
      ]
     },
     "execution_count": 54,
     "metadata": {},
     "output_type": "execute_result"
    }
   ],
   "source": [
    "list(f)"
   ]
  },
  {
   "cell_type": "code",
   "execution_count": 55,
   "id": "a72fcc89-709b-4765-a351-66c3139db564",
   "metadata": {},
   "outputs": [
    {
     "data": {
      "text/plain": [
       "[4, 5]"
      ]
     },
     "execution_count": 55,
     "metadata": {},
     "output_type": "execute_result"
    }
   ],
   "source": [
    "[x for x in a if x > 3]"
   ]
  },
  {
   "cell_type": "markdown",
   "id": "9e1619fe-a6f9-4ae6-858e-17ac556e7f19",
   "metadata": {
    "toc-hr-collapsed": true
   },
   "source": [
    "## Assert statements  \n",
    "simple method to test code"
   ]
  },
  {
   "cell_type": "raw",
   "id": "0fba4428-217d-4231-959c-6a14383e8c76",
   "metadata": {},
   "source": [
    "assert 2 + 2 == 5"
   ]
  },
  {
   "cell_type": "code",
   "execution_count": 56,
   "id": "7109d2a4-4baa-44c3-8e3e-98679e93e8cb",
   "metadata": {},
   "outputs": [],
   "source": [
    "def add2(x, y):\n",
    "    return x + y"
   ]
  },
  {
   "cell_type": "code",
   "execution_count": 57,
   "id": "24c1eff3-88c3-4198-b4ca-e5cc02ee6c7c",
   "metadata": {},
   "outputs": [],
   "source": [
    "assert add2(1,2) == 3"
   ]
  },
  {
   "cell_type": "markdown",
   "id": "37e04f18-042b-4d64-ac3e-a52886cad46e",
   "metadata": {},
   "source": [
    "## Examples"
   ]
  },
  {
   "cell_type": "code",
   "execution_count": 59,
   "id": "6165e5f9-127f-4a68-8555-23d0efce2377",
   "metadata": {},
   "outputs": [],
   "source": [
    "def temp_classifier(temp_celsius):\n",
    "    if temp_celsius < -2:\n",
    "        category = 0\n",
    "    elif temp_celsius < 2:\n",
    "        category = 1\n",
    "    elif temp_celsius < 15:\n",
    "        category = 2\n",
    "    else:\n",
    "        category = 3\n",
    "    return category"
   ]
  },
  {
   "cell_type": "code",
   "execution_count": null,
   "id": "9d0826ae-52ec-46de-8d63-445fcc1fc2cf",
   "metadata": {},
   "outputs": [],
   "source": []
  }
 ],
 "metadata": {
  "interpreter": {
   "hash": "dadb38d82647d96d5382ce5812a5d64c7d4d3210fd59b769fd19e4966085dba7"
  },
  "kernelspec": {
   "display_name": "Python 3 (ipykernel)",
   "language": "python",
   "name": "python3"
  },
  "language_info": {
   "codemirror_mode": {
    "name": "ipython",
    "version": 3
   },
   "file_extension": ".py",
   "mimetype": "text/x-python",
   "name": "python",
   "nbconvert_exporter": "python",
   "pygments_lexer": "ipython3",
   "version": "3.10.6"
  },
  "toc": {
   "base_numbering": 1,
   "nav_menu": {},
   "number_sections": true,
   "sideBar": true,
   "skip_h1_title": false,
   "title_cell": "Table of Contents",
   "title_sidebar": "Contents",
   "toc_cell": false,
   "toc_position": {},
   "toc_section_display": true,
   "toc_window_display": false
  },
  "toc-autonumbering": false,
  "toc-showcode": true,
  "toc-showmarkdowntxt": false,
  "toc-showtags": false,
  "varInspector": {
   "cols": {
    "lenName": 16,
    "lenType": 16,
    "lenVar": 40
   },
   "kernels_config": {
    "python": {
     "delete_cmd_postfix": "",
     "delete_cmd_prefix": "del ",
     "library": "var_list.py",
     "varRefreshCmd": "print(var_dic_list())"
    },
    "r": {
     "delete_cmd_postfix": ") ",
     "delete_cmd_prefix": "rm(",
     "library": "var_list.r",
     "varRefreshCmd": "cat(var_dic_list()) "
    }
   },
   "types_to_exclude": [
    "module",
    "function",
    "builtin_function_or_method",
    "instance",
    "_Feature"
   ],
   "window_display": false
  }
 },
 "nbformat": 4,
 "nbformat_minor": 5
}
