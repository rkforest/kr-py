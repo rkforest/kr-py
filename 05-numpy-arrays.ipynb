{
 "cells": [
  {
   "cell_type": "markdown",
   "id": "4a0ca674-cb25-40a5-8d6c-f500b646596d",
   "metadata": {
    "tags": []
   },
   "source": [
    "<a id='np'></a>\n",
    "# Numpy arrays\n",
    "- numpy provides a standardized data structures for homogeous arrays\n",
    "  - numpy.ndarray()\n",
    "- facilitates efficient computation   \n",
    "  - vectorized operations\n",
    "- numpy is the foundation for many other, more specialized, libraries in Python:\n",
    "  - pandas for working with tables \n",
    "  - geopandas for working with vector layers\n",
    "  - xarray and rasterio for working with rasters "
   ]
  },
  {
   "cell_type": "markdown",
   "id": "78dc245b-56f4-4584-966f-547f6e982c90",
   "metadata": {},
   "source": [
    "[Create](#np-create)  \n",
    "[Import](#np-import)  \n",
    "[Explore](#np-explore)  \n",
    "[Transform](#np-transform)  \n",
    "[Select](#np-select)   \n",
    "[Filter](#np-filter)  \n",
    "[Aggregate](#np-aggregate)   \n",
    "[Missing Values](#np-missing)     \n",
    "[Visualize](#np-visualize)  "
   ]
  },
  {
   "cell_type": "markdown",
   "id": "19efe6c7-b527-440e-b4fe-35bb50f92066",
   "metadata": {
    "tags": [],
    "toc-hr-collapsed": true
   },
   "source": [
    "## Initialize"
   ]
  },
  {
   "cell_type": "markdown",
   "id": "702e072e-3dbc-40ad-951a-9e7aa6bcfd8d",
   "metadata": {},
   "source": [
    "### libraries"
   ]
  },
  {
   "cell_type": "code",
   "execution_count": 1,
   "id": "permanent-germany",
   "metadata": {},
   "outputs": [],
   "source": [
    "import os\n",
    "import calendar\n",
    "import requests\n",
    "\n",
    "import numpy as np\n",
    "import matplotlib.pyplot as plt\n",
    "from matplotlib.colors import ListedColormap\n",
    "import seaborn as sns"
   ]
  },
  {
   "cell_type": "code",
   "execution_count": 2,
   "id": "c7736d4e-5b1b-4463-98dd-ca1f2e49539c",
   "metadata": {},
   "outputs": [
    {
     "data": {
      "text/plain": [
       "'1.24.1'"
      ]
     },
     "execution_count": 2,
     "metadata": {},
     "output_type": "execute_result"
    }
   ],
   "source": [
    "np.__version__"
   ]
  },
  {
   "cell_type": "markdown",
   "id": "1f70d586-71eb-4c8c-8d69-e8e4c6bee49e",
   "metadata": {},
   "source": [
    "### directories"
   ]
  },
  {
   "cell_type": "code",
   "execution_count": 3,
   "id": "2deaad7b-f17c-4c82-b8dd-9d3f4a4cb617",
   "metadata": {},
   "outputs": [],
   "source": [
    "home_dir = home_dir = os.path.expanduser(\"~\")\n",
    "\n",
    "work_dir = os.path.join(home_dir, 'kr', 'py')\n",
    "data_dir = os.path.join(home_dir, 'kr', 'py', 'data')\n",
    "save_dir = os.path.join(home_dir, 'kr', 'py', 'save')"
   ]
  },
  {
   "cell_type": "code",
   "execution_count": 4,
   "id": "47ed27bb-9ca7-418b-a4d3-a3b1e5b29c07",
   "metadata": {},
   "outputs": [
    {
     "data": {
      "text/plain": [
       "'/Users/rkforest/kr/py'"
      ]
     },
     "execution_count": 4,
     "metadata": {},
     "output_type": "execute_result"
    }
   ],
   "source": [
    "os.chdir(work_dir)\n",
    "os.getcwd()"
   ]
  },
  {
   "cell_type": "markdown",
   "id": "1cd120b6-29a3-446f-b060-f1b035dcd919",
   "metadata": {
    "tags": []
   },
   "source": [
    "### parameters"
   ]
  },
  {
   "cell_type": "code",
   "execution_count": 5,
   "id": "85bf1671-38fa-4053-82ba-4dc4755d3817",
   "metadata": {},
   "outputs": [],
   "source": [
    "# shows result of cell without needing print\n",
    "from IPython.core.interactiveshell import InteractiveShell\n",
    "InteractiveShell.ast_node_interactivity = \"last_expr_or_assign\""
   ]
  },
  {
   "cell_type": "code",
   "execution_count": 6,
   "id": "a7cb3ae6-d32f-4821-be97-8f6abaf3cb95",
   "metadata": {},
   "outputs": [],
   "source": [
    "sns.set(font_scale=1.5, style=\"darkgrid\")"
   ]
  },
  {
   "cell_type": "code",
   "execution_count": 7,
   "id": "b0c30bd8-3228-4c39-865b-15b33edb7a9d",
   "metadata": {},
   "outputs": [
    {
     "name": "stdout",
     "output_type": "stream",
     "text": [
      "18.0\n",
      "18.0\n",
      "16.5\n",
      "16.5\n"
     ]
    }
   ],
   "source": [
    "print(plt.rcParams['axes.titlesize'])\n",
    "print(plt.rcParams['axes.labelsize'])\n",
    "print(plt.rcParams['xtick.labelsize'])\n",
    "print(plt.rcParams['ytick.labelsize'])"
   ]
  },
  {
   "cell_type": "code",
   "execution_count": 8,
   "id": "9d5410db-f784-4e80-883d-0f626e153fa1",
   "metadata": {
    "tags": []
   },
   "outputs": [],
   "source": [
    "plt.rcParams['figure.figsize'] = (8, 4)\n",
    "plt.rcParams['figure.dpi'] = 144\n",
    "plt.rcParams['axes.linewidth'] = 0.5\n",
    "plt.rcParams['axes.titlesize'] = 12\n",
    "plt.rcParams['axes.labelsize'] = 10\n",
    "plt.rcParams['xtick.labelsize'] = 10\n",
    "plt.rcParams['ytick.labelsize'] = 10"
   ]
  },
  {
   "cell_type": "markdown",
   "id": "b42ed0ff-2380-4e89-af9c-8bc6d6eda22b",
   "metadata": {},
   "source": [
    "### constants"
   ]
  },
  {
   "cell_type": "code",
   "execution_count": 9,
   "id": "18d61fa4-6846-4d14-be19-021c01cc0053",
   "metadata": {},
   "outputs": [],
   "source": [
    "months = [month for month in calendar.month_abbr if month];"
   ]
  },
  {
   "cell_type": "code",
   "execution_count": 10,
   "id": "40e37a48-41b9-454e-b418-ce7a8a360fa7",
   "metadata": {},
   "outputs": [
    {
     "data": {
      "text/plain": [
       "1.8"
      ]
     },
     "execution_count": 10,
     "metadata": {},
     "output_type": "execute_result"
    }
   ],
   "source": [
    "celsius_to_fahr = 1.8"
   ]
  },
  {
   "cell_type": "markdown",
   "id": "c0e2d02b-fe55-4562-8f23-25de8fb9d8bb",
   "metadata": {
    "tags": []
   },
   "source": [
    "<a id='np-create'></a>\n",
    "## Create"
   ]
  },
  {
   "cell_type": "markdown",
   "id": "397fd55a-88bb-4cde-983c-6b96833fb7f4",
   "metadata": {},
   "source": [
    "[Return to Start of Notebook](#np)  "
   ]
  },
  {
   "cell_type": "raw",
   "id": "f1cf7682-9785-42b7-9b9c-488450573c96",
   "metadata": {},
   "source": [
    "#a = np.array([1,2,3,4,5]) # one dimension from list\n",
    "#a = np.array([[1,2,3,4],[5,6,7,8]]) # two dimensions from list\n",
    "#a = np.array([1, 1, 1], dtype = \"float64\")\n",
    "#a = np.array([1, 1, 1], dtype = np.float64)\n",
    "#a = np.arange(1, 11, 1) # start, stop+, step\n",
    "#a = np.tile(a,2) # (values, repeat)\n",
    "#a = np.repeat([1, 2, 3], 3) # repeat each value\n",
    "#a = np.zeros(10) # all zeros\n",
    "#a = np.ones(10) # all ones\n",
    "#a = np.full(10,5) # constant (length, value)\n",
    "#a = np.linspace(0, 90, 10) # even spaced values(start,stop,num) (default num is 50)\n",
    "#a = np.random.random(5) # random values between 0.0 and 1.0\n",
    "#a = np.random.normal(0,10,3) # random numbers from a normal distribution\n",
    "#a = np.random.randint(0,10,5) # random integers"
   ]
  },
  {
   "cell_type": "markdown",
   "id": "36799fc2-f447-4ad1-acf2-886ad2ac10fe",
   "metadata": {},
   "source": [
    "### 3-dimensions\n",
    "- NumPy reports the shape of 3D arrays in the order layers, rows, columns."
   ]
  },
  {
   "cell_type": "code",
   "execution_count": 11,
   "id": "c8269ad8-840e-45f7-a0db-0b8161c00547",
   "metadata": {},
   "outputs": [
    {
     "data": {
      "text/plain": [
       "3"
      ]
     },
     "execution_count": 11,
     "metadata": {},
     "output_type": "execute_result"
    }
   ],
   "source": [
    "a = np.array([[[1,2,3],\n",
    "               [1,2,3]],\n",
    "              [[1,2,3],\n",
    "               [1,2,3]]])\n",
    "a.ndim"
   ]
  },
  {
   "cell_type": "code",
   "execution_count": 12,
   "id": "b83d0485-86b0-4f28-ae4b-2e8b28e887e3",
   "metadata": {},
   "outputs": [
    {
     "data": {
      "text/plain": [
       "(2, 2, 3)"
      ]
     },
     "execution_count": 12,
     "metadata": {},
     "output_type": "execute_result"
    }
   ],
   "source": [
    "a.shape"
   ]
  },
  {
   "cell_type": "markdown",
   "id": "c4ffb6cf-ce88-42df-b777-1fd7ed9463ba",
   "metadata": {
    "tags": [],
    "toc-hr-collapsed": true
   },
   "source": [
    "<a id='np-import'></a>\n",
    "## Import"
   ]
  },
  {
   "cell_type": "markdown",
   "id": "01acdd54-3c00-464b-9b8a-6d0d275785e0",
   "metadata": {},
   "source": [
    "[Return to Start of Notebook](#np)  "
   ]
  },
  {
   "cell_type": "markdown",
   "id": "c04c1fd4-d206-47a5-aac4-b7c75888dd49",
   "metadata": {},
   "source": [
    "- np.loadtxt  (if no missing values)\n",
    "- np.genfromtxt"
   ]
  },
  {
   "cell_type": "markdown",
   "id": "a6010838-0555-477d-8bbd-5b791ea0795f",
   "metadata": {},
   "source": [
    "### url"
   ]
  },
  {
   "cell_type": "code",
   "execution_count": 13,
   "id": "9b52bced-2610-40e8-b9bd-83ae8d3f876f",
   "metadata": {},
   "outputs": [
    {
     "data": {
      "text/plain": [
       "'https://data.giss.nasa.gov/gistemp/tabledata_v4/'"
      ]
     },
     "execution_count": 13,
     "metadata": {},
     "output_type": "execute_result"
    }
   ],
   "source": [
    "giss_url = \"https://data.giss.nasa.gov/gistemp/tabledata_v4/\""
   ]
  },
  {
   "cell_type": "code",
   "execution_count": 14,
   "id": "c247f257-5d9e-4c7a-9524-8105a6816512",
   "metadata": {},
   "outputs": [
    {
     "data": {
      "text/plain": [
       "'https://data.giss.nasa.gov/gistemp/tabledata_v4/GLB.Ts+dSST.csv'"
      ]
     },
     "execution_count": 14,
     "metadata": {},
     "output_type": "execute_result"
    }
   ],
   "source": [
    "file_id = \"GLB\"\n",
    "file_name = file_id + \".Ts+dSST.csv\"\n",
    "file_url = giss_url + file_name"
   ]
  },
  {
   "cell_type": "code",
   "execution_count": 15,
   "id": "1ae6bf81-62f8-4fa0-ac69-4da5a30ff3a0",
   "metadata": {},
   "outputs": [
    {
     "data": {
      "text/plain": [
       "'/Users/rkforest/kr/py/data/GLB.Ts+dSST.csv'"
      ]
     },
     "execution_count": 15,
     "metadata": {},
     "output_type": "execute_result"
    }
   ],
   "source": [
    "file_path = os.path.join(data_dir, file_name)\n",
    "file_path"
   ]
  },
  {
   "cell_type": "code",
   "execution_count": 16,
   "id": "59b8d0fd-7d4f-4346-8a9b-be5710aa436b",
   "metadata": {},
   "outputs": [
    {
     "data": {
      "text/plain": [
       "12518"
      ]
     },
     "execution_count": 16,
     "metadata": {},
     "output_type": "execute_result"
    }
   ],
   "source": [
    "r = requests.get(file_url)\n",
    "open(file_path, 'wb').write(r.content)"
   ]
  },
  {
   "cell_type": "code",
   "execution_count": 17,
   "id": "646f7531-712d-4c24-b7ff-d949c7acbc66",
   "metadata": {},
   "outputs": [],
   "source": [
    "glb = np.genfromtxt(file_path,\n",
    "                    skip_header=2,\n",
    "                    usecols=(1,2,3,4,5,6,7,8,9,10,11,12),\n",
    "                    delimiter = \",\");"
   ]
  },
  {
   "cell_type": "code",
   "execution_count": 18,
   "id": "f0f0e0b2-a3a4-4942-b4c3-45db4581afaa",
   "metadata": {},
   "outputs": [],
   "source": [
    "yrs = np.loadtxt(file_path,\n",
    "                 skiprows=2,\n",
    "                 usecols=(0),\n",
    "                 delimiter = \",\");"
   ]
  },
  {
   "cell_type": "code",
   "execution_count": 19,
   "id": "076666e4-6caf-4bd3-a7f9-711a15dbd6b5",
   "metadata": {},
   "outputs": [
    {
     "data": {
      "text/plain": [
       "'/Users/rkforest/kr/py/data/NH.Ts+dSST.csv'"
      ]
     },
     "execution_count": 19,
     "metadata": {},
     "output_type": "execute_result"
    }
   ],
   "source": [
    "file_id = \"NH\"\n",
    "file_name = file_id + \".Ts+dSST.csv\"\n",
    "file_url = giss_url + file_name\n",
    "file_path = os.path.join(data_dir, file_name)"
   ]
  },
  {
   "cell_type": "code",
   "execution_count": 20,
   "id": "3f30eadb-88ea-479e-b302-5eb79ec63a6e",
   "metadata": {},
   "outputs": [
    {
     "data": {
      "text/plain": [
       "12561"
      ]
     },
     "execution_count": 20,
     "metadata": {},
     "output_type": "execute_result"
    }
   ],
   "source": [
    "r = requests.get(file_url)\n",
    "open(file_path, 'wb').write(r.content)"
   ]
  },
  {
   "cell_type": "code",
   "execution_count": 21,
   "id": "875d7e96-e459-403b-814e-ff405e2e77de",
   "metadata": {},
   "outputs": [],
   "source": [
    "nh = np.genfromtxt(file_path,\n",
    "                    skip_header=2,\n",
    "                    usecols=(1,2,3,4,5,6,7,8,9,10,11,12),\n",
    "                    delimiter = \",\");"
   ]
  },
  {
   "cell_type": "code",
   "execution_count": 22,
   "id": "cc6e79db-a1af-45dc-947a-f306923c3ff9",
   "metadata": {},
   "outputs": [
    {
     "data": {
      "text/plain": [
       "'/Users/rkforest/kr/py/data/SH.Ts+dSST.csv'"
      ]
     },
     "execution_count": 22,
     "metadata": {},
     "output_type": "execute_result"
    }
   ],
   "source": [
    "file_id = \"SH\"\n",
    "file_name = file_id + \".Ts+dSST.csv\"\n",
    "file_url = giss_url + file_name\n",
    "file_path = os.path.join(data_dir, file_name)"
   ]
  },
  {
   "cell_type": "code",
   "execution_count": 23,
   "id": "b5dc5cc1-1bb4-41d7-a56f-324aeff38523",
   "metadata": {},
   "outputs": [
    {
     "data": {
      "text/plain": [
       "12545"
      ]
     },
     "execution_count": 23,
     "metadata": {},
     "output_type": "execute_result"
    }
   ],
   "source": [
    "r = requests.get(file_url)\n",
    "open(file_path, 'wb').write(r.content)"
   ]
  },
  {
   "cell_type": "code",
   "execution_count": 24,
   "id": "0fc16f9e-685b-45f0-8a25-f5401872069e",
   "metadata": {},
   "outputs": [],
   "source": [
    "sh = np.genfromtxt(file_path,\n",
    "                    skip_header=2,\n",
    "                    usecols=(1,2,3,4,5,6,7,8,9,10,11,12),\n",
    "                    delimiter = \",\");"
   ]
  },
  {
   "cell_type": "markdown",
   "id": "offensive-matter",
   "metadata": {
    "tags": [],
    "toc-hr-collapsed": true
   },
   "source": [
    "<a id='np-explore'></a>\n",
    "## Explore"
   ]
  },
  {
   "cell_type": "markdown",
   "id": "99051b37-f343-43eb-a234-7f9f769f3ee2",
   "metadata": {},
   "source": [
    "[Return to Start of Notebook](#np)  "
   ]
  },
  {
   "cell_type": "markdown",
   "id": "ebd3f9ae-58a1-4b4f-98a3-a0f2bf1694e6",
   "metadata": {},
   "source": [
    "### ndim"
   ]
  },
  {
   "cell_type": "code",
   "execution_count": 25,
   "id": "277a1f66-d10a-42ec-8fba-cabedf1397e0",
   "metadata": {},
   "outputs": [
    {
     "data": {
      "text/plain": [
       "2"
      ]
     },
     "execution_count": 25,
     "metadata": {},
     "output_type": "execute_result"
    }
   ],
   "source": [
    "glb.ndim"
   ]
  },
  {
   "cell_type": "markdown",
   "id": "29e4c72b-9e0d-4d7c-a08f-d051e297e9e0",
   "metadata": {},
   "source": [
    "### shape"
   ]
  },
  {
   "cell_type": "code",
   "execution_count": 26,
   "id": "threaded-capitol",
   "metadata": {},
   "outputs": [
    {
     "data": {
      "text/plain": [
       "(143, 12)"
      ]
     },
     "execution_count": 26,
     "metadata": {},
     "output_type": "execute_result"
    }
   ],
   "source": [
    "glb.shape"
   ]
  },
  {
   "cell_type": "code",
   "execution_count": 27,
   "id": "bd153fa4-3916-463b-8f6b-09e0bb16c538",
   "metadata": {},
   "outputs": [
    {
     "data": {
      "text/plain": [
       "12"
      ]
     },
     "execution_count": 27,
     "metadata": {},
     "output_type": "execute_result"
    }
   ],
   "source": [
    "rows = glb.shape[0]\n",
    "cols = glb.shape[1]"
   ]
  },
  {
   "cell_type": "code",
   "execution_count": 28,
   "id": "49bcea9a-848c-4ee8-9349-3de53b0d36f3",
   "metadata": {},
   "outputs": [
    {
     "data": {
      "text/plain": [
       "(143,)"
      ]
     },
     "execution_count": 28,
     "metadata": {},
     "output_type": "execute_result"
    }
   ],
   "source": [
    "yrs.shape"
   ]
  },
  {
   "cell_type": "markdown",
   "id": "83ec5b41-5bd8-4338-848e-8b80c25ccb86",
   "metadata": {},
   "source": [
    "### size"
   ]
  },
  {
   "cell_type": "code",
   "execution_count": 29,
   "id": "95388c75-8c42-4e53-88d3-db528bd28a98",
   "metadata": {},
   "outputs": [
    {
     "data": {
      "text/plain": [
       "1716"
      ]
     },
     "execution_count": 29,
     "metadata": {},
     "output_type": "execute_result"
    }
   ],
   "source": [
    "glb.size"
   ]
  },
  {
   "cell_type": "markdown",
   "id": "a2feac3f-9a6e-4c4d-8775-3ce634c4009a",
   "metadata": {},
   "source": [
    "### dtype"
   ]
  },
  {
   "cell_type": "code",
   "execution_count": 30,
   "id": "47b249c3-164c-4f5a-a9c6-48b28506936a",
   "metadata": {},
   "outputs": [
    {
     "data": {
      "text/plain": [
       "dtype('float64')"
      ]
     },
     "execution_count": 30,
     "metadata": {},
     "output_type": "execute_result"
    }
   ],
   "source": [
    "glb.dtype"
   ]
  },
  {
   "cell_type": "markdown",
   "id": "ad9622aa-0329-46ad-a61f-6fa91c455d75",
   "metadata": {
    "toc-hr-collapsed": true
   },
   "source": [
    "<a id='np-missing'></a>\n",
    "## Missing Values"
   ]
  },
  {
   "cell_type": "markdown",
   "id": "87e00bd6-c877-433a-900a-df5265f3900e",
   "metadata": {},
   "source": [
    "[Return to Start of Notebook](#np)  "
   ]
  },
  {
   "cell_type": "markdown",
   "id": "03de0409-ceae-47d1-99c0-b16311afee7c",
   "metadata": {},
   "source": [
    "### np.isnan()"
   ]
  },
  {
   "cell_type": "code",
   "execution_count": 31,
   "id": "9a58055c-d9a8-4c93-b3c9-7dbbead64374",
   "metadata": {},
   "outputs": [
    {
     "data": {
      "text/plain": [
       "array([[False, False, False, ..., False, False, False],\n",
       "       [False, False, False, ..., False, False, False],\n",
       "       [False, False, False, ..., False, False, False],\n",
       "       ...,\n",
       "       [False, False, False, ..., False, False, False],\n",
       "       [False, False, False, ..., False, False, False],\n",
       "       [False, False, False, ..., False, False, False]])"
      ]
     },
     "execution_count": 31,
     "metadata": {},
     "output_type": "execute_result"
    }
   ],
   "source": [
    "np.isnan(glb)"
   ]
  },
  {
   "cell_type": "markdown",
   "id": "76cb4304-3c66-4b84-9e56-b5c9d471e3f0",
   "metadata": {},
   "source": [
    "### np.nansum(np.isnan())"
   ]
  },
  {
   "cell_type": "code",
   "execution_count": 32,
   "id": "fd56dfa6-083b-4ee0-a28b-a717d27acb57",
   "metadata": {},
   "outputs": [
    {
     "data": {
      "text/plain": [
       "0"
      ]
     },
     "execution_count": 32,
     "metadata": {},
     "output_type": "execute_result"
    }
   ],
   "source": [
    "np.nansum(np.isnan(glb))"
   ]
  },
  {
   "cell_type": "markdown",
   "id": "e6621528-9fcf-4638-87e2-48886cfed3eb",
   "metadata": {},
   "source": [
    "### ~np.isnan()\n",
    "- will flatten if doing entire array\n",
    "- remove rows or columns separately"
   ]
  },
  {
   "cell_type": "code",
   "execution_count": 33,
   "id": "1bf2444a-878a-4d14-854f-66355824a2b1",
   "metadata": {},
   "outputs": [
    {
     "data": {
      "text/plain": [
       "0"
      ]
     },
     "execution_count": 33,
     "metadata": {},
     "output_type": "execute_result"
    }
   ],
   "source": [
    "glbx = glb[~np.isnan(glb)]\n",
    "np.nansum(np.isnan(glbx))"
   ]
  },
  {
   "cell_type": "code",
   "execution_count": 34,
   "id": "9ebc5793-89d1-447b-b96c-710002bd6b78",
   "metadata": {},
   "outputs": [
    {
     "data": {
      "text/plain": [
       "1"
      ]
     },
     "execution_count": 34,
     "metadata": {},
     "output_type": "execute_result"
    }
   ],
   "source": [
    "glbx.ndim"
   ]
  },
  {
   "cell_type": "code",
   "execution_count": 35,
   "id": "65c43041-6d1c-4fff-bd15-8f142b5b192a",
   "metadata": {},
   "outputs": [
    {
     "data": {
      "text/plain": [
       "0"
      ]
     },
     "execution_count": 35,
     "metadata": {},
     "output_type": "execute_result"
    }
   ],
   "source": [
    "filt = ~np.isnan(glb).any(axis=1)\n",
    "glbx = glb[filt]\n",
    "np.nansum(np.isnan(glbx))"
   ]
  },
  {
   "cell_type": "code",
   "execution_count": 36,
   "id": "5edd6698-5f90-49c5-a57f-4592ae53c2e6",
   "metadata": {},
   "outputs": [
    {
     "data": {
      "text/plain": [
       "2"
      ]
     },
     "execution_count": 36,
     "metadata": {},
     "output_type": "execute_result"
    }
   ],
   "source": [
    "glbx.ndim"
   ]
  },
  {
   "cell_type": "code",
   "execution_count": 37,
   "id": "c88b538e-6414-421e-bb0c-d7b9c67f6f89",
   "metadata": {},
   "outputs": [
    {
     "data": {
      "text/plain": [
       "array([[-0.36, -0.51, -0.23, ..., -0.32, -0.43, -0.4 ],\n",
       "       [-0.31, -0.22, -0.04, ..., -0.44, -0.37, -0.24],\n",
       "       [ 0.26,  0.21,  0.02, ..., -0.52, -0.34, -0.69],\n",
       "       ...,\n",
       "       [ 1.57,  1.7 ,  1.65, ...,  1.21,  1.6 ,  1.23],\n",
       "       [ 1.26,  0.95,  1.2 , ...,  1.3 ,  1.3 ,  1.17],\n",
       "       [ 1.24,  1.16,  1.42, ...,  1.31,  1.08,  1.08]])"
      ]
     },
     "execution_count": 37,
     "metadata": {},
     "output_type": "execute_result"
    }
   ],
   "source": [
    "filt = ~np.isnan(nh).any(axis=1)\n",
    "nhx = nh[filt]"
   ]
  },
  {
   "cell_type": "code",
   "execution_count": 38,
   "id": "c28e781f-09a4-488d-94df-a67531ed80f1",
   "metadata": {},
   "outputs": [
    {
     "data": {
      "text/plain": [
       "array([[ 0.01,  0.04,  0.07, ..., -0.14,  0.01,  0.06],\n",
       "       [-0.07, -0.05,  0.1 , ...,  0.01,  0.01,  0.1 ],\n",
       "       [ 0.08,  0.08,  0.08, ...,  0.04,  0.  , -0.06],\n",
       "       ...,\n",
       "       [ 0.74,  0.77,  0.67, ...,  0.57,  0.6 ,  0.39],\n",
       "       [ 0.36,  0.32,  0.56, ...,  0.69,  0.56,  0.57],\n",
       "       [ 0.57,  0.61,  0.67, ...,  0.62,  0.35,  0.52]])"
      ]
     },
     "execution_count": 38,
     "metadata": {},
     "output_type": "execute_result"
    }
   ],
   "source": [
    "filt = ~np.isnan(sh).any(axis=1)\n",
    "shx = sh[filt]"
   ]
  },
  {
   "cell_type": "markdown",
   "id": "5e71a3fa-cae3-400c-ac66-aebcd62a479a",
   "metadata": {
    "tags": []
   },
   "source": [
    "<a id='np-transform'></a>\n",
    "## Transform"
   ]
  },
  {
   "cell_type": "markdown",
   "id": "f3861d6c-bd9d-4508-910b-095d85066d7f",
   "metadata": {},
   "source": [
    "[Return to Start of Notebook](#np)  "
   ]
  },
  {
   "cell_type": "markdown",
   "id": "e07a0025-35f7-40d4-b35b-426550e38d5b",
   "metadata": {},
   "source": [
    "### flatten"
   ]
  },
  {
   "cell_type": "code",
   "execution_count": 39,
   "id": "40919834-1649-4224-aac9-6a09782ee11d",
   "metadata": {},
   "outputs": [
    {
     "data": {
      "text/plain": [
       "(143, 12)"
      ]
     },
     "execution_count": 39,
     "metadata": {},
     "output_type": "execute_result"
    }
   ],
   "source": [
    "glb.shape"
   ]
  },
  {
   "cell_type": "code",
   "execution_count": 40,
   "id": "7be2cd70-58fd-4c81-96d0-8523f02d6c18",
   "metadata": {},
   "outputs": [
    {
     "data": {
      "text/plain": [
       "(1716,)"
      ]
     },
     "execution_count": 40,
     "metadata": {},
     "output_type": "execute_result"
    }
   ],
   "source": [
    "glb1d = glb.flatten() # required for histogram\n",
    "glb1d.shape"
   ]
  },
  {
   "cell_type": "markdown",
   "id": "ada94f2a-bc89-4b66-92b2-3fd97c42368b",
   "metadata": {},
   "source": [
    "### reshape"
   ]
  },
  {
   "cell_type": "code",
   "execution_count": 41,
   "id": "bb2bba95-a542-4d57-9703-e368e4e8cc61",
   "metadata": {},
   "outputs": [],
   "source": [
    "glb2d = glb1d.reshape((rows,cols));"
   ]
  },
  {
   "cell_type": "markdown",
   "id": "64f01eda-11c9-41c1-b036-7bcb197bf089",
   "metadata": {},
   "source": [
    "### transpose"
   ]
  },
  {
   "cell_type": "code",
   "execution_count": 42,
   "id": "b2e44f79-5c26-4bfa-ad9c-e8ffe1850f72",
   "metadata": {},
   "outputs": [
    {
     "data": {
      "text/plain": [
       "array([[-0.18, -0.19,  0.17, ...,  1.16,  0.81,  0.91],\n",
       "       [-0.24, -0.13,  0.14, ...,  1.24,  0.64,  0.89],\n",
       "       [-0.08,  0.04,  0.05, ...,  1.17,  0.89,  1.05],\n",
       "       ...,\n",
       "       [-0.23, -0.21, -0.23, ...,  0.89,  1.  ,  0.97],\n",
       "       [-0.21, -0.18, -0.16, ...,  1.1 ,  0.93,  0.72],\n",
       "       [-0.17, -0.06, -0.36, ...,  0.81,  0.87,  0.8 ]])"
      ]
     },
     "execution_count": 42,
     "metadata": {},
     "output_type": "execute_result"
    }
   ],
   "source": [
    "glbT = glb.T"
   ]
  },
  {
   "cell_type": "markdown",
   "id": "678ac789-65a6-453b-876e-101d900a563e",
   "metadata": {},
   "source": [
    "### add dimension"
   ]
  },
  {
   "cell_type": "code",
   "execution_count": 43,
   "id": "e9cfc95b-067d-4600-8eb5-c3b7dde549f1",
   "metadata": {},
   "outputs": [
    {
     "data": {
      "text/plain": [
       "2"
      ]
     },
     "execution_count": 43,
     "metadata": {},
     "output_type": "execute_result"
    }
   ],
   "source": [
    "glb.ndim"
   ]
  },
  {
   "cell_type": "code",
   "execution_count": 44,
   "id": "6085bbf6-1c18-4e87-ba03-c312a25ab0e8",
   "metadata": {},
   "outputs": [
    {
     "data": {
      "text/plain": [
       "3"
      ]
     },
     "execution_count": 44,
     "metadata": {},
     "output_type": "execute_result"
    }
   ],
   "source": [
    "glb3d = glb[:, np.newaxis]\n",
    "glb3d.ndim"
   ]
  },
  {
   "cell_type": "markdown",
   "id": "7e1d738b-5177-486f-a62f-b38e6a35a7a7",
   "metadata": {},
   "source": [
    "### .astype"
   ]
  },
  {
   "cell_type": "raw",
   "id": "b42d7951-89a9-4628-96eb-757bcc7e9c2a",
   "metadata": {},
   "source": [
    "a = a.astype(np.float64)\n",
    "a = a.astype(np.int64)\n",
    "a = a.astype(np.int32)"
   ]
  },
  {
   "cell_type": "markdown",
   "id": "9671fff9-b476-4fe5-8c7c-b18d18be5cc5",
   "metadata": {},
   "source": [
    "### vectorized operations"
   ]
  },
  {
   "cell_type": "code",
   "execution_count": 45,
   "id": "78e6a77b-dfc6-4fed-a1b3-e79c3b096f43",
   "metadata": {},
   "outputs": [
    {
     "data": {
      "text/plain": [
       "array([[-0.324, -0.432, -0.144, ..., -0.414, -0.378, -0.306],\n",
       "       [-0.342, -0.234,  0.072, ..., -0.378, -0.324, -0.108],\n",
       "       [ 0.306,  0.252,  0.09 , ..., -0.414, -0.288, -0.648],\n",
       "       ...,\n",
       "       [ 2.088,  2.232,  2.106, ...,  1.602,  1.98 ,  1.458],\n",
       "       [ 1.458,  1.152,  1.602, ...,  1.8  ,  1.674,  1.566],\n",
       "       [ 1.638,  1.602,  1.89 , ...,  1.746,  1.296,  1.44 ]])"
      ]
     },
     "execution_count": 45,
     "metadata": {},
     "output_type": "execute_result"
    }
   ],
   "source": [
    "glbf = glb * celsius_to_fahr"
   ]
  },
  {
   "cell_type": "markdown",
   "id": "070aaf2e-0fda-4086-ad21-ef5a8e0a97cc",
   "metadata": {},
   "source": [
    "### .concatenate"
   ]
  },
  {
   "cell_type": "code",
   "execution_count": 46,
   "id": "58127a6e-6fe5-4b0b-9a30-a2bf49525375",
   "metadata": {},
   "outputs": [
    {
     "data": {
      "text/plain": [
       "array([[-0.18, -0.24, -0.08, ..., -0.23, -0.21, -0.17],\n",
       "       [-0.19, -0.13,  0.04, ..., -0.21, -0.18, -0.06],\n",
       "       [ 0.17,  0.14,  0.05, ..., -0.23, -0.16, -0.36],\n",
       "       ...,\n",
       "       [ 0.74,  0.77,  0.67, ...,  0.57,  0.6 ,  0.39],\n",
       "       [ 0.36,  0.32,  0.56, ...,  0.69,  0.56,  0.57],\n",
       "       [ 0.57,  0.61,  0.67, ...,  0.62,  0.35,  0.52]])"
      ]
     },
     "execution_count": 46,
     "metadata": {},
     "output_type": "execute_result"
    }
   ],
   "source": [
    "mth = np.concatenate((glbx,nhx,shx), axis=0)"
   ]
  },
  {
   "cell_type": "code",
   "execution_count": 47,
   "id": "b52e5b71-117d-4bda-991b-0ef0c677efb3",
   "metadata": {},
   "outputs": [
    {
     "data": {
      "text/plain": [
       "(429, 12)"
      ]
     },
     "execution_count": 47,
     "metadata": {},
     "output_type": "execute_result"
    }
   ],
   "source": [
    "mth.shape"
   ]
  },
  {
   "cell_type": "markdown",
   "id": "d0a5bea7-73da-4a9f-902a-3681abfe7001",
   "metadata": {
    "tags": [],
    "toc-hr-collapsed": true
   },
   "source": [
    "<a id='np-select'></a>\n",
    "## Select"
   ]
  },
  {
   "cell_type": "markdown",
   "id": "52ba9073-34ee-4dd3-95a9-9935426ba237",
   "metadata": {},
   "source": [
    "[Return to Start of Notebook](#np)  "
   ]
  },
  {
   "cell_type": "markdown",
   "id": "3eb09aed-1b32-4988-b1f8-4ab7d276ec32",
   "metadata": {},
   "source": [
    "### rows"
   ]
  },
  {
   "cell_type": "code",
   "execution_count": 48,
   "id": "wired-depth",
   "metadata": {},
   "outputs": [
    {
     "data": {
      "text/plain": [
       "array([[-0.19, -0.13,  0.04, ..., -0.21, -0.18, -0.06],\n",
       "       [ 0.17,  0.14,  0.05, ..., -0.23, -0.16, -0.36],\n",
       "       [-0.29, -0.36, -0.12, ..., -0.11, -0.24, -0.11],\n",
       "       ...,\n",
       "       [ 1.16,  1.24,  1.17, ...,  0.89,  1.1 ,  0.81],\n",
       "       [ 0.81,  0.64,  0.89, ...,  1.  ,  0.93,  0.87],\n",
       "       [ 0.91,  0.89,  1.05, ...,  0.97,  0.72,  0.8 ]])"
      ]
     },
     "execution_count": 48,
     "metadata": {},
     "output_type": "execute_result"
    }
   ],
   "source": [
    "glb[0] # first row\n",
    "glb[-1] # last row\n",
    "glb[1:3] # range of rows\n",
    "glb[:3] # from beginning\n",
    "glb[1:] # to end"
   ]
  },
  {
   "cell_type": "markdown",
   "id": "825f5b4b-f4bf-4694-a24f-7241bcd5b5bb",
   "metadata": {},
   "source": [
    "### columns"
   ]
  },
  {
   "cell_type": "code",
   "execution_count": 49,
   "id": "1d1d3712-07ab-45eb-887c-00a291e497f0",
   "metadata": {},
   "outputs": [
    {
     "data": {
      "text/plain": [
       "array([-0.18, -0.19,  0.17, -0.29, -0.12, -0.58, -0.43, -0.71, -0.33,\n",
       "       -0.08, -0.41, -0.33, -0.29, -0.81, -0.52, -0.4 , -0.21, -0.14,\n",
       "       -0.02, -0.16, -0.36, -0.21, -0.17, -0.23, -0.63, -0.34, -0.28,\n",
       "       -0.43, -0.44, -0.72, -0.42, -0.62, -0.25, -0.4 ,  0.05, -0.2 ,\n",
       "       -0.12, -0.58, -0.48, -0.21, -0.24, -0.04, -0.33, -0.28, -0.23,\n",
       "       -0.38,  0.2 , -0.27, -0.02, -0.45, -0.29, -0.1 ,  0.16, -0.23,\n",
       "       -0.21, -0.33, -0.27, -0.07,  0.08, -0.05,  0.  ,  0.18,  0.3 ,\n",
       "       -0.01,  0.36,  0.1 ,  0.15, -0.06,  0.07,  0.07, -0.26, -0.34,\n",
       "        0.11,  0.07, -0.24,  0.13, -0.13, -0.09,  0.39,  0.08,  0.  ,\n",
       "        0.07,  0.05, -0.03, -0.09, -0.08, -0.19, -0.07, -0.25, -0.11,\n",
       "        0.08, -0.03, -0.22,  0.29, -0.1 ,  0.1 , -0.03,  0.18,  0.06,\n",
       "        0.08,  0.3 ,  0.53,  0.05,  0.53,  0.31,  0.22,  0.26,  0.32,\n",
       "        0.56,  0.12,  0.41,  0.42,  0.47,  0.34,  0.26,  0.52,  0.24,\n",
       "        0.29,  0.58,  0.48,  0.25,  0.45,  0.77,  0.75,  0.58,  0.74,\n",
       "        0.56,  1.02,  0.3 ,  0.64,  0.75,  0.52,  0.49,  0.7 ,  0.76,\n",
       "        0.85,  1.17,  1.02,  0.81,  0.93,  1.16,  0.81,  0.91])"
      ]
     },
     "execution_count": 49,
     "metadata": {},
     "output_type": "execute_result"
    }
   ],
   "source": [
    "glb[:,0] # single column"
   ]
  },
  {
   "cell_type": "code",
   "execution_count": 50,
   "id": "373bc33e-288b-4d8d-a9b2-43908834abea",
   "metadata": {},
   "outputs": [],
   "source": [
    "glb[:,0:2]; # columns range"
   ]
  },
  {
   "cell_type": "code",
   "execution_count": 51,
   "id": "523c7f4a-b980-4c42-87a5-d981c0c8099f",
   "metadata": {},
   "outputs": [],
   "source": [
    "glb[:,(0,1,2)]; # specified columns"
   ]
  },
  {
   "cell_type": "markdown",
   "id": "5e7ed19b-d72e-45a5-9dc5-37d7967e020e",
   "metadata": {},
   "source": [
    "### rows and columns"
   ]
  },
  {
   "cell_type": "code",
   "execution_count": 52,
   "id": "14188632-6f29-4fb5-819f-e44657f2eea0",
   "metadata": {},
   "outputs": [
    {
     "data": {
      "text/plain": [
       "array([[-0.18, -0.24],\n",
       "       [-0.19, -0.13]])"
      ]
     },
     "execution_count": 52,
     "metadata": {},
     "output_type": "execute_result"
    }
   ],
   "source": [
    "glb[:2, :2]  ## 1st to 2nd rows, 2nd to last columns"
   ]
  },
  {
   "cell_type": "markdown",
   "id": "a0df2106-2a12-495d-bf27-6860550ffeab",
   "metadata": {},
   "source": [
    "### single value"
   ]
  },
  {
   "cell_type": "code",
   "execution_count": 53,
   "id": "09ef6f92-7528-4915-9942-7057b2e8aee4",
   "metadata": {},
   "outputs": [
    {
     "data": {
      "text/plain": [
       "-0.18"
      ]
     },
     "execution_count": 53,
     "metadata": {},
     "output_type": "execute_result"
    }
   ],
   "source": [
    "glb[0][0] \n",
    "glb[0,0]"
   ]
  },
  {
   "cell_type": "markdown",
   "id": "7679e123-4889-4f8f-960f-8290beb7e792",
   "metadata": {},
   "source": [
    "### copy"
   ]
  },
  {
   "cell_type": "markdown",
   "id": "82361f98-ac56-4ba5-9dd3-b299269453c6",
   "metadata": {},
   "source": [
    "- modifying selections also modifies original array\n",
    "- prevent using copy"
   ]
  },
  {
   "cell_type": "raw",
   "id": "173d5228-6b29-42d5-8a48-91dec9dd9252",
   "metadata": {},
   "source": [
    "glbc = glb.copy()"
   ]
  },
  {
   "cell_type": "markdown",
   "id": "f269ad2e-7f6e-4c1e-a8f3-447d16609d58",
   "metadata": {
    "tags": []
   },
   "source": [
    "<a id='np-filter'></a>\n",
    "## Filter\n",
    "Numpy arrays can be subsetted using corresponding boolean arrays, which are also known as filters or masks.   \n",
    "Any boolean array with the corresponding shape as the original array can function as a mask. "
   ]
  },
  {
   "cell_type": "markdown",
   "id": "e2f0c5f6-0a3c-4fcb-9ff9-8557383509d1",
   "metadata": {},
   "source": [
    "[Return to Start of Notebook](#np)  "
   ]
  },
  {
   "cell_type": "code",
   "execution_count": 54,
   "id": "06930e30-8295-4191-96e0-25532d0af23a",
   "metadata": {},
   "outputs": [
    {
     "data": {
      "text/plain": [
       "array([1.02, 1.09, 1.06, 1.01, 1.02, 1.01, 1.01, 1.01, 1.09, 1.02, 1.05])"
      ]
     },
     "execution_count": 54,
     "metadata": {},
     "output_type": "execute_result"
    }
   ],
   "source": [
    "filt = glb > 1\n",
    "filt = (glb > 1) & (glb < 1.1)\n",
    "#filt = (glb > 1) | (glb < -1)\n",
    "#filt = ~ (glb > -0.5)\n",
    "glb[filt]"
   ]
  },
  {
   "cell_type": "code",
   "execution_count": 55,
   "id": "0ce26c3e-781a-40fd-a0e9-590099cd508f",
   "metadata": {},
   "outputs": [
    {
     "data": {
      "text/plain": [
       "1.1170833333333334"
      ]
     },
     "execution_count": 55,
     "metadata": {},
     "output_type": "execute_result"
    }
   ],
   "source": [
    "filt = glb > 1\n",
    "glb[filt].mean()"
   ]
  },
  {
   "cell_type": "markdown",
   "id": "a3606702-60b2-49a4-ab11-662a99760174",
   "metadata": {
    "tags": []
   },
   "source": [
    "<a id='np-aggregate'></a>\n",
    "## Aggregate"
   ]
  },
  {
   "cell_type": "markdown",
   "id": "7c01cadc-7ad1-43f9-bc2d-4863e8691f61",
   "metadata": {},
   "source": [
    "[Return to Start of Notebook](#np)  "
   ]
  },
  {
   "cell_type": "markdown",
   "id": "30e6431a-5b45-49e6-b191-e702f915e65b",
   "metadata": {},
   "source": [
    "### np.mean"
   ]
  },
  {
   "cell_type": "code",
   "execution_count": 56,
   "id": "5fc383ab-fe15-4855-a942-ea36d1842732",
   "metadata": {},
   "outputs": [
    {
     "data": {
      "text/plain": [
       "array([0.058, 0.064, 0.08 , 0.056, 0.047, 0.032, 0.056, 0.054, 0.058,\n",
       "       0.084, 0.077, 0.052])"
      ]
     },
     "execution_count": 56,
     "metadata": {},
     "output_type": "execute_result"
    }
   ],
   "source": [
    "monthly_avg = np.mean(glbx,axis=0).round(3) # only if nan removed"
   ]
  },
  {
   "cell_type": "markdown",
   "id": "12b3352e-311a-45cf-ab0a-e2b388965b67",
   "metadata": {},
   "source": [
    "### np.nanmean"
   ]
  },
  {
   "cell_type": "code",
   "execution_count": 57,
   "id": "3ccb9ebc-a7c8-48dc-b81a-5b8fcd0f1d72",
   "metadata": {},
   "outputs": [
    {
     "data": {
      "text/plain": [
       "0.06"
      ]
     },
     "execution_count": 57,
     "metadata": {},
     "output_type": "execute_result"
    }
   ],
   "source": [
    "np.nanmean(glb).round(3) # if contains nan"
   ]
  },
  {
   "cell_type": "markdown",
   "id": "d441f74d-fdae-443b-9c00-78fd8dd05afb",
   "metadata": {},
   "source": [
    "### .any()"
   ]
  },
  {
   "cell_type": "code",
   "execution_count": 58,
   "id": "82c14bc2-05ec-48ab-bdbb-a426cd689c7e",
   "metadata": {},
   "outputs": [
    {
     "data": {
      "text/plain": [
       "True"
      ]
     },
     "execution_count": 58,
     "metadata": {},
     "output_type": "execute_result"
    }
   ],
   "source": [
    "(glb > 1.).any()"
   ]
  },
  {
   "cell_type": "markdown",
   "id": "d0e646dd-3f65-49b0-9ae7-b27952e3b33b",
   "metadata": {},
   "source": [
    "### .all()"
   ]
  },
  {
   "cell_type": "code",
   "execution_count": 59,
   "id": "569893a2-04da-46af-b2b2-b0ccff342ecb",
   "metadata": {},
   "outputs": [
    {
     "data": {
      "text/plain": [
       "True"
      ]
     },
     "execution_count": 59,
     "metadata": {},
     "output_type": "execute_result"
    }
   ],
   "source": [
    "(glb > -1).all()"
   ]
  },
  {
   "cell_type": "markdown",
   "id": "e27b6840-49aa-4c8e-b41e-79324710c89e",
   "metadata": {},
   "source": [
    "### .sum()"
   ]
  },
  {
   "cell_type": "code",
   "execution_count": 60,
   "id": "9e781ee3-5063-42a8-8908-7603510d69fb",
   "metadata": {},
   "outputs": [
    {
     "data": {
      "text/plain": [
       "24"
      ]
     },
     "execution_count": 60,
     "metadata": {},
     "output_type": "execute_result"
    }
   ],
   "source": [
    "(glb > 1).sum()"
   ]
  },
  {
   "cell_type": "markdown",
   "id": "6f90b84a-2dd2-42d1-a1ae-942a343d00d2",
   "metadata": {},
   "source": [
    "### axis\n",
    "- axis = 0 to summarize columns  (eliminate row dimension)\n",
    "- axis = 1 to summarize rows  (eliminate column dimension)"
   ]
  },
  {
   "cell_type": "code",
   "execution_count": 61,
   "id": "ea125747-a126-4c64-a03f-af16d91580fd",
   "metadata": {},
   "outputs": [],
   "source": [
    "year_avg = np.nanmean(glb,axis=1); # avg each row"
   ]
  },
  {
   "cell_type": "code",
   "execution_count": 62,
   "id": "73267f5f-3f92-48e7-a21c-c35dbdf338bf",
   "metadata": {},
   "outputs": [],
   "source": [
    "month_mean = np.nanmean(glb,axis=0); # avg each col"
   ]
  },
  {
   "cell_type": "code",
   "execution_count": 63,
   "id": "d1a2197b-6d9d-449f-9d1f-2708f6b221b4",
   "metadata": {},
   "outputs": [],
   "source": [
    "month_max = np.nanmax(glb,axis=0); # avg each col\n",
    "month_min = np.nanmin(glb,axis=0); # avg each col"
   ]
  },
  {
   "cell_type": "markdown",
   "id": "531bf6cf-e9ec-483b-b041-0f24dac0a623",
   "metadata": {},
   "source": [
    "<a id='np-visualize'></a>\n",
    "## Visualize"
   ]
  },
  {
   "cell_type": "markdown",
   "id": "5004ca97-4b77-47e9-98bd-5aec94890498",
   "metadata": {},
   "source": [
    "[Return to Start of Notebook](#np)  "
   ]
  },
  {
   "cell_type": "markdown",
   "id": "6b187591-3f0e-4e97-b5d2-9976f5cf7084",
   "metadata": {},
   "source": [
    "### bar plot"
   ]
  },
  {
   "cell_type": "code",
   "execution_count": 64,
   "id": "f6ec0c20-862f-446b-ae52-7256341bd702",
   "metadata": {},
   "outputs": [
    {
     "data": {
      "image/png": "[encoded data removed]",
      "text/plain": [
       "<Figure size 1152x576 with 1 Axes>"
      ]
     },
     "metadata": {},
     "output_type": "display_data"
    }
   ],
   "source": [
    "fig, ax = plt.subplots()\n",
    "\n",
    "ax.bar(x = months,\n",
    "       height = month_mean,\n",
    "       color = 'blue',\n",
    "       edgecolor = 'darkblue',\n",
    "       alpha=0.5)\n",
    "\n",
    "ax.set(title = \"Average Monthly Change\",\n",
    "           xlabel = \"\",\n",
    "           ylabel = \"Temperature (C)\")\n",
    "\n",
    "plt.show()"
   ]
  },
  {
   "cell_type": "markdown",
   "id": "c16f85fb-cfc8-4896-964b-b65c20553107",
   "metadata": {},
   "source": [
    "### scatter plot"
   ]
  },
  {
   "cell_type": "code",
   "execution_count": 65,
   "id": "19b8b00c-1e82-472d-9913-09155cf43526",
   "metadata": {},
   "outputs": [
    {
     "data": {
      "image/png": "[encoded data removed]",
      "text/plain": [
       "<Figure size 1152x576 with 1 Axes>"
      ]
     },
     "metadata": {},
     "output_type": "display_data"
    }
   ],
   "source": [
    "fig, ax = plt.subplots()\n",
    "\n",
    "ax.scatter(x = yrs,\n",
    "           y=year_avg,\n",
    "           c=year_avg,\n",
    "           cmap='coolwarm')\n",
    "\n",
    "ax.set(title = \"Average Monthly Change\",\n",
    "           xlabel = \"\",\n",
    "           ylabel = \"Temperature (C)\")\n",
    "\n",
    "plt.show()"
   ]
  },
  {
   "cell_type": "markdown",
   "id": "3e4caf34-9f8b-4542-aff1-c48c1f70eb14",
   "metadata": {},
   "source": [
    "### line plot"
   ]
  },
  {
   "cell_type": "code",
   "execution_count": 66,
   "id": "eea3740d-9323-4548-9086-c01bf41136b0",
   "metadata": {},
   "outputs": [
    {
     "data": {
      "image/png": "[encoded data removed]",
      "text/plain": [
       "<Figure size 1152x576 with 1 Axes>"
      ]
     },
     "metadata": {},
     "output_type": "display_data"
    }
   ],
   "source": [
    "fig, ax = plt.subplots()\n",
    "\n",
    "ax.plot(yrs,\n",
    "        year_avg,\n",
    "        lw = 0.5,\n",
    "        marker = 'o',\n",
    "        markersize = 2,\n",
    "        color = 'darkblue')\n",
    "\n",
    "ax.set(title = \"Average Monthly Change\",\n",
    "           xlabel = \"\",\n",
    "           ylabel = \"Temperature (C)\")\n",
    "\n",
    "plt.show()"
   ]
  },
  {
   "cell_type": "markdown",
   "id": "354a5362-275a-4cf9-9d1d-ff651ea27b45",
   "metadata": {
    "toc-hr-collapsed": true
   },
   "source": [
    "### histogram"
   ]
  },
  {
   "cell_type": "code",
   "execution_count": 67,
   "id": "9429a6dc-b2f3-434e-9e95-5df7c19da7a4",
   "metadata": {},
   "outputs": [
    {
     "data": {
      "image/png": "[encoded data removed]",
      "text/plain": [
       "<Figure size 1152x576 with 1 Axes>"
      ]
     },
     "metadata": {},
     "output_type": "display_data"
    }
   ],
   "source": [
    "fig, ax = plt.subplots()\n",
    "\n",
    "ax.hist(glb1d)\n",
    "\n",
    "ax.set(title = \"Distribution of Temperature Anomalies\",\n",
    "       xlabel = \"Temperature Change (C)\",\n",
    "       ylabel = \"Count\")\n",
    "\n",
    "plt.show()"
   ]
  },
  {
   "cell_type": "markdown",
   "id": "bf51c42d-0004-48d4-901f-ec43109c45b9",
   "metadata": {},
   "source": [
    "### pcolormesh"
   ]
  },
  {
   "cell_type": "code",
   "execution_count": 68,
   "id": "703921a5-4529-4f0b-8cbb-f2401bb6982b",
   "metadata": {},
   "outputs": [
    {
     "data": {
      "image/png": "[encoded data removed]",
      "text/plain": [
       "<Figure size 1152x576 with 1 Axes>"
      ]
     },
     "metadata": {},
     "output_type": "display_data"
    }
   ],
   "source": [
    "fig, ax = plt.subplots()\n",
    "\n",
    "ax.grid(False)\n",
    "ax.pcolormesh(glb.T,cmap='coolwarm')\n",
    "ax.set(title = \"Distribution of Temperature Anomalies\",\n",
    "       xlabel = \"Temperature Change (C)\",\n",
    "       ylabel = \"Count\")\n",
    "\n",
    "plt.show()"
   ]
  },
  {
   "cell_type": "markdown",
   "id": "74630d67-630b-4d15-9941-3e70aa65193b",
   "metadata": {},
   "source": [
    "### facet"
   ]
  },
  {
   "cell_type": "code",
   "execution_count": 69,
   "id": "7344f020-10b0-4e98-8e65-6dff22324762",
   "metadata": {},
   "outputs": [
    {
     "data": {
      "image/png": "[encoded data removed]",
      "text/plain": [
       "<Figure size 1728x720 with 2 Axes>"
      ]
     },
     "metadata": {},
     "output_type": "display_data"
    }
   ],
   "source": [
    "fig, (ax1,ax2) = plt.subplots(1,2,figsize = (12, 5), sharey=True)\n",
    "\n",
    "fig.suptitle(\"Max and Min Anomalies by Month\", fontsize = 16)\n",
    "\n",
    "ax1.scatter(x = months,\n",
    "            y = month_max,\n",
    "            color = 'red',\n",
    "            marker=',')\n",
    "\n",
    "ax1.set(title = \"Max Anomaly\",\n",
    "           xlabel = \"\",\n",
    "           ylabel = \"Temperature (C)\")\n",
    "\n",
    "ax2.scatter(x = months,\n",
    "            y = month_min,\n",
    "            color = 'blue',\n",
    "            marker='x')\n",
    "\n",
    "ax2.set(title = \"Min Anomaly\",\n",
    "           xlabel = \"\",\n",
    "           ylabel = \"\")\n",
    "\n",
    "plt.tight_layout()\n",
    "\n",
    "plt.show()"
   ]
  },
  {
   "cell_type": "code",
   "execution_count": null,
   "id": "9643926b-0afd-4f20-9d45-022b6da7cf67",
   "metadata": {},
   "outputs": [],
   "source": []
  }
 ],
 "metadata": {
  "interpreter": {
   "hash": "dadb38d82647d96d5382ce5812a5d64c7d4d3210fd59b769fd19e4966085dba7"
  },
  "kernelspec": {
   "display_name": "Python 3 (ipykernel)",
   "language": "python",
   "name": "python3"
  },
  "language_info": {
   "codemirror_mode": {
    "name": "ipython",
    "version": 3
   },
   "file_extension": ".py",
   "mimetype": "text/x-python",
   "name": "python",
   "nbconvert_exporter": "python",
   "pygments_lexer": "ipython3",
   "version": "3.11.0"
  },
  "toc-autonumbering": false
 },
 "nbformat": 4,
 "nbformat_minor": 5
}
